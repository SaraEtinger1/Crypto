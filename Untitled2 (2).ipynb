{
 "cells": [
  {
   "cell_type": "code",
   "execution_count": 1,
   "id": "91baa6ce-de7e-4375-a824-60020d1bd94b",
   "metadata": {},
   "outputs": [],
   "source": [
    "import pandas as pd\n",
    "import xlrd\n",
    "from matplotlib import pyplot as plt\n",
    "import numpy as np\n",
    "import openpyxl\n",
    "import matplotlib"
   ]
  },
  {
   "cell_type": "code",
   "execution_count": 2,
   "id": "df36bac6",
   "metadata": {},
   "outputs": [
    {
     "data": {
      "text/html": [
       "<div>\n",
       "<style scoped>\n",
       "    .dataframe tbody tr th:only-of-type {\n",
       "        vertical-align: middle;\n",
       "    }\n",
       "\n",
       "    .dataframe tbody tr th {\n",
       "        vertical-align: top;\n",
       "    }\n",
       "\n",
       "    .dataframe thead th {\n",
       "        text-align: right;\n",
       "    }\n",
       "</style>\n",
       "<table border=\"1\" class=\"dataframe\">\n",
       "  <thead>\n",
       "    <tr style=\"text-align: right;\">\n",
       "      <th></th>\n",
       "      <th>Date</th>\n",
       "      <th>DATE</th>\n",
       "      <th>Price</th>\n",
       "      <th>Open</th>\n",
       "      <th>High</th>\n",
       "      <th>Low</th>\n",
       "      <th>Vol.</th>\n",
       "      <th>Change %</th>\n",
       "      <th>SN&amp;P Adjusted</th>\n",
       "      <th>DXY Adjusted</th>\n",
       "      <th>GOLD Adjusted</th>\n",
       "      <th>ETH Price</th>\n",
       "      <th>ETH Vol.</th>\n",
       "      <th>OIL Price Adjusted</th>\n",
       "      <th>Days from the last halving</th>\n",
       "      <th>BTC_Hashprice</th>\n",
       "      <th>Crypto Volatility Index</th>\n",
       "      <th>Target Value</th>\n",
       "    </tr>\n",
       "  </thead>\n",
       "  <tbody>\n",
       "    <tr>\n",
       "      <th>0</th>\n",
       "      <td>04/21/2024</td>\n",
       "      <td>2024-04-21</td>\n",
       "      <td>64902.8</td>\n",
       "      <td>64942.1</td>\n",
       "      <td>65680.6</td>\n",
       "      <td>64618.4</td>\n",
       "      <td>45.17K</td>\n",
       "      <td>-0.0009</td>\n",
       "      <td>4953.56</td>\n",
       "      <td>105.984</td>\n",
       "      <td>2390.45</td>\n",
       "      <td>3169.62</td>\n",
       "      <td>276.66K</td>\n",
       "      <td>83.14</td>\n",
       "      <td>2</td>\n",
       "      <td>0.000003</td>\n",
       "      <td>75.1890</td>\n",
       "      <td>0</td>\n",
       "    </tr>\n",
       "    <tr>\n",
       "      <th>1</th>\n",
       "      <td>04/20/2024</td>\n",
       "      <td>2024-04-20</td>\n",
       "      <td>64961.1</td>\n",
       "      <td>63817.6</td>\n",
       "      <td>65375.6</td>\n",
       "      <td>63131.7</td>\n",
       "      <td>49.33K</td>\n",
       "      <td>0.0182</td>\n",
       "      <td>4953.56</td>\n",
       "      <td>105.984</td>\n",
       "      <td>2390.45</td>\n",
       "      <td>3156.63</td>\n",
       "      <td>256.05K</td>\n",
       "      <td>83.14</td>\n",
       "      <td>1</td>\n",
       "      <td>0.000002</td>\n",
       "      <td>74.3407</td>\n",
       "      <td>0</td>\n",
       "    </tr>\n",
       "    <tr>\n",
       "      <th>2</th>\n",
       "      <td>04/19/2024</td>\n",
       "      <td>2024-04-19</td>\n",
       "      <td>63799.1</td>\n",
       "      <td>63480.5</td>\n",
       "      <td>65441.2</td>\n",
       "      <td>59693.3</td>\n",
       "      <td>150.34K</td>\n",
       "      <td>0.0050</td>\n",
       "      <td>4953.56</td>\n",
       "      <td>105.984</td>\n",
       "      <td>2390.45</td>\n",
       "      <td>3056.23</td>\n",
       "      <td>645.65K</td>\n",
       "      <td>83.14</td>\n",
       "      <td>1439</td>\n",
       "      <td>0.000002</td>\n",
       "      <td>73.6438</td>\n",
       "      <td>0</td>\n",
       "    </tr>\n",
       "    <tr>\n",
       "      <th>3</th>\n",
       "      <td>04/18/2024</td>\n",
       "      <td>2024-04-18</td>\n",
       "      <td>63481.4</td>\n",
       "      <td>61278.9</td>\n",
       "      <td>64092.4</td>\n",
       "      <td>60822.3</td>\n",
       "      <td>97.38K</td>\n",
       "      <td>0.0359</td>\n",
       "      <td>5001.89</td>\n",
       "      <td>105.982</td>\n",
       "      <td>2378.25</td>\n",
       "      <td>3064.48</td>\n",
       "      <td>423.99K</td>\n",
       "      <td>82.73</td>\n",
       "      <td>1438</td>\n",
       "      <td>0.000002</td>\n",
       "      <td>72.4399</td>\n",
       "      <td>1</td>\n",
       "    </tr>\n",
       "    <tr>\n",
       "      <th>4</th>\n",
       "      <td>04/17/2024</td>\n",
       "      <td>2024-04-17</td>\n",
       "      <td>61278.9</td>\n",
       "      <td>63802.3</td>\n",
       "      <td>64451.5</td>\n",
       "      <td>59820.8</td>\n",
       "      <td>118.92K</td>\n",
       "      <td>-0.0396</td>\n",
       "      <td>5007.25</td>\n",
       "      <td>105.764</td>\n",
       "      <td>2360.81</td>\n",
       "      <td>2985.82</td>\n",
       "      <td>524.88K</td>\n",
       "      <td>82.69</td>\n",
       "      <td>1437</td>\n",
       "      <td>0.000002</td>\n",
       "      <td>74.0805</td>\n",
       "      <td>1</td>\n",
       "    </tr>\n",
       "  </tbody>\n",
       "</table>\n",
       "</div>"
      ],
      "text/plain": [
       "         Date       DATE    Price     Open     High      Low     Vol.  \\\n",
       "0  04/21/2024 2024-04-21  64902.8  64942.1  65680.6  64618.4   45.17K   \n",
       "1  04/20/2024 2024-04-20  64961.1  63817.6  65375.6  63131.7   49.33K   \n",
       "2  04/19/2024 2024-04-19  63799.1  63480.5  65441.2  59693.3  150.34K   \n",
       "3  04/18/2024 2024-04-18  63481.4  61278.9  64092.4  60822.3   97.38K   \n",
       "4  04/17/2024 2024-04-17  61278.9  63802.3  64451.5  59820.8  118.92K   \n",
       "\n",
       "   Change %  SN&P Adjusted  DXY Adjusted  GOLD Adjusted  ETH Price ETH Vol.  \\\n",
       "0   -0.0009        4953.56       105.984        2390.45    3169.62  276.66K   \n",
       "1    0.0182        4953.56       105.984        2390.45    3156.63  256.05K   \n",
       "2    0.0050        4953.56       105.984        2390.45    3056.23  645.65K   \n",
       "3    0.0359        5001.89       105.982        2378.25    3064.48  423.99K   \n",
       "4   -0.0396        5007.25       105.764        2360.81    2985.82  524.88K   \n",
       "\n",
       "   OIL Price Adjusted  Days from the last halving  BTC_Hashprice  \\\n",
       "0               83.14                           2       0.000003   \n",
       "1               83.14                           1       0.000002   \n",
       "2               83.14                        1439       0.000002   \n",
       "3               82.73                        1438       0.000002   \n",
       "4               82.69                        1437       0.000002   \n",
       "\n",
       "   Crypto Volatility Index  Target Value  \n",
       "0                  75.1890             0  \n",
       "1                  74.3407             0  \n",
       "2                  73.6438             0  \n",
       "3                  72.4399             1  \n",
       "4                  74.0805             1  "
      ]
     },
     "execution_count": 2,
     "metadata": {},
     "output_type": "execute_result"
    }
   ],
   "source": [
    "data=pd.read_excel('E9367CD7-C9BA-4C8B-86C9-53837D81AD49.Bitcoin Historical Data (1).xlsx')\n",
    "data.head()"
   ]
  },
  {
   "cell_type": "code",
   "execution_count": 3,
   "id": "920aa553-05c6-4ac1-a105-51f37506b93f",
   "metadata": {},
   "outputs": [
    {
     "data": {
      "image/png": "[encoded data removed]",
      "text/plain": [
       "<Figure size 640x480 with 1 Axes>"
      ]
     },
     "metadata": {},
     "output_type": "display_data"
    }
   ],
   "source": [
    "change=data['Change %']\n",
    "minChange=change.min()\n",
    "maxChange=change.max()\n",
    "step = 0.1\n",
    "xpoints = np.arange(minChange, maxChange+step,step) #כל הספרות בדילוגים של 1%\n",
    "hist, bins = np.histogram(change, bins=xpoints)\n",
    "plt.plot(xpoints[:-1], hist,label=\"Change\")\n",
    "plt.title(\"distribution\")\n",
    "plt.xlabel(\"sum\")\n",
    "plt.ylabel(\"cnt\")\n",
    "plt.legend()\n",
    "plt.show()"
   ]
  },
  {
   "cell_type": "code",
   "execution_count": 4,
   "id": "ffff506d-67ad-461c-8e7f-991c0cf80200",
   "metadata": {},
   "outputs": [
    {
     "data": {
      "image/png": "[encoded data removed]",
      "text/plain": [
       "<Figure size 640x480 with 1 Axes>"
      ]
     },
     "metadata": {},
     "output_type": "display_data"
    }
   ],
   "source": [
    "Crypto_Volatility_Index=data['Crypto Volatility Index']\n",
    "minCrypto_Volatility_Index=Crypto_Volatility_Index.min()\n",
    "maxCrypto_Volatility_Index=Crypto_Volatility_Index.max()\n",
    "step = 1\n",
    "xpoints = np.arange(minCrypto_Volatility_Index, maxCrypto_Volatility_Index+step,step) #כל הספרות בדילוגים של 1000\n",
    "# חישוב תדירות לכל טווח מחיר\n",
    "hist, bins = np.histogram(Crypto_Volatility_Index, bins=xpoints)\n",
    "plt.plot(xpoints[:-1], hist,label=\"Crypto_Volatility_Index\")\n",
    "plt.title(\"distribution\")\n",
    "plt.xlabel(\"sum\")\n",
    "plt.ylabel(\"cnt\")\n",
    "plt.legend()\n",
    "plt.show()"
   ]
  },
  {
   "cell_type": "code",
   "execution_count": null,
   "id": "914e81ba-46aa-4a18-8c70-4425a8edf624",
   "metadata": {},
   "outputs": [
    {
     "name": "stdout",
     "output_type": "stream",
     "text": [
      "             0     1                         2       3\n",
      "0         מחיר  כמות  הפרש גדול במחיר לפי ימים  אחוזים\n",
      "1       0-5000   402                       146  =C2/B2\n",
      "2   5000-10000   717                       215  =C3/B3\n",
      "3  10000-15000   244                        81  =C4/B4\n",
      "4  15000-20000   183                        46  =C5/B5\n"
     ]
    }
   ],
   "source": [
    "import openpyxl\n",
    "\n",
    "wb = openpyxl.load_workbook(filename=r'C:\\Users\\USER\\Desktop\\קריפטו\\E9367CD7-C9BA-4C8B-86C9-53837D81AD49.Bitcoin Historical Data (1).xlsx')\n",
    "\n",
    "# # גישה לגיליון ספציפי\n",
    "sheet = wb[\"גיליון1\"]\n",
    "import pandas as pd\n",
    "\n",
    "# המרת נתונים מגיליון ל-DataFrame\n",
    "df = pd.DataFrame(sheet.values)\n",
    "\n",
    "# הצגת 5 השורות הראשונות\n",
    "print(df.head())\n"
   ]
  },
  {
   "cell_type": "code",
   "execution_count": null,
   "id": "25805f66-2222-4f97-a805-ecfb553494f4",
   "metadata": {},
   "outputs": [
    {
     "data": {
      "image/png": "[encoded data removed]",
      "text/plain": [
       "<Figure size 640x480 with 1 Axes>"
      ]
     },
     "metadata": {},
     "output_type": "display_data"
    },
    {
     "data": {
      "text/plain": [
       "array([463, 757, 158, 211, 135, 246,  94, 133, 142, 110,  48,  66,  49,\n",
       "        30,   6], dtype=int64)"
      ]
     },
     "execution_count": 5,
     "metadata": {},
     "output_type": "execute_result"
    }
   ],
   "source": [
    "Price=data['Price']\n",
    "minPrice=Price.min()\n",
    "maxPrice=Price.max()\n",
    "step = 5000\n",
    "xpoints = np.arange(minPrice, maxPrice+step,step) #כל הספרות בדילוגים של 1000\n",
    "# חישוב תדירות לכל טווח מחיר\n",
    "hist, bins = np.histogram(Price, bins=xpoints)\n",
    "# plt.plot(xpoints[:-1], hist,label=\"Price\")\n",
    "# plt.bar(xpoints[:-1], hist,label=\"Price\")\n",
    "\n",
    "# plt.title(\"distribution\")\n",
    "# plt.xlabel(\"sum\")\n",
    "# plt.ylabel(\"cnt\")\n",
    "# plt.legend()\n",
    "# plt.show()\n",
    "# ///////\n",
    "# plt.bar(xpoints[:-1], hist, width=step, label=\"Price\")\n",
    "# plt.title(\"distribution\")\n",
    "# plt.xlabel(\"Price\")  # שינוי תווית ציר X\n",
    "# plt.ylabel(\"cnt\")\n",
    "# plt.legend()\n",
    "# plt.show()\n",
    "# ////////\n",
    "plt.plot(xpoints[:-1], hist, label=\"Price\")\n",
    "plt.title(\"distribution\")\n",
    "plt.xlabel(\"Price\")  # שינוי תווית ציר X\n",
    "plt.ylabel(\"cnt\")\n",
    "\n",
    "locator = matplotlib.ticker.MultipleLocator(step)  # הגדרת מרווחים של 1000\n",
    "plt.gca().xaxis.set_major_locator(locator)  # הגדרת מרווחים עיקריים\n",
    "plt.legend()\n",
    "plt.show()\n",
    "cnt=hist\n",
    "cnt"
   ]
  },
  {
   "cell_type": "code",
   "execution_count": null,
   "id": "2a466c47-487d-4b7f-b167-ae2f4f207756",
   "metadata": {},
   "outputs": [],
   "source": [
    "# // מחיר מתחיל מ0 בקפיצות של 5000\n",
    "# //  בתוך המשתנה cnt כמות חישבנו בגרף הקודם\n",
    "# // הפרש גדול לספור כמה פעמים ערך הנוכחי שווה 1 לפי מחיר \n",
    "# // אחוזים הפרש גדול לחלק לכמות\n",
    "    # ליצור גרף\n",
    "    # ציר ה x = ספירה של TARGET VALUE\n",
    "    "
   ]
  },
  {
   "cell_type": "code",
   "execution_count": null,
   "id": "4b62cf79-0215-4b09-8644-afabf668f575",
   "metadata": {},
   "outputs": [
    {
     "data": {
      "image/png": "[encoded data removed]",
      "text/plain": [
       "<Figure size 640x480 with 1 Axes>"
      ]
     },
     "metadata": {},
     "output_type": "display_data"
    }
   ],
   "source": [
    "import pandas as pd\n",
    "import matplotlib.pyplot as plt\n",
    "\n",
    "# קריאה וקביעת סוגי נתונים\n",
    "data = pd.read_excel(r'C:\\Users\\USER\\Desktop\\קריפטו\\E9367CD7-C9BA-4C8B-86C9-53837D81AD49.Bitcoin Historical Data (1).xlsx')\n",
    "data.head()\n",
    "data['Price'] = pd.to_numeric(data['Price'], errors='coerce')  # המרת ערכים מספריים\n",
    "\n",
    "# חישוב סכומים לפי טווחי מחיר\n",
    "price_ranges = np.arange(data['Price'].min(), data['Price'].max() + 1000, 1000)  # הגדרת טווחי מחיר\n",
    "counts = []  # רשימה לאחסון סכומים\n",
    "\n",
    "for i in range(len(price_ranges) - 1):\n",
    "    min_price = price_ranges[i]\n",
    "    max_price = price_ranges[i + 1]\n",
    "    filtered_data = data[(data['Price'] >= min_price) & (data['Price'] < max_price)]\n",
    "    count = filtered_data[filtered_data['Target Value'] == 1]['Target Value'].sum()\n",
    "    counts.append(count)\n",
    "\n",
    "# יצירת גרף\n",
    "plt.plot(price_ranges[:-1], counts)\n",
    "plt.title(\" target_value = 1 by price\")\n",
    "plt.xlabel(\"price \")\n",
    "plt.ylabel(\"cnt target value\")\n",
    "plt.show()\n"
   ]
  },
  {
   "cell_type": "code",
   "execution_count": null,
   "id": "c093b515-ccdc-4863-af9a-fca4e8560af8",
   "metadata": {},
   "outputs": [
    {
     "data": {
      "image/png": "[encoded data removed]",
      "text/plain": [
       "<Figure size 640x480 with 1 Axes>"
      ]
     },
     "metadata": {},
     "output_type": "display_data"
    }
   ],
   "source": [
    "Crypto_Volatility_Index=data['GOLD Adjusted']\n",
    "minCrypto_Volatility_Index=Crypto_Volatility_Index.min()\n",
    "maxCrypto_Volatility_Index=Crypto_Volatility_Index.max()\n",
    "step = 10\n",
    "xpoints = np.arange(minCrypto_Volatility_Index, maxCrypto_Volatility_Index+step,step) #כל הספרות בדילוגים של 1000\n",
    "# חישוב תדירות לכל טווח מחיר\n",
    "hist, bins = np.histogram(Crypto_Volatility_Index, bins=xpoints)\n",
    "plt.plot(xpoints[:-1], hist,label=\"GOLD\")\n",
    "plt.title(\"distribution\")\n",
    "plt.xlabel(\"sum\")\n",
    "plt.ylabel(\"cnt\")\n",
    "plt.legend()\n",
    "plt.show()"
   ]
  },
  {
   "cell_type": "code",
   "execution_count": null,
   "id": "4389bef8-0407-455d-b9f9-5ea637a30ac2",
   "metadata": {},
   "outputs": [
    {
     "data": {
      "image/png": "[encoded data removed]",
      "text/plain": [
       "<Figure size 640x480 with 1 Axes>"
      ]
     },
     "metadata": {},
     "output_type": "display_data"
    }
   ],
   "source": [
    "Crypto_Volatility_Index=data['BTC_Hashprice']\n",
    "minCrypto_Volatility_Index=Crypto_Volatility_Index.min()\n",
    "maxCrypto_Volatility_Index=Crypto_Volatility_Index.max()\n",
    "step =0.000001\n",
    "xpoints = np.arange(minCrypto_Volatility_Index, maxCrypto_Volatility_Index+step,step) #כל הספרות בדילוגים של 1000\n",
    "# חישוב תדירות לכל טווח מחיר\n",
    "hist, bins = np.histogram(Crypto_Volatility_Index, bins=xpoints)\n",
    "plt.plot(xpoints[:-1], hist,label=\"GOLD\")\n",
    "plt.title(\"distribution\")\n",
    "plt.xlabel(\"sum\")\n",
    "plt.ylabel(\"cnt\")\n",
    "plt.legend()\n",
    "plt.show()"
   ]
  },
  {
   "cell_type": "code",
   "execution_count": null,
   "id": "7bc820c9-688d-4ec1-a67f-0b410676a8d8",
   "metadata": {},
   "outputs": [],
   "source": [
    "# לעשות טווחים לכל העמודות\n",
    "\n",
    "# לעשות טבלה TARGET VALUE מול כל העמודות \n",
    "\n",
    "# DF חדש לכל טבלה עם שם ברור\n",
    "# agg פונקצית\n",
    "# pd pivot function agg\n",
    "# len() = count() // כמה פעמים מופיע כל ערך \n",
    "# sum() // סוכם TARGET VALUE =1 לפי עמודה מסוימת\n",
    "# reset index מעצב טבלה\n",
    "# עמודה חדשה \n",
    "# df['עמודה חדשה']= סכום/ספירה"
   ]
  },
  {
   "cell_type": "code",
   "execution_count": null,
   "id": "9a646b4d-7bf9-4f67-9533-33a510f01d9d",
   "metadata": {},
   "outputs": [],
   "source": [
    "import pandas as pd\n",
    "import xlrd\n",
    "from matplotlib import pyplot as plt\n",
    "import numpy as np\n",
    "import openpyxl\n",
    "import matplotlib\n",
    "\n"
   ]
  },
  {
   "cell_type": "code",
   "execution_count": null,
   "id": "09d35c2a-0ff7-4325-b43a-7771085097fb",
   "metadata": {},
   "outputs": [],
   "source": [
    "df = pd.read_excel(r'C:\\Users\\USER\\Desktop\\קריפטו\\E9367CD7-C9BA-4C8B-86C9-53837D81AD49.Bitcoin Historical Data (1).xlsx')\n",
    "# df.head()\n"
   ]
  },
  {
   "cell_type": "code",
   "execution_count": null,
   "id": "884b7233-fd2f-4c74-94f5-16e97d6fe0d2",
   "metadata": {},
   "outputs": [
    {
     "name": "stdout",
     "output_type": "stream",
     "text": [
      "Date                                  object\n",
      "DATE                          datetime64[ns]\n",
      "Price                                float64\n",
      "Open                                 float64\n",
      "High                                 float64\n",
      "Low                                  float64\n",
      "Vol.                                  object\n",
      "Change %                             float64\n",
      "SN&P Adjusted                        float64\n",
      "DXY Adjusted                         float64\n",
      "GOLD Adjusted                        float64\n",
      "ETH Price                            float64\n",
      "ETH Vol.                              object\n",
      "OIL Price Adjusted                   float64\n",
      "Days from the last halving             int64\n",
      "BTC_Hashprice                        float64\n",
      "Crypto Volatility Index              float64\n",
      "Target Value                           int64\n",
      "dtype: object\n"
     ]
    }
   ],
   "source": [
    "print(df.dtypes)"
   ]
  },
  {
   "cell_type": "code",
   "execution_count": null,
   "id": "46f15933-082e-4cc6-aecd-2fcecf252020",
   "metadata": {},
   "outputs": [
    {
     "name": "stdout",
     "output_type": "stream",
     "text": [
      "<bound method NDFrame.describe of             Date       DATE    Price     Open     High      Low     Vol.  \\\n",
      "0     04/21/2024 2024-04-21  64902.8  64942.1  65680.6  64618.4   45.17K   \n",
      "1     04/20/2024 2024-04-20  64961.1  63817.6  65375.6  63131.7   49.33K   \n",
      "2     04/19/2024 2024-04-19  63799.1  63480.5  65441.2  59693.3  150.34K   \n",
      "3     04/18/2024 2024-04-18  63481.4  61278.9  64092.4  60822.3   97.38K   \n",
      "4     04/17/2024 2024-04-17  61278.9  63802.3  64451.5  59820.8  118.92K   \n",
      "...          ...        ...      ...      ...      ...      ...      ...   \n",
      "2643  01/25/2017 2017-01-25    894.4    893.8    905.7    883.6   37.90K   \n",
      "2644  01/24/2017 2017-01-24    893.8    921.5    925.6    889.2   58.87K   \n",
      "2645  01/23/2017 2017-01-23    921.5    918.8    928.0    910.8   32.74K   \n",
      "2646  01/22/2017 2017-01-22    918.8    919.8    938.4    888.6   47.93K   \n",
      "2647  01/21/2017 2017-01-21    919.8    892.9    928.9    889.5   40.38K   \n",
      "\n",
      "      Change %  SN&P Adjusted  DXY Adjusted  GOLD Adjusted  ETH Price  \\\n",
      "0      -0.0009        4953.56       105.984        2390.45    3169.62   \n",
      "1       0.0182        4953.56       105.984        2390.45    3156.63   \n",
      "2       0.0050        4953.56       105.984        2390.45    3056.23   \n",
      "3       0.0359        5001.89       105.982        2378.25    3064.48   \n",
      "4      -0.0396        5007.25       105.764        2360.81    2985.82   \n",
      "...        ...            ...           ...            ...        ...   \n",
      "2643    0.0007        2288.90       100.252        1200.31      10.48   \n",
      "2644   -0.0301        2266.70       100.058        1208.81      10.50   \n",
      "2645    0.0029        2257.00       100.125        1217.48      10.77   \n",
      "2646   -0.0011        2257.00       100.125        1217.48      10.64   \n",
      "2647    0.0302        2257.00       100.125        1217.48      10.95   \n",
      "\n",
      "     ETH Vol.  OIL Price Adjusted  Days from the last halving  BTC_Hashprice  \\\n",
      "0     276.66K               83.14                           2       0.000003   \n",
      "1     256.05K               83.14                           1       0.000002   \n",
      "2     645.65K               83.14                        1439       0.000002   \n",
      "3     423.99K               82.73                        1438       0.000002   \n",
      "4     524.88K               82.69                        1437       0.000002   \n",
      "...       ...                 ...                         ...            ...   \n",
      "2643   26.19K               52.75                         200            NaN   \n",
      "2644  105.21K               53.18                         199            NaN   \n",
      "2645   54.39K               52.75                         198            NaN   \n",
      "2646  140.66K               52.75                         197            NaN   \n",
      "2647  125.31K               52.75                         196            NaN   \n",
      "\n",
      "      Crypto Volatility Index  Target Value  \n",
      "0                     75.1890             0  \n",
      "1                     74.3407             0  \n",
      "2                     73.6438             0  \n",
      "3                     72.4399             1  \n",
      "4                     74.0805             1  \n",
      "...                       ...           ...  \n",
      "2643                      NaN             0  \n",
      "2644                      NaN             1  \n",
      "2645                      NaN             0  \n",
      "2646                      NaN             0  \n",
      "2647                      NaN             1  \n",
      "\n",
      "[2648 rows x 18 columns]>\n"
     ]
    }
   ],
   "source": [
    "print(df.describe)"
   ]
  },
  {
   "cell_type": "code",
   "execution_count": null,
   "id": "2c03acd7-4ca3-4254-beb5-80ec16de9eab",
   "metadata": {},
   "outputs": [
    {
     "name": "stdout",
     "output_type": "stream",
     "text": [
      "Date                            0\n",
      "DATE                            0\n",
      "Price                           0\n",
      "Open                            0\n",
      "High                            0\n",
      "Low                             0\n",
      "Vol.                            0\n",
      "Change %                        0\n",
      "SN&P Adjusted                   0\n",
      "DXY Adjusted                    0\n",
      "GOLD Adjusted                   0\n",
      "ETH Price                       0\n",
      "ETH Vol.                        0\n",
      "OIL Price Adjusted              0\n",
      "Days from the last halving      0\n",
      "BTC_Hashprice                 820\n",
      "Crypto Volatility Index       803\n",
      "Target Value                    0\n",
      "dtype: int64\n"
     ]
    }
   ],
   "source": [
    "print(df.isnull().sum())"
   ]
  },
  {
   "cell_type": "code",
   "execution_count": null,
   "id": "6777cab6-931e-436b-91a7-1a6615106ed8",
   "metadata": {},
   "outputs": [],
   "source": [
    "# יצירת עמודת טווחים זהב\n",
    "min_val = int(df['GOLD Adjusted'].min())\n",
    "max_val = int(df['GOLD Adjusted'].max())\n"
   ]
  },
  {
   "cell_type": "code",
   "execution_count": null,
   "id": "210a92b8-46bc-48b2-9c81-26a13d72d477",
   "metadata": {},
   "outputs": [],
   "source": [
    "ranges = list(range(min_val, max_val + 100, 100))\n",
    "df['ranges_GOLD_Adjusted'] = pd.cut(df['GOLD Adjusted'], bins=ranges, labels=[f\"{r}-{r+99}\" for r in ranges[:-1]])\n"
   ]
  },
  {
   "cell_type": "code",
   "execution_count": null,
   "id": "304b268f-00b8-4cfb-a580-50848142a1ef",
   "metadata": {},
   "outputs": [
    {
     "name": "stdout",
     "output_type": "stream",
     "text": [
      "0       2374-2473\n",
      "1       2374-2473\n",
      "2       2374-2473\n",
      "3       2374-2473\n",
      "4       2274-2373\n",
      "          ...    \n",
      "2643    1174-1273\n",
      "2644    1174-1273\n",
      "2645    1174-1273\n",
      "2646    1174-1273\n",
      "2647    1174-1273\n",
      "Name: ranges_GOLD_Adjusted, Length: 2648, dtype: category\n",
      "Categories (13, object): ['1174-1273' < '1274-1373' < '1374-1473' < '1474-1573' ... '2074-2173' < '2174-2273' < '2274-2373' < '2374-2473']\n"
     ]
    }
   ],
   "source": [
    "print(df.ranges_GOLD_Adjusted)\n"
   ]
  },
  {
   "cell_type": "code",
   "execution_count": null,
   "id": "25ced660-b328-448b-a2e3-9182af025ee2",
   "metadata": {},
   "outputs": [],
   "source": [
    "# טבלה חדשה לזהב המחשבת אחוזים\n",
    "# טען את נתוני 'df'\n",
    "# dfGold = df.copy.deepcopy()\n",
    "import copy\n",
    "dfGold = copy.deepcopy(df)\n",
    "\n"
   ]
  },
  {
   "cell_type": "code",
   "execution_count": null,
   "id": "39fb3707-cc49-47e7-a07e-0251a3fcd2fb",
   "metadata": {},
   "outputs": [],
   "source": [
    "# ודא ש-GOLD Adjusted הוא מסוג int\n",
    "dfGold['GOLD Adjusted'] = dfGold['GOLD Adjusted'].astype(int)\n"
   ]
  },
  {
   "cell_type": "code",
   "execution_count": null,
   "id": "cf27a377-3de6-4a8e-96a2-9a73d6e04097",
   "metadata": {},
   "outputs": [],
   "source": [
    "\n",
    "# צור טבלה חדשה עם טווחים, ספירה, סכום TARGET_VALUE וחישוב אחוז\n",
    "grouped_data = (\n",
    "    dfGold.pivot_table(\n",
    "        index='ranges_GOLD_Adjusted',\n",
    "        values=['GOLD Adjusted', 'Target Value'],\n",
    "        aggfunc={'GOLD Adjusted': 'count', 'Target Value': ['sum', 'mean']},\n",
    "    ).reset_index()\n",
    ")\n"
   ]
  },
  {
   "cell_type": "code",
   "execution_count": null,
   "id": "d832a2ff-8c9f-490b-bfa7-5a08b824a0a0",
   "metadata": {},
   "outputs": [
    {
     "name": "stdout",
     "output_type": "stream",
     "text": [
      "   ranges_GOLD_Adjusted GOLD Adjusted Target Value     \n",
      "                                count         mean  sum\n",
      "0             1174-1273           401     0.349127  140\n",
      "1             1274-1373           479     0.382046  183\n",
      "2             1374-1473            81     0.407407   33\n",
      "3             1474-1573           162     0.265432   43\n",
      "4             1574-1673            86     0.220930   19\n",
      "5             1674-1773           288     0.298611   86\n",
      "6             1774-1873           503     0.290258  146\n",
      "7             1874-1973           388     0.224227   87\n",
      "8             1974-2073           207     0.198068   41\n",
      "9             2074-2173            19     0.421053    8\n",
      "10            2174-2273            14     0.214286    3\n",
      "11            2274-2373            14     0.500000    7\n",
      "12            2374-2473             6     0.333333    2\n"
     ]
    }
   ],
   "source": [
    "\n",
    "# הצג את הטבלה החדשה\n",
    "print(grouped_data)\n"
   ]
  },
  {
   "cell_type": "code",
   "execution_count": null,
   "id": "ba0d7552-af7e-4dd5-9915-ec156a391dfa",
   "metadata": {},
   "outputs": [
    {
     "name": "stdout",
     "output_type": "stream",
     "text": [
      "0       60000-64999\n",
      "1       60000-64999\n",
      "2       60000-64999\n",
      "3       60000-64999\n",
      "4       60000-64999\n",
      "           ...     \n",
      "2643         0-4999\n",
      "2644         0-4999\n",
      "2645         0-4999\n",
      "2646         0-4999\n",
      "2647         0-4999\n",
      "Name: ranges_price, Length: 2648, dtype: category\n",
      "Categories (15, object): ['0-4999' < '5000-9999' < '10000-14999' < '15000-19999' ... '55000-59999' < '60000-64999' < '65000-69999' < '70000-74999']\n",
      "   ranges_price Price Target Value     \n",
      "                count         mean  sum\n",
      "0        0-4999   402     0.363184  146\n",
      "1     5000-9999   717     0.299861  215\n",
      "2   10000-14999   244     0.331967   81\n",
      "3   15000-19999   183     0.251366   46\n",
      "4   20000-24999   165     0.260606   43\n",
      "5   25000-29999   219     0.178082   39\n",
      "6   30000-34999   108     0.287037   31\n",
      "7   35000-39999   140     0.357143   50\n",
      "8   40000-44999   152     0.263158   40\n",
      "9   45000-49999   107     0.327103   35\n",
      "10  50000-54999    51     0.352941   18\n",
      "11  55000-59999    67     0.328358   22\n",
      "12  60000-64999    52     0.326923   17\n",
      "13  65000-69999    32     0.406250   13\n",
      "14  70000-74999     9     0.222222    2\n"
     ]
    }
   ],
   "source": [
    "# יצירת טבלת טווחים מחיר\n",
    "min_val = int(0)\n",
    "\n",
    "# קבל את הערך המקסימלי (יהיה מספר שלם לאחר המרת העמודה)\n",
    "max_val = int(df['Price'].max())\n",
    "\n",
    "df.Price=df.Price.astype(int)\n",
    "\n",
    "ranges = list(range(min_val, max_val + 5000, 5000))\n",
    "\n",
    "df['ranges_price'] = pd.cut(df['Price'], bins=ranges, labels=[f\"{r}-{r+4999}\" for r in ranges[:-1]])\n",
    "\n",
    "print(df.ranges_price)\n",
    "\n",
    "# טען את נתוני 'df'\n",
    "# df_Price = df.copy()\n",
    "\n",
    "# טבלה חדשה  למחיר המחשבת אחוזים\n",
    "\n",
    "import copy\n",
    "df_Price = copy.deepcopy(df)\n",
    "\n",
    "\n",
    "# ודא ש-GOLD Adjusted הוא מסוג int\n",
    "df_Price['Price'] = df_Price['Price'].astype(int)\n",
    "\n",
    "# צור טבלה חדשה עם טווחים, ספירה, סכום TARGET_VALUE וחישוב אחוז\n",
    "grouped_data = (\n",
    "    df_Price.pivot_table(\n",
    "        index='ranges_price',\n",
    "        values=['Price', 'Target Value'],\n",
    "                aggfunc={'Price': 'count','Target Value': ['sum', 'mean']},\n",
    "\n",
    "    ).reset_index()\n",
    ")\n",
    "\n",
    "# הצג את הטבלה החדשה\n",
    "print(grouped_data)"
   ]
  },
  {
   "cell_type": "code",
   "execution_count": null,
   "id": "07cd27cc-72be-4ed9-9326-39816616720a",
   "metadata": {},
   "outputs": [
    {
     "name": "stdout",
     "output_type": "stream",
     "text": [
      "0       74-83\n",
      "1       74-83\n",
      "2       64-73\n",
      "3       64-73\n",
      "4       74-83\n",
      "        ...  \n",
      "2643      NaN\n",
      "2644      NaN\n",
      "2645      NaN\n",
      "2646      NaN\n",
      "2647      NaN\n",
      "Name: ranges_Crypto_Volatility_Index, Length: 2648, dtype: category\n",
      "Categories (14, object): ['34-43' < '44-53' < '54-63' < '64-73' ... '134-143' < '144-153' < '154-163' < '164-173']\n",
      "   ranges_Crypto_Volatility_Index Crypto Volatility Index Target Value    \n",
      "                                                    count         mean sum\n",
      "0                           34-43                      85     0.082353   7\n",
      "1                           44-53                     113     0.115044  13\n",
      "2                           54-63                     307     0.162866  50\n",
      "3                           64-73                     343     0.212828  73\n",
      "4                           74-83                     307     0.270358  83\n",
      "5                           84-93                     307     0.315961  97\n",
      "6                          94-103                     198     0.378788  75\n",
      "7                         104-113                      85     0.505882  43\n",
      "8                         114-123                      41     0.512195  21\n",
      "9                         124-133                      24     0.541667  13\n",
      "10                        134-143                      18     0.555556  10\n",
      "11                        144-153                      11     0.636364   7\n",
      "12                        154-163                       4     0.500000   2\n",
      "13                        164-173                       2     1.000000   2\n"
     ]
    }
   ],
   "source": [
    "# # יצירת טבלת טווחים קריפטו\n",
    "\n",
    "# min_val = int(0)\n",
    "min_val = int(df['Crypto Volatility Index'].min())\n",
    "\n",
    "# ודא ש-min_val ו-max_val הם מספרים שלמים\n",
    "max_val = int(df['Crypto Volatility Index'].max())\n",
    "\n",
    "# df['Crypto Volatility Index'].fillna(0, inplace=True)\n",
    "\n",
    "# המרת העמודה למספר שלם (אופציונלי, Pandas יכול לטפל בערכים עשרוניים ב-cut)\n",
    "# df['Crypto Volatility Index'] = df['Crypto Volatility Index'].astype(int)  # אופציונלי\n",
    "\n",
    "# חישוב מספר התאים (בהנחה על טווח כולל)\n",
    "# num_bins = max_val - min_val + 1\n",
    "\n",
    "# יצירת רשימה של טווחים (כולל)\n",
    "ranges = list(range(min_val, max_val + 10,10))\n",
    "\n",
    "# יצירת עמודה חדשה עם תוויות (התאם את התוויות לפי הצורך)\n",
    "df['ranges_Crypto_Volatility_Index'] = pd.cut(\n",
    "    df['Crypto Volatility Index'], bins=ranges, labels=[f\"{r}-{r+9}\" for r in ranges[:-1]]\n",
    "\n",
    ")\n",
    "\n",
    "print(df.ranges_Crypto_Volatility_Index)\n",
    "\n",
    "#  Crypto לחישוב אחוזים טבלת ל \n",
    "\n",
    "df_Crypto = df.copy()\n",
    "\n",
    "# df_Crypto['Crypto Volatility Index'] = df_Crypto['Crypto Volatility Index'].astype(int)\n",
    "\n",
    "# צור טבלה חדשה עם טווחים, ספירה, סכום TARGET_VALUE וחישוב אחוז\n",
    "grouped_data = (\n",
    "    df_Crypto.pivot_table(\n",
    "        index='ranges_Crypto_Volatility_Index',\n",
    "        values=['Crypto Volatility Index', 'Target Value'],\n",
    "                aggfunc={'Crypto Volatility Index': 'count','Target Value': ['sum', 'mean']},\n",
    "\n",
    "    )\n",
    "   \n",
    "    .reset_index()\n",
    ")\n",
    "\n",
    "# הצג את הטבלה החדשה\n",
    "print(grouped_data)"
   ]
  },
  {
   "cell_type": "code",
   "execution_count": null,
   "id": "3321b04e-8ecc-48e6-9e62-e555a7e5c749",
   "metadata": {},
   "outputs": [
    {
     "name": "stdout",
     "output_type": "stream",
     "text": [
      "0       4691-5190\n",
      "1       4691-5190\n",
      "2       4691-5190\n",
      "3       4691-5190\n",
      "4       4691-5190\n",
      "          ...    \n",
      "2643    2191-2690\n",
      "2644    2191-2690\n",
      "2645    2191-2690\n",
      "2646    2191-2690\n",
      "2647    2191-2690\n",
      "Name: ranges_SN&P_Adjusted, Length: 2648, dtype: category\n",
      "Categories (7, object): ['2191-2690' < '2691-3190' < '3191-3690' < '3691-4190' < '4191-4690' < '4691-5190' < '5191-5690']\n",
      "                     SN&P Adjusted Target Value     \n",
      "                             count         mean  sum\n",
      "ranges_SN&P_Adjusted                                \n",
      "2191-2690                      519     0.441233  229\n",
      "2691-3190                      681     0.280470  191\n",
      "3191-3690                      270     0.214815   58\n",
      "3691-4190                      521     0.295585  154\n",
      "4191-4690                      512     0.244141  125\n",
      "4691-5190                      131     0.282443   37\n",
      "5191-5690                       14     0.285714    4\n"
     ]
    }
   ],
   "source": [
    "\n",
    "# יצירת טבלת טווחים SN&P Adjusted\n",
    "min_val = int(df['SN&P Adjusted'].min())\n",
    "max_val = int(df['SN&P Adjusted'].max())\n",
    "ranges = list(range(min_val, max_val + 500, 500))\n",
    "df['ranges_SN&P_Adjusted'] = pd.cut(df['SN&P Adjusted'], bins=ranges, labels=[f\"{r}-{r+499}\" for r in ranges[:-1]])\n",
    "\n",
    "print(df['ranges_SN&P_Adjusted'])\n",
    "\n",
    "df_SNP_Adjusted = df.copy()\n",
    "\n",
    "# חישוב סטטיסטיקות עבור כל טווח\n",
    "grouped_data = df_SNP_Adjusted.pivot_table(\n",
    "    index='ranges_SN&P_Adjusted',\n",
    "    values=['SN&P Adjusted', 'Target Value'],\n",
    "    aggfunc={'SN&P Adjusted': 'count', 'Target Value': ['sum', 'mean']},\n",
    ")\n",
    "\n",
    "# הצגת הטבלה\n",
    "print(grouped_data)\n"
   ]
  },
  {
   "cell_type": "code",
   "execution_count": null,
   "id": "1c95f25b-f929-47bb-99ef-27fea41dba0d",
   "metadata": {},
   "outputs": [
    {
     "name": "stdout",
     "output_type": "stream",
     "text": [
      "0       98-99\n",
      "1       98-99\n",
      "2       98-99\n",
      "3       98-99\n",
      "4       98-99\n",
      "        ...  \n",
      "2643    98-99\n",
      "2644    98-99\n",
      "2645    98-99\n",
      "2646    98-99\n",
      "2647    98-99\n",
      "Name: ranges_DXY_Adjusted, Length: 2648, dtype: category\n",
      "Categories (3, object): ['88-89' < '98-99' < '108-109']\n",
      "                    DXY Adjusted Target Value     \n",
      "                           count         mean  sum\n",
      "ranges_DXY_Adjusted                               \n",
      "88-89                       1675     0.346269  580\n",
      "98-99                        888     0.228604  203\n",
      "108-109                       85     0.176471   15\n"
     ]
    }
   ],
   "source": [
    "# יצירת טבלת טווחים DXY\n",
    "min_val = int(df['DXY Adjusted'].min())\n",
    "max_val = int(df['DXY Adjusted'].max())\n",
    "ranges = list(range(min_val, max_val + 10, 10)) \n",
    "df['ranges_DXY_Adjusted'] = pd.cut(df['DXY Adjusted'], bins=ranges, labels=[f\"{r}-{r+1}\" for r in ranges[:-1]])\n",
    "\n",
    "print(df['ranges_DXY_Adjusted'])\n",
    "\n",
    "import copy\n",
    "df_DXY_Adjusted = copy.deepcopy(df)\n",
    "\n",
    "# חישוב סטטיסטיקות עבור כל טווח\n",
    "grouped_data = df_DXY_Adjusted.pivot_table( \n",
    "    index='ranges_DXY_Adjusted',\n",
    "    values=['DXY Adjusted', 'Target Value'], \n",
    "    \n",
    "    aggfunc={'DXY Adjusted': 'count', 'Target Value': ['sum', 'mean']}, )\n",
    "\n",
    "# הצגת הטבלה\n",
    "print(grouped_data)"
   ]
  },
  {
   "cell_type": "code",
   "execution_count": null,
   "id": "121ef998-8f5a-44bd-b7d3-13f43d880c3b",
   "metadata": {},
   "outputs": [
    {
     "name": "stdout",
     "output_type": "stream",
     "text": [
      "0       3160-3161\n",
      "1       3150-3151\n",
      "2       3050-3051\n",
      "3       3060-3061\n",
      "4       2980-2981\n",
      "          ...    \n",
      "2643        10-11\n",
      "2644        10-11\n",
      "2645        10-11\n",
      "2646        10-11\n",
      "2647        10-11\n",
      "Name: ranges_ETH_Price, Length: 2648, dtype: category\n",
      "Categories (480, object): ['10-11' < '20-21' < '30-31' < '40-41' ... '4770-4771' < '4780-4781' < '4790-4791' < '4800-4801']\n",
      "                 ETH Price Target Value    \n",
      "                     count         mean sum\n",
      "ranges_ETH_Price                           \n",
      "10-11                   49     0.204082  10\n",
      "20-21                    4     0.500000   2\n",
      "30-31                    2     0.500000   1\n",
      "40-41                   25     0.360000   9\n",
      "50-51                   16     0.125000   2\n",
      "...                    ...          ...  ..\n",
      "4760-4761                0          NaN   0\n",
      "4770-4771                0          NaN   0\n",
      "4780-4781                0          NaN   0\n",
      "4790-4791                0          NaN   0\n",
      "4800-4801                1     1.000000   1\n",
      "\n",
      "[480 rows x 3 columns]\n"
     ]
    }
   ],
   "source": [
    "# יצירת טבלת טווחים ETH Price\n",
    "min_val = int(df['ETH Price'].min())\n",
    "max_val = int(df['ETH Price'].max())\n",
    "ranges = list(range(min_val, max_val + 10, 10)) \n",
    "df['ranges_ETH_Price'] = pd.cut(df['ETH Price'], bins=ranges, labels=[f\"{r}-{r+1}\" for r in ranges[:-1]])\n",
    "\n",
    "print(df['ranges_ETH_Price'])\n",
    "\n",
    "# df_ETH_Price = df.copy()\n",
    "import copy\n",
    "df_ETH_Price = copy.deepcopy(df)\n",
    "\n",
    "\n",
    "# חישוב סטטיסטיקות עבור כל טווח\n",
    "grouped_data = df_ETH_Price.pivot_table( \n",
    "    index='ranges_ETH_Price',\n",
    "    values=['ETH Price', 'Target Value'], \n",
    "    \n",
    "    aggfunc={'ETH Price': 'count', 'Target Value': ['sum', 'mean']}, )\n",
    "\n",
    "# הצגת הטבלה\n",
    "print(grouped_data)"
   ]
  },
  {
   "cell_type": "code",
   "execution_count": null,
   "id": "a32c774d-7532-4c0a-9290-3eeb5615259b",
   "metadata": {},
   "outputs": [],
   "source": [
    "\n",
    "# import re\n",
    "\n",
    "# pattern = r\"[^\\d\\-]+K?\"\n",
    "# grouped_data.index = grouped_data.index.str.replace(pattern, \"\", regex=True)\n",
    "\n",
    "# # הבעיה K\n",
    "# # יצירת טבלת טווחים Vol.\n",
    "# min_val = int(df['Vol.'].min())\n",
    "# max_val = int(df['Vol.'].max())\n",
    "\n",
    "# ranges = list(range(min_val, max_val + 10000, 10000)) \n",
    "# df['ranges_Vol'] = pd.cut(df['Vol'], bins=ranges, labels=[f\"{r}-{r+4999}\" for r in ranges[:-1]])\n",
    "\n",
    "# print(df['ranges_Vol'])\n",
    "\n",
    "# import copy\n",
    "# df_Vol = copy.deepcopy(df)\n",
    "\n",
    "\n",
    "# # חישוב סטטיסטיקות עבור כל טווח\n",
    "# grouped_data = df_Vol.pivot_table( \n",
    "#     index='ranges_Vol',\n",
    "#     values=['Vol', 'Target Value'], \n",
    "    \n",
    "#     aggfunc={'Vol': 'count', 'Target Value': ['sum', 'mean']}, )\n",
    "\n",
    "# # הצגת הטבלה\n",
    "# print(grouped_data)\n",
    "\n",
    "# # יצירת טבלת טווחים Vol.\n",
    "# # Min and max values for  \n",
    "# min_val = df['Vol.'].min()\n",
    "# max_val = df['Vol.'].max()\n",
    "\n",
    "# # # Create ranges using np.arange for floats\n",
    "# ranges = np.arange(min_val, max_val + 1, 1)\n",
    "\n",
    "# # # Cut with the created ranges (labels are optional here)\n",
    "# df['ranges_Vol.'] = pd.cut(df['Vol.'], bins=ranges)\n",
    "\n",
    "\n"
   ]
  },
  {
   "cell_type": "code",
   "execution_count": null,
   "id": "4a2f9d2a-4e98-4f50-8bac-08e74584cbdc",
   "metadata": {},
   "outputs": [],
   "source": [
    "min_val_hash = float(df['BTC_Hashprice'].min())\n",
    "max_val_hash = float(df['BTC_Hashprice'].max())"
   ]
  },
  {
   "cell_type": "code",
   "execution_count": null,
   "id": "56b54ffb-446e-4af2-b3c2-e7cf2b2d9126",
   "metadata": {},
   "outputs": [
    {
     "name": "stdout",
     "output_type": "stream",
     "text": [
      "1.53e-06 4.229e-05\n"
     ]
    }
   ],
   "source": [
    "print(min_val_hash,max_val_hash)"
   ]
  },
  {
   "cell_type": "code",
   "execution_count": null,
   "id": "fbe9f039-6fb1-48e1-b444-3393613721f8",
   "metadata": {},
   "outputs": [],
   "source": [
    "hash=np.arange(min_val_hash, max_val_hash + 0.000001, 0.000001) "
   ]
  },
  {
   "cell_type": "code",
   "execution_count": null,
   "id": "cd15c0e6-8299-4deb-a4bf-e1a7b3c2afdf",
   "metadata": {},
   "outputs": [
    {
     "name": "stdout",
     "output_type": "stream",
     "text": [
      "[1.530e-06 2.530e-06 3.530e-06 4.530e-06 5.530e-06 6.530e-06 7.530e-06\n",
      " 8.530e-06 9.530e-06 1.053e-05 1.153e-05 1.253e-05 1.353e-05 1.453e-05\n",
      " 1.553e-05 1.653e-05 1.753e-05 1.853e-05 1.953e-05 2.053e-05 2.153e-05\n",
      " 2.253e-05 2.353e-05 2.453e-05 2.553e-05 2.653e-05 2.753e-05 2.853e-05\n",
      " 2.953e-05 3.053e-05 3.153e-05 3.253e-05 3.353e-05 3.453e-05 3.553e-05\n",
      " 3.653e-05 3.753e-05 3.853e-05 3.953e-05 4.053e-05 4.153e-05 4.253e-05]\n"
     ]
    }
   ],
   "source": [
    "print(hash)"
   ]
  },
  {
   "cell_type": "code",
   "execution_count": null,
   "id": "2c5b8928-5cdf-4392-aee2-7f59e7ed4681",
   "metadata": {},
   "outputs": [],
   "source": [
    "df['ranges_BTC_Hashprice'] = pd.cut(df['BTC_Hashprice'], bins=ranges, labels=[f\"{r}-{r+0.000009}\" for r in ranges[:-1]])"
   ]
  },
  {
   "cell_type": "code",
   "execution_count": null,
   "id": "5550d1a1-d7f8-45fd-bb94-b31ba359c66f",
   "metadata": {},
   "outputs": [
    {
     "name": "stdout",
     "output_type": "stream",
     "text": [
      "0       NaN\n",
      "1       NaN\n",
      "2       NaN\n",
      "3       NaN\n",
      "4       NaN\n",
      "       ... \n",
      "2643    NaN\n",
      "2644    NaN\n",
      "2645    NaN\n",
      "2646    NaN\n",
      "2647    NaN\n",
      "Name: ranges_BTC_Hashprice, Length: 2648, dtype: category\n",
      "Categories (480, object): ['10-10.000009' < '20-20.000009' < '30-30.000009' < '40-40.000009' ... '4770-4770.000009' < '4780-4780.000009' < '4790-4790.000009' < '4800-4800.000009']\n"
     ]
    }
   ],
   "source": [
    "print(df['ranges_BTC_Hashprice'])"
   ]
  },
  {
   "cell_type": "code",
   "execution_count": null,
   "id": "e06f0c4a-3ce7-47f9-88ac-43405b625f9e",
   "metadata": {},
   "outputs": [
    {
     "name": "stdout",
     "output_type": "stream",
     "text": [
      "0       1.53e-06-1.053e-05\n",
      "1       1.53e-06-1.053e-05\n",
      "2       1.53e-06-1.053e-05\n",
      "3       1.53e-06-1.053e-05\n",
      "4       1.53e-06-1.053e-05\n",
      "               ...        \n",
      "2643                   NaN\n",
      "2644                   NaN\n",
      "2645                   NaN\n",
      "2646                   NaN\n",
      "2647                   NaN\n",
      "Name: ranges_BTC_Hashprice, Length: 2648, dtype: category\n",
      "Categories (5, object): ['1.53e-06-1.053e-05' < '1.053e-05-1.953e-05' < '1.953e-05-2.853e-05' < '2.853e-05-3.753e-05' < '3.753e-05-4.6530000000000003e-05']\n"
     ]
    }
   ],
   "source": [
    "import numpy as np\n",
    "import pandas as pd\n",
    "\n",
    "# קבלת ערכים מינימליים ומקסימליים של BTC_Hashprice\n",
    "min_val_hash = np.min(df['BTC_Hashprice'])\n",
    "max_val_hash = np.max(df['BTC_Hashprice'])\n",
    "\n",
    "# יצירת טווח עם צעד של 0.000009\n",
    "hash = np.arange(min_val_hash, max_val_hash + 0.000009, 0.000009)\n",
    "\n",
    "# יצירת תוויות טווח עם צעד של 0.000009\n",
    "labels = [f\"{r}-{r+0.000009}\" for r in hash[:-1]]\n",
    "\n",
    "# הקצאת טווחים ל-BTC_Hashprice\n",
    "df['ranges_BTC_Hashprice'] = pd.cut(df['BTC_Hashprice'], bins=hash, labels=labels)\n",
    "\n",
    "# הדפסת טווחים\n",
    "print(df['ranges_BTC_Hashprice'])\n"
   ]
  },
  {
   "cell_type": "code",
   "execution_count": null,
   "id": "7f31cd37-2563-46a4-85a1-d7e5b9de9e62",
   "metadata": {},
   "outputs": [],
   "source": [
    "\n",
    "import copy\n",
    "df_BTC_Hashprice = copy.deepcopy(df)\n"
   ]
  },
  {
   "cell_type": "code",
   "execution_count": null,
   "id": "f78a1866-88ec-4a1e-8a48-1db7acf4933e",
   "metadata": {},
   "outputs": [
    {
     "name": "stdout",
     "output_type": "stream",
     "text": [
      "                                 BTC_Hashprice Target Value     \n",
      "                                         count         mean  sum\n",
      "ranges_BTC_Hashprice                                            \n",
      "1.53e-06-1.053e-05                        1439     0.258513  372\n",
      "1.053e-05-1.953e-05                        152     0.328947   50\n",
      "1.953e-05-2.853e-05                        138     0.217391   30\n",
      "2.853e-05-3.753e-05                         55     0.490909   27\n",
      "3.753e-05-4.6530000000000003e-05            42     0.357143   15\n"
     ]
    }
   ],
   "source": [
    "\n",
    "# חישוב סטטיסטיקות עבור כל טווח\n",
    "grouped_data = df_BTC_Hashprice.pivot_table( \n",
    "    index='ranges_BTC_Hashprice',\n",
    "    values=['BTC_Hashprice', 'Target Value'], \n",
    "    \n",
    "    aggfunc={'BTC_Hashprice': 'count', 'Target Value': ['sum', 'mean']}, )\n",
    "\n",
    "# הצגת הטבלה\n",
    "print(grouped_data)\n"
   ]
  },
  {
   "cell_type": "code",
   "execution_count": null,
   "id": "2bdd5bf2-4f55-464d-9c56-cdad5df3276c",
   "metadata": {},
   "outputs": [
    {
     "name": "stdout",
     "output_type": "stream",
     "text": [
      "4.229e-05\n"
     ]
    },
    {
     "data": {
      "text/plain": [
       "1.53e-06"
      ]
     },
     "execution_count": 38,
     "metadata": {},
     "output_type": "execute_result"
    }
   ],
   "source": [
    "print(max_val_hash)\n",
    "min_val_hash"
   ]
  },
  {
   "cell_type": "code",
   "execution_count": null,
   "id": "13441657-b7be-477c-88f5-ec62a973f352",
   "metadata": {},
   "outputs": [
    {
     "name": "stdout",
     "output_type": "stream",
     "text": [
      "0       80-89\n",
      "1       80-89\n",
      "2       80-89\n",
      "3       80-89\n",
      "4       80-89\n",
      "        ...  \n",
      "2643    50-59\n",
      "2644    50-59\n",
      "2645    50-59\n",
      "2646    50-59\n",
      "2647    50-59\n",
      "Name: ranges_OIL Price Adjusted, Length: 2648, dtype: category\n",
      "Categories (12, object): ['10-19' < '20-29' < '30-39' < '40-49' ... '90-99' < '100-109' < '110-119' < '120-129']\n",
      "                          OIL Price Adjusted Target Value     \n",
      "                                       count         mean  sum\n",
      "ranges_OIL Price Adjusted                                     \n",
      "10-19                                     19     0.315789    6\n",
      "20-29                                     44     0.409091   18\n",
      "30-39                                     92     0.217391   20\n",
      "40-49                                    358     0.382682  137\n",
      "50-59                                    588     0.314626  185\n",
      "60-69                                    512     0.376953  193\n",
      "70-79                                    519     0.229287  119\n",
      "80-89                                    293     0.197952   58\n",
      "90-99                                    102     0.235294   24\n",
      "100-109                                   72     0.305556   22\n",
      "110-119                                   42     0.309524   13\n",
      "120-129                                    7     0.428571    3\n"
     ]
    }
   ],
   "source": [
    "# \n",
    "# יצירת טבלת טווחים OIL Price Adjusted\n",
    "min_val = int(df['OIL Price Adjusted'].min())\n",
    "max_val = int(df['OIL Price Adjusted'].max())\n",
    "ranges = list(range(min_val, max_val + 10, 10)) \n",
    "df['ranges_OIL Price Adjusted'] = pd.cut(df['OIL Price Adjusted'], bins=ranges, labels=[f\"{r}-{r+9}\" for r in ranges[:-1]])\n",
    "\n",
    "print(df['ranges_OIL Price Adjusted'])\n",
    "\n",
    "# df_ETH_Price = df.copy()\n",
    "import copy\n",
    "df_ETH_Price = copy.deepcopy(df)\n",
    "\n",
    "\n",
    "# חישוב סטטיסטיקות עבור כל טווח\n",
    "grouped_data = df_ETH_Price.pivot_table( \n",
    "    index='ranges_OIL Price Adjusted',\n",
    "    values=['OIL Price Adjusted', 'Target Value'], \n",
    "    \n",
    "    aggfunc={'OIL Price Adjusted': 'count', 'Target Value': ['sum', 'mean']}, )\n",
    "\n",
    "# הצגת הטבלה\n",
    "print(grouped_data)"
   ]
  },
  {
   "cell_type": "code",
   "execution_count": null,
   "id": "5f7313e9-4225-41c9-9625-8787f0bbcf5d",
   "metadata": {},
   "outputs": [
    {
     "ename": "NameError",
     "evalue": "name 'df' is not defined",
     "output_type": "error",
     "traceback": [
      "\u001b[1;31m---------------------------------------------------------------------------\u001b[0m",
      "\u001b[1;31mNameError\u001b[0m                                 Traceback (most recent call last)",
      "Cell \u001b[1;32mIn[3], line 1\u001b[0m\n\u001b[1;32m----> 1\u001b[0m df[\u001b[38;5;124m\"\u001b[39m\u001b[38;5;124mChange \u001b[39m\u001b[38;5;124m%\u001b[39m\u001b[38;5;124m\"\u001b[39m] \u001b[38;5;241m=\u001b[39m \u001b[43mdf\u001b[49m[\u001b[38;5;124m\"\u001b[39m\u001b[38;5;124mChange \u001b[39m\u001b[38;5;124m%\u001b[39m\u001b[38;5;124m\"\u001b[39m]\u001b[38;5;241m*\u001b[39m\u001b[38;5;241m100\u001b[39m\n",
      "\u001b[1;31mNameError\u001b[0m: name 'df' is not defined"
     ]
    }
   ],
   "source": [
    "df[\"Change %\"] = df[\"Change %\"]*100"
   ]
  },
  {
   "cell_type": "code",
   "execution_count": null,
   "id": "f3ff24eb-dd30-440d-ba1a-59a266f3b308",
   "metadata": {},
   "outputs": [
    {
     "ename": "NameError",
     "evalue": "name 'df' is not defined",
     "output_type": "error",
     "traceback": [
      "\u001b[1;31m---------------------------------------------------------------------------\u001b[0m",
      "\u001b[1;31mNameError\u001b[0m                                 Traceback (most recent call last)",
      "Cell \u001b[1;32mIn[2], line 6\u001b[0m\n\u001b[0;32m      1\u001b[0m \u001b[38;5;66;03m# שורות אלו משנות את DF המקורי ומשפיעות על שאר הקוד \u001b[39;00m\n\u001b[0;32m      2\u001b[0m \u001b[38;5;66;03m# data = df[\"Change %\"]\u001b[39;00m\n\u001b[0;32m      3\u001b[0m \u001b[38;5;66;03m# df = pd.DataFrame(data)\u001b[39;00m\n\u001b[0;32m      4\u001b[0m \n\u001b[0;32m      5\u001b[0m \u001b[38;5;66;03m# עיגול הערכים בעמודה \"Change %\" לשתי ספרות אחרי הנקודה\u001b[39;00m\n\u001b[1;32m----> 6\u001b[0m df[\u001b[38;5;124m'\u001b[39m\u001b[38;5;124mChange \u001b[39m\u001b[38;5;124m%\u001b[39m\u001b[38;5;124m'\u001b[39m] \u001b[38;5;241m=\u001b[39m \u001b[43mdf\u001b[49m[\u001b[38;5;124m'\u001b[39m\u001b[38;5;124mChange \u001b[39m\u001b[38;5;124m%\u001b[39m\u001b[38;5;124m'\u001b[39m]\u001b[38;5;241m.\u001b[39mround(\u001b[38;5;241m2\u001b[39m)\n",
      "\u001b[1;31mNameError\u001b[0m: name 'df' is not defined"
     ]
    }
   ],
   "source": [
    "# שורות אלו משנות את DF המקורי ומשפיעות על שאר הקוד \n",
    "# data = df[\"Change %\"]\n",
    "# df = pd.DataFrame(data)\n",
    "\n",
    "# עיגול הערכים בעמודה \"Change %\" לשתי ספרות אחרי הנקודה\n",
    "df['Change %'] = df['Change %'].round(2)\n",
    "\n"
   ]
  },
  {
   "cell_type": "code",
   "execution_count": null,
   "id": "b49fcbca-a745-4ec7-875f-078de7101f04",
   "metadata": {},
   "outputs": [
    {
     "name": "stdout",
     "output_type": "stream",
     "text": [
      "0        -0.18-0.02\n",
      "1         1.62-1.82\n",
      "2         0.42-0.62\n",
      "3         3.42-3.62\n",
      "4       -3.98--3.78\n",
      "           ...     \n",
      "2643      0.02-0.22\n",
      "2644    -3.18--2.98\n",
      "2645      0.22-0.42\n",
      "2646     -0.18-0.02\n",
      "2647      2.82-3.02\n",
      "Name: ranges_Change, Length: 2648, dtype: category\n",
      "Categories (324, object): ['-39.18--38.98' < '-38.98--38.78' < '-38.78--38.58' < '-38.58--38.38' ... '24.82-25.02' < '25.02-25.22' < '25.22-25.42' < '25.42-25.62']\n"
     ]
    }
   ],
   "source": [
    "min_val_Change = np.min(df['Change %'])\n",
    "max_val_Change = np.max(df['Change %'])\n",
    "\n",
    "# יצירת טווח עם צעד של 0.000009\n",
    "Change = np.arange(min_val_Change, max_val_Change + 0.2, 0.2)\n",
    "\n",
    "# יצירת תוויות טווח עם צעד של 0.000009\n",
    "labels = [f\"{r:.2f}-{r+0.2:.2f}\" for r in Change[:-1]]\n",
    "\n",
    "# הקצאת טווחים ל-BTC_Hashprice\n",
    "df['ranges_Change'] = pd.cut(df['Change %'], bins=Change, labels=labels)\n",
    "\n",
    "# הדפסת טווחים\n",
    "print(df['ranges_Change'])\n"
   ]
  },
  {
   "cell_type": "code",
   "execution_count": null,
   "id": "5fdf8ef8-b72f-4c4f-999d-2bf672602bfa",
   "metadata": {},
   "outputs": [
    {
     "name": "stdout",
     "output_type": "stream",
     "text": [
      "              Change % Target Value    \n",
      "                 count         mean sum\n",
      "ranges_Change                          \n",
      "-39.18--38.98        0          NaN   0\n",
      "-38.98--38.78        0          NaN   0\n",
      "-38.78--38.58        0          NaN   0\n",
      "-38.58--38.38        0          NaN   0\n",
      "-38.38--38.18        0          NaN   0\n",
      "...                ...          ...  ..\n",
      "24.62-24.82          0          NaN   0\n",
      "24.82-25.02          0          NaN   0\n",
      "25.02-25.22          0          NaN   0\n",
      "25.22-25.42          0          NaN   0\n",
      "25.42-25.62          1          1.0   1\n",
      "\n",
      "[324 rows x 3 columns]\n"
     ]
    }
   ],
   "source": [
    "grouped_data = df.pivot_table( \n",
    "    index='ranges_Change',\n",
    "    values=['Change %', 'Target Value'], \n",
    "    aggfunc={'Change %': 'count', 'Target Value': ['sum', 'mean']}, )\n",
    "# # הצגת הטבלה\n",
    "# print(grouped_data.head(60))\n",
    "print(grouped_data)"
   ]
  },
  {
   "cell_type": "code",
   "execution_count": null,
   "id": "8e610d01-21d9-4ecc-b729-42522a0f5808",
   "metadata": {},
   "outputs": [
    {
     "ename": "NameError",
     "evalue": "name 'df' is not defined",
     "output_type": "error",
     "traceback": [
      "\u001b[1;31m---------------------------------------------------------------------------\u001b[0m",
      "\u001b[1;31mNameError\u001b[0m                                 Traceback (most recent call last)",
      "Cell \u001b[1;32mIn[1], line 1\u001b[0m\n\u001b[1;32m----> 1\u001b[0m df[\u001b[38;5;124m'\u001b[39m\u001b[38;5;124mETH Vol.\u001b[39m\u001b[38;5;124m'\u001b[39m] \u001b[38;5;241m=\u001b[39m \u001b[43mdf\u001b[49m[\u001b[38;5;124m'\u001b[39m\u001b[38;5;124mETH Vol.\u001b[39m\u001b[38;5;124m'\u001b[39m]\u001b[38;5;241m.\u001b[39mstr\u001b[38;5;241m.\u001b[39mreplace(\u001b[38;5;124m'\u001b[39m\u001b[38;5;124m[a-zA-Z]\u001b[39m\u001b[38;5;124m'\u001b[39m, \u001b[38;5;124m'\u001b[39m\u001b[38;5;124m'\u001b[39m, regex\u001b[38;5;241m=\u001b[39m\u001b[38;5;28;01mTrue\u001b[39;00m)\n",
      "\u001b[1;31mNameError\u001b[0m: name 'df' is not defined"
     ]
    }
   ],
   "source": [
    "df['ETH Vol.'] = df['ETH Vol.'].str.replace('[a-zA-Z]', '', regex=True)"
   ]
  },
  {
   "cell_type": "code",
   "execution_count": null,
   "id": "7b650857-caa0-435e-8161-d656fdc27d35",
   "metadata": {},
   "outputs": [],
   "source": [
    "# df['ETH Vol.'] = pd.to_numeric(df['ETH Vol.'])\n",
    "# print(numeric_data)"
   ]
  },
  {
   "cell_type": "code",
   "execution_count": null,
   "id": "73363baf-959f-4155-aeee-f690b38c3961",
   "metadata": {},
   "outputs": [],
   "source": [
    "\n",
    "# יצירת טבלת טווחים \n",
    "# min_val = int(df['ETH Vol.'].min())\n",
    "# max_val = int(df['ETH Vol.'].max())\n"
   ]
  },
  {
   "cell_type": "code",
   "execution_count": null,
   "id": "8db5c8e5-4460-4a44-bfc5-4eeddb0efb35",
   "metadata": {},
   "outputs": [],
   "source": [
    "# ranges = list(range(min_val, max_val + 100, 100)) \n",
    "# df['ranges_ETH Vol.'] = pd.cut(df['ETH Vol.'], bins=ranges, labels=[f\"{r}-{r+99}\" for r in ranges[:-1]])\n",
    "\n",
    "# print(df['ranges_ETH Vol.'])\n",
    "\n",
    "# import copy\n",
    "# df_ETH_Vol= copy.deepcopy(df)\n",
    "\n",
    "\n",
    "# # חישוב סטטיסטיקות עבור כל טווח\n",
    "# grouped_data = df_ETH_Vol.pivot_table( \n",
    "#     index='ranges_ETH Vol.',\n",
    "#     values=['ETH Vol.', 'Target Value'], \n",
    "    \n",
    "#     aggfunc={'ETH Vol.': 'count', 'Target Value': ['sum', 'mean']}, )\n",
    "\n",
    "# # הצגת הטבלה\n",
    "# print(grouped_data)"
   ]
  },
  {
   "cell_type": "code",
   "execution_count": null,
   "id": "1985e06f-033c-4797-ab26-af7bb8f31455",
   "metadata": {},
   "outputs": [],
   "source": [
    "# לחלק לכמה DF לאחד בין נתונים דומים 2-4 טווחים לכל עמודה\n"
   ]
  },
  {
   "cell_type": "code",
   "execution_count": null,
   "id": "45a399b2-17ab-4397-a0eb-654a22653721",
   "metadata": {},
   "outputs": [],
   "source": [
    "# ////////////////////////////////////////////////////////"
   ]
  },
  {
   "cell_type": "code",
   "execution_count": null,
   "id": "d0da4957-9a6e-47f9-b517-b3cbd0f3dca7",
   "metadata": {},
   "outputs": [],
   "source": []
  },
  {
   "cell_type": "code",
   "execution_count": null,
   "id": "b86d8011-46ff-4f62-8c6e-0753ea2f3129",
   "metadata": {},
   "outputs": [],
   "source": [
    "# df['ETH Vol.'] = df['ETH Vol.'].str.replace('[a-zA-Z]', '', regex=True)"
   ]
  },
  {
   "cell_type": "code",
   "execution_count": null,
   "id": "b52dee3d-8398-4307-bd1b-4b0eeee43114",
   "metadata": {},
   "outputs": [],
   "source": [
    "# df[\"ETH_Vol_final_range\"]= np.where(df[\"ETH Vol.\"]<=63,\"less63\",np.where(df[\"ETH Vol.\"] > 103,\"grater103\",\"63-103\"))\n"
   ]
  },
  {
   "cell_type": "code",
   "execution_count": null,
   "id": "501adeda-22fb-4366-a2e1-4e23305db369",
   "metadata": {},
   "outputs": [],
   "source": [
    "# df_new=df.loc[:,[\"ETH Vol.\",\"ETH_Vol_final_range\"]]"
   ]
  },
  {
   "cell_type": "code",
   "execution_count": null,
   "id": "b0c60c10-f4d4-4951-817f-f85e990af96a",
   "metadata": {},
   "outputs": [],
   "source": [
    "\n",
    "# df[\"ETH_Vol_final_range\"]= np.where(df[\"ETH Vol.\"]<=100,\"less100\",np.where(df[\"ETH Vol.\"] > 500,\"grater500\",\"100-500\"))\n"
   ]
  },
  {
   "cell_type": "code",
   "execution_count": null,
   "id": "1d86c035-cb18-429d-99d6-73cbe18637f8",
   "metadata": {},
   "outputs": [],
   "source": [
    "\n",
    "\n",
    "# df_new=df.loc[:,[\"ETH Vol.\",\"ETH_Vol_final_range\"]]"
   ]
  },
  {
   "cell_type": "code",
   "execution_count": null,
   "id": "199906e0-c99d-4604-9127-dd0ddc1a053e",
   "metadata": {},
   "outputs": [],
   "source": [
    "# df_new.head(100)"
   ]
  },
  {
   "cell_type": "code",
   "execution_count": null,
   "id": "aa7afd3d-3348-42d5-b420-031d52452ee8",
   "metadata": {},
   "outputs": [],
   "source": [
    "# לעשות pivot  בתוך DF חדש עם העמודה הזו crypto_volatility_final_range\n"
   ]
  },
  {
   "cell_type": "code",
   "execution_count": null,
   "id": "94fc4529-4ae6-49ee-9d29-204aa4846d1c",
   "metadata": {},
   "outputs": [],
   "source": [
    "\n",
    "# df_ETH_Vol_final_range = (\n",
    "#     df.pivot_table(\n",
    "#         index='ETH_Vol_final_range',\n",
    "#         values=['ETH Vol.', 'Target Value'],\n",
    "#                 aggfunc={'ETH Vol.': 'count','Target Value': ['sum', 'mean']},).reset_index())\n",
    "# # הצג את הטבלה החדשה\n",
    "# print(df_ETH_Vol_final_range)"
   ]
  },
  {
   "cell_type": "code",
   "execution_count": null,
   "id": "3496c49d-9d12-403a-805a-f99d9181505a",
   "metadata": {},
   "outputs": [],
   "source": [
    "df[\"Price_final_range\"]= np.where(df[\"Price\"]<=24999,\"less24999\",np.where(df[\"Price\"] > 45000,\"grater45000\",\"24999-45000\"))\n"
   ]
  },
  {
   "cell_type": "code",
   "execution_count": null,
   "id": "17a04917-ff29-493c-84f9-91d6ecfcc17f",
   "metadata": {},
   "outputs": [],
   "source": [
    "df_new1=df.loc[:,[\"Price\",\"Price_final_range\"]]"
   ]
  },
  {
   "cell_type": "code",
   "execution_count": null,
   "id": "c2385ab6-c380-49ec-bcf9-92145608c966",
   "metadata": {},
   "outputs": [
    {
     "data": {
      "text/html": [
       "<div>\n",
       "<style scoped>\n",
       "    .dataframe tbody tr th:only-of-type {\n",
       "        vertical-align: middle;\n",
       "    }\n",
       "\n",
       "    .dataframe tbody tr th {\n",
       "        vertical-align: top;\n",
       "    }\n",
       "\n",
       "    .dataframe thead th {\n",
       "        text-align: right;\n",
       "    }\n",
       "</style>\n",
       "<table border=\"1\" class=\"dataframe\">\n",
       "  <thead>\n",
       "    <tr style=\"text-align: right;\">\n",
       "      <th></th>\n",
       "      <th>Price</th>\n",
       "      <th>Price_final_range</th>\n",
       "    </tr>\n",
       "  </thead>\n",
       "  <tbody>\n",
       "    <tr>\n",
       "      <th>0</th>\n",
       "      <td>64902</td>\n",
       "      <td>grater45000</td>\n",
       "    </tr>\n",
       "    <tr>\n",
       "      <th>1</th>\n",
       "      <td>64961</td>\n",
       "      <td>grater45000</td>\n",
       "    </tr>\n",
       "    <tr>\n",
       "      <th>2</th>\n",
       "      <td>63799</td>\n",
       "      <td>grater45000</td>\n",
       "    </tr>\n",
       "    <tr>\n",
       "      <th>3</th>\n",
       "      <td>63481</td>\n",
       "      <td>grater45000</td>\n",
       "    </tr>\n",
       "    <tr>\n",
       "      <th>4</th>\n",
       "      <td>61278</td>\n",
       "      <td>grater45000</td>\n",
       "    </tr>\n",
       "    <tr>\n",
       "      <th>...</th>\n",
       "      <td>...</td>\n",
       "      <td>...</td>\n",
       "    </tr>\n",
       "    <tr>\n",
       "      <th>95</th>\n",
       "      <td>42768</td>\n",
       "      <td>24999-45000</td>\n",
       "    </tr>\n",
       "    <tr>\n",
       "      <th>96</th>\n",
       "      <td>43145</td>\n",
       "      <td>24999-45000</td>\n",
       "    </tr>\n",
       "    <tr>\n",
       "      <th>97</th>\n",
       "      <td>42510</td>\n",
       "      <td>24999-45000</td>\n",
       "    </tr>\n",
       "    <tr>\n",
       "      <th>98</th>\n",
       "      <td>41746</td>\n",
       "      <td>24999-45000</td>\n",
       "    </tr>\n",
       "    <tr>\n",
       "      <th>99</th>\n",
       "      <td>42851</td>\n",
       "      <td>24999-45000</td>\n",
       "    </tr>\n",
       "  </tbody>\n",
       "</table>\n",
       "<p>100 rows × 2 columns</p>\n",
       "</div>"
      ],
      "text/plain": [
       "    Price Price_final_range\n",
       "0   64902       grater45000\n",
       "1   64961       grater45000\n",
       "2   63799       grater45000\n",
       "3   63481       grater45000\n",
       "4   61278       grater45000\n",
       "..    ...               ...\n",
       "95  42768       24999-45000\n",
       "96  43145       24999-45000\n",
       "97  42510       24999-45000\n",
       "98  41746       24999-45000\n",
       "99  42851       24999-45000\n",
       "\n",
       "[100 rows x 2 columns]"
      ]
     },
     "execution_count": 60,
     "metadata": {},
     "output_type": "execute_result"
    }
   ],
   "source": [
    "df_new1.head(100)"
   ]
  },
  {
   "cell_type": "code",
   "execution_count": null,
   "id": "22ef8834-b57d-4ae5-adfb-7360aba68da6",
   "metadata": {},
   "outputs": [
    {
     "name": "stdout",
     "output_type": "stream",
     "text": [
      "  Price_final_range Price Target Value     \n",
      "                    count         mean  sum\n",
      "0       24999-45000   619     0.258481  160\n",
      "1       grater45000   318     0.336478  107\n",
      "2         less24999  1711     0.310345  531\n"
     ]
    }
   ],
   "source": [
    "\n",
    "df_Price_final_range = (\n",
    "    df.pivot_table(\n",
    "        index='Price_final_range',\n",
    "        values=['Price', 'Target Value'],\n",
    "                aggfunc={'Price': 'count','Target Value': ['sum', 'mean']},).reset_index())\n",
    "# הצג את הטבלה החדשה\n",
    "print(df_Price_final_range)"
   ]
  },
  {
   "cell_type": "code",
   "execution_count": null,
   "id": "28b0106b-df35-4aa7-a434-448efd32ba18",
   "metadata": {},
   "outputs": [
    {
     "name": "stdout",
     "output_type": "stream",
     "text": [
      "  Change_final_range Change % Target Value     \n",
      "                        count         mean  sum\n",
      "0             less69     2648      0.30136  798\n"
     ]
    }
   ],
   "source": [
    "\n",
    "\n",
    "\n",
    "\n",
    "df[\"Change_final_range\"]= np.where(df[\"Change %\"]<=69,\"less69\",np.where(df[\"Change %\"] > 100,\"grater100\",\"69-100\"))\n",
    "df_new2=df.loc[:,[\"Change %\",\"Change_final_range\"]]\n",
    "df_new2.head(200)\n",
    "\n",
    "\n",
    "df_Change_final_range = (\n",
    "    df.pivot_table(\n",
    "        index='Change_final_range',\n",
    "        values=['Change %', 'Target Value'],\n",
    "                aggfunc={'Change %': 'count','Target Value': ['sum', 'mean']},).reset_index())\n",
    "# הצג את הטבלה החדשה\n",
    "print(df_Change_final_range)"
   ]
  },
  {
   "cell_type": "code",
   "execution_count": null,
   "id": "4196f8b4-e3fb-42e1-8bec-f4d72dec7c4b",
   "metadata": {},
   "outputs": [
    {
     "data": {
      "text/html": [
       "<div>\n",
       "<style scoped>\n",
       "    .dataframe tbody tr th:only-of-type {\n",
       "        vertical-align: middle;\n",
       "    }\n",
       "\n",
       "    .dataframe tbody tr th {\n",
       "        vertical-align: top;\n",
       "    }\n",
       "\n",
       "    .dataframe thead th {\n",
       "        text-align: right;\n",
       "    }\n",
       "</style>\n",
       "<table border=\"1\" class=\"dataframe\">\n",
       "  <thead>\n",
       "    <tr style=\"text-align: right;\">\n",
       "      <th></th>\n",
       "      <th>OIL Price Adjusted</th>\n",
       "      <th>OIL_final_range</th>\n",
       "    </tr>\n",
       "  </thead>\n",
       "  <tbody>\n",
       "    <tr>\n",
       "      <th>0</th>\n",
       "      <td>83.14</td>\n",
       "      <td>69-100</td>\n",
       "    </tr>\n",
       "    <tr>\n",
       "      <th>1</th>\n",
       "      <td>83.14</td>\n",
       "      <td>69-100</td>\n",
       "    </tr>\n",
       "    <tr>\n",
       "      <th>2</th>\n",
       "      <td>83.14</td>\n",
       "      <td>69-100</td>\n",
       "    </tr>\n",
       "    <tr>\n",
       "      <th>3</th>\n",
       "      <td>82.73</td>\n",
       "      <td>69-100</td>\n",
       "    </tr>\n",
       "    <tr>\n",
       "      <th>4</th>\n",
       "      <td>82.69</td>\n",
       "      <td>69-100</td>\n",
       "    </tr>\n",
       "    <tr>\n",
       "      <th>...</th>\n",
       "      <td>...</td>\n",
       "      <td>...</td>\n",
       "    </tr>\n",
       "    <tr>\n",
       "      <th>195</th>\n",
       "      <td>86.38</td>\n",
       "      <td>69-100</td>\n",
       "    </tr>\n",
       "    <tr>\n",
       "      <th>196</th>\n",
       "      <td>82.79</td>\n",
       "      <td>69-100</td>\n",
       "    </tr>\n",
       "    <tr>\n",
       "      <th>197</th>\n",
       "      <td>82.79</td>\n",
       "      <td>69-100</td>\n",
       "    </tr>\n",
       "    <tr>\n",
       "      <th>198</th>\n",
       "      <td>82.79</td>\n",
       "      <td>69-100</td>\n",
       "    </tr>\n",
       "    <tr>\n",
       "      <th>199</th>\n",
       "      <td>82.31</td>\n",
       "      <td>69-100</td>\n",
       "    </tr>\n",
       "  </tbody>\n",
       "</table>\n",
       "<p>200 rows × 2 columns</p>\n",
       "</div>"
      ],
      "text/plain": [
       "     OIL Price Adjusted OIL_final_range\n",
       "0                 83.14          69-100\n",
       "1                 83.14          69-100\n",
       "2                 83.14          69-100\n",
       "3                 82.73          69-100\n",
       "4                 82.69          69-100\n",
       "..                  ...             ...\n",
       "195               86.38          69-100\n",
       "196               82.79          69-100\n",
       "197               82.79          69-100\n",
       "198               82.79          69-100\n",
       "199               82.31          69-100\n",
       "\n",
       "[200 rows x 2 columns]"
      ]
     },
     "execution_count": 63,
     "metadata": {},
     "output_type": "execute_result"
    }
   ],
   "source": [
    "\n",
    "df[\"OIL_final_range\"]= np.where(df[\"OIL Price Adjusted\"]<=69,\"less69\",np.where(df[\"OIL Price Adjusted\"] > 100,\"grater100\",\"69-100\"))\n",
    "df_new2=df.loc[:,[\"OIL Price Adjusted\",\"OIL_final_range\"]]\n",
    "df_new2.head(200)"
   ]
  },
  {
   "cell_type": "code",
   "execution_count": null,
   "id": "88ceacb3-fcb7-45a4-9a21-00d695fbfed1",
   "metadata": {},
   "outputs": [
    {
     "name": "stdout",
     "output_type": "stream",
     "text": [
      "  OIL_final_range OIL Price Adjusted Target Value     \n",
      "                               count         mean  sum\n",
      "0          69-100                971     0.217302  211\n",
      "1       grater100                121     0.314050   38\n",
      "2          less69               1556     0.352828  549\n"
     ]
    }
   ],
   "source": [
    "\n",
    "df_OIL_final_range = (\n",
    "    df.pivot_table(\n",
    "        index='OIL_final_range',\n",
    "        values=['OIL Price Adjusted', 'Target Value'],\n",
    "                aggfunc={'OIL Price Adjusted': 'count','Target Value': ['sum', 'mean']},).reset_index())\n",
    "# הצג את הטבלה החדשה\n",
    "print(df_OIL_final_range)"
   ]
  },
  {
   "cell_type": "code",
   "execution_count": null,
   "id": "ade17056-7055-409d-9528-60a06251df2a",
   "metadata": {},
   "outputs": [
    {
     "name": "stdout",
     "output_type": "stream",
     "text": [
      "     GOLD Adjusted GOLD_final_range\n",
      "0          2390.45       grater1474\n",
      "1          2390.45       grater1474\n",
      "2          2390.45       grater1474\n",
      "3          2378.25       grater1474\n",
      "4          2360.81       grater1474\n",
      "..             ...              ...\n",
      "195        1860.88       grater1474\n",
      "196        1832.26       grater1474\n",
      "197        1832.26       grater1474\n",
      "198        1832.26       grater1474\n",
      "199        1820.01       grater1474\n",
      "\n",
      "[200 rows x 2 columns]\n",
      "  GOLD_final_range GOLD Adjusted Target Value     \n",
      "                           count         mean  sum\n",
      "0       grater1474          1687     0.262004  442\n",
      "1         less1474           961     0.370447  356\n"
     ]
    }
   ],
   "source": [
    "\n",
    "df[\"GOLD_final_range\"]= np.where(df[\"GOLD Adjusted\"]<=1473,\"less1474\",\"grater1474\")\n",
    "df_new3=df.loc[:,[\"GOLD Adjusted\",\"GOLD_final_range\"]]\n",
    "print(df_new3.head(200))\n",
    "\n",
    "\n",
    "df_GOLD_final_range = (\n",
    "    df.pivot_table(\n",
    "        index='GOLD_final_range',\n",
    "        values=['GOLD Adjusted', 'Target Value'],\n",
    "                aggfunc={'GOLD Adjusted': 'count','Target Value': ['sum', 'mean']},).reset_index())\n",
    "# הצג את הטבלה החדשה\n",
    "print(df_GOLD_final_range)"
   ]
  },
  {
   "cell_type": "code",
   "execution_count": null,
   "id": "ae00bd35-08ed-4753-92ef-2f79b58c0793",
   "metadata": {},
   "outputs": [
    {
     "name": "stdout",
     "output_type": "stream",
     "text": [
      "     SN&P Adjusted SN&P_Adjusted_final_range\n",
      "0          4953.56                grater2690\n",
      "1          4953.56                grater2690\n",
      "2          4953.56                grater2690\n",
      "3          5001.89                grater2690\n",
      "4          5007.25                grater2690\n",
      "..             ...                       ...\n",
      "195        4283.80                grater2690\n",
      "196        4219.60                grater2690\n",
      "197        4219.60                grater2690\n",
      "198        4219.60                grater2690\n",
      "199        4225.90                grater2690\n",
      "\n",
      "[200 rows x 2 columns]\n",
      "  SN&P_Adjusted_final_range SN&P Adjusted Target Value     \n",
      "                                    count         mean  sum\n",
      "0                grater2690          2129     0.267262  569\n",
      "1                  less2690           519     0.441233  229\n"
     ]
    }
   ],
   "source": [
    "\n",
    "df[\"SN&P_Adjusted_final_range\"]= np.where(df[\"SN&P Adjusted\"]<=2690,\"less2690\",\"grater2690\")\n",
    "df_new3=df.loc[:,[\"SN&P Adjusted\",\"SN&P_Adjusted_final_range\"]]\n",
    "print(df_new3.head(200))\n",
    "\n",
    "\n",
    "df_SNP_Adjusted_final_range = (\n",
    "    df.pivot_table(\n",
    "        index='SN&P_Adjusted_final_range',\n",
    "        values=['SN&P Adjusted', 'Target Value'],\n",
    "                aggfunc={'SN&P Adjusted': 'count','Target Value': ['sum', 'mean']},).reset_index())\n",
    "# הצג את הטבלה החדשה\n",
    "print(df_SNP_Adjusted_final_range)"
   ]
  },
  {
   "cell_type": "code",
   "execution_count": null,
   "id": "1e9cf444-8deb-4d1a-80d4-efb1b8fa4f40",
   "metadata": {},
   "outputs": [],
   "source": [
    "# //////////////////////////////////////////////"
   ]
  },
  {
   "cell_type": "code",
   "execution_count": null,
   "id": "d8d988b8-d1f5-4322-842d-a9d66e783aa9",
   "metadata": {},
   "outputs": [],
   "source": [
    "df_hashprice_no_nan= df.loc[:, ['BTC_Hashprice', 'Target Value']].dropna()"
   ]
  },
  {
   "cell_type": "code",
   "execution_count": null,
   "id": "c61d56dc-a211-4045-a3ed-913d441ac240",
   "metadata": {},
   "outputs": [
    {
     "data": {
      "text/plain": [
       "BTC_Hashprice    0\n",
       "Target Value     0\n",
       "dtype: int64"
      ]
     },
     "execution_count": 69,
     "metadata": {},
     "output_type": "execute_result"
    }
   ],
   "source": [
    "df_hashprice_no_nan.isnull().sum()"
   ]
  },
  {
   "cell_type": "code",
   "execution_count": null,
   "id": "5ff2e8aa-a9c5-4f82-8c70-fd88f4e8814e",
   "metadata": {},
   "outputs": [
    {
     "data": {
      "text/html": [
       "<div>\n",
       "<style scoped>\n",
       "    .dataframe tbody tr th:only-of-type {\n",
       "        vertical-align: middle;\n",
       "    }\n",
       "\n",
       "    .dataframe tbody tr th {\n",
       "        vertical-align: top;\n",
       "    }\n",
       "\n",
       "    .dataframe thead th {\n",
       "        text-align: right;\n",
       "    }\n",
       "</style>\n",
       "<table border=\"1\" class=\"dataframe\">\n",
       "  <thead>\n",
       "    <tr style=\"text-align: right;\">\n",
       "      <th></th>\n",
       "      <th>BTC_Hashprice</th>\n",
       "      <th>Target Value</th>\n",
       "    </tr>\n",
       "  </thead>\n",
       "  <tbody>\n",
       "    <tr>\n",
       "      <th>0</th>\n",
       "      <td>0.000003</td>\n",
       "      <td>0</td>\n",
       "    </tr>\n",
       "    <tr>\n",
       "      <th>1</th>\n",
       "      <td>0.000002</td>\n",
       "      <td>0</td>\n",
       "    </tr>\n",
       "    <tr>\n",
       "      <th>2</th>\n",
       "      <td>0.000002</td>\n",
       "      <td>0</td>\n",
       "    </tr>\n",
       "    <tr>\n",
       "      <th>3</th>\n",
       "      <td>0.000002</td>\n",
       "      <td>1</td>\n",
       "    </tr>\n",
       "    <tr>\n",
       "      <th>4</th>\n",
       "      <td>0.000002</td>\n",
       "      <td>1</td>\n",
       "    </tr>\n",
       "    <tr>\n",
       "      <th>5</th>\n",
       "      <td>0.000002</td>\n",
       "      <td>0</td>\n",
       "    </tr>\n",
       "    <tr>\n",
       "      <th>6</th>\n",
       "      <td>0.000002</td>\n",
       "      <td>1</td>\n",
       "    </tr>\n",
       "    <tr>\n",
       "      <th>7</th>\n",
       "      <td>0.000002</td>\n",
       "      <td>0</td>\n",
       "    </tr>\n",
       "    <tr>\n",
       "      <th>8</th>\n",
       "      <td>0.000002</td>\n",
       "      <td>1</td>\n",
       "    </tr>\n",
       "    <tr>\n",
       "      <th>9</th>\n",
       "      <td>0.000002</td>\n",
       "      <td>1</td>\n",
       "    </tr>\n",
       "  </tbody>\n",
       "</table>\n",
       "</div>"
      ],
      "text/plain": [
       "   BTC_Hashprice  Target Value\n",
       "0       0.000003             0\n",
       "1       0.000002             0\n",
       "2       0.000002             0\n",
       "3       0.000002             1\n",
       "4       0.000002             1\n",
       "5       0.000002             0\n",
       "6       0.000002             1\n",
       "7       0.000002             0\n",
       "8       0.000002             1\n",
       "9       0.000002             1"
      ]
     },
     "execution_count": 70,
     "metadata": {},
     "output_type": "execute_result"
    }
   ],
   "source": [
    "df_hashprice_no_nan.head(10)"
   ]
  },
  {
   "cell_type": "code",
   "execution_count": null,
   "id": "86a2c80d-4156-465a-b907-a01613503e12",
   "metadata": {},
   "outputs": [
    {
     "name": "stdout",
     "output_type": "stream",
     "text": [
      "  BTC_Hashprice_final_range BTC_Hashprice Target Value     \n",
      "                                    count         mean  sum\n",
      "0                    less63          1828     0.271335  496\n"
     ]
    }
   ],
   "source": [
    "\n",
    "df_hashprice_no_nan[\"BTC_Hashprice_final_range\"]= np.where(df_hashprice_no_nan[\"BTC_Hashprice\"]<=63,\"less63\",np.where(df_hashprice_no_nan[\"BTC_Hashprice\"] > 103,\"grater103\",\"63-103\"))\n",
    "df_new=df_hashprice_no_nan.loc[:,[\"BTC_Hashprice\",\"BTC_Hashprice_final_range\"]]\n",
    "df_new.head(100)\n",
    "\n",
    "# יצירת טבלת ציר עם df_Crypto_no_nan\n",
    "BTC_Hashprice_final_range = (\n",
    "    df_hashprice_no_nan.pivot_table(\n",
    "        index='BTC_Hashprice_final_range',\n",
    "        values=['BTC_Hashprice', 'Target Value'],\n",
    "        aggfunc={'BTC_Hashprice': 'count','Target Value': ['sum', 'mean']},\n",
    "    ).reset_index()\n",
    ")\n",
    "\n",
    "# הצגת הטבלה החדשה\n",
    "print(BTC_Hashprice_final_range)\n"
   ]
  },
  {
   "cell_type": "code",
   "execution_count": null,
   "id": "a4dac52e-aba0-43ec-9ede-c5102208fb81",
   "metadata": {},
   "outputs": [],
   "source": [
    "df_hashprice_nan = df.loc[:, ['BTC_Hashprice', 'Target Value']]"
   ]
  },
  {
   "cell_type": "code",
   "execution_count": null,
   "id": "770fe15f-6432-412a-9347-209d41ba03d7",
   "metadata": {},
   "outputs": [
    {
     "data": {
      "text/html": [
       "<div>\n",
       "<style scoped>\n",
       "    .dataframe tbody tr th:only-of-type {\n",
       "        vertical-align: middle;\n",
       "    }\n",
       "\n",
       "    .dataframe tbody tr th {\n",
       "        vertical-align: top;\n",
       "    }\n",
       "\n",
       "    .dataframe thead th {\n",
       "        text-align: right;\n",
       "    }\n",
       "</style>\n",
       "<table border=\"1\" class=\"dataframe\">\n",
       "  <thead>\n",
       "    <tr style=\"text-align: right;\">\n",
       "      <th></th>\n",
       "      <th>BTC_Hashprice</th>\n",
       "      <th>Target Value</th>\n",
       "    </tr>\n",
       "  </thead>\n",
       "  <tbody>\n",
       "    <tr>\n",
       "      <th>0</th>\n",
       "      <td>0.000003</td>\n",
       "      <td>0</td>\n",
       "    </tr>\n",
       "    <tr>\n",
       "      <th>1</th>\n",
       "      <td>0.000002</td>\n",
       "      <td>0</td>\n",
       "    </tr>\n",
       "    <tr>\n",
       "      <th>2</th>\n",
       "      <td>0.000002</td>\n",
       "      <td>0</td>\n",
       "    </tr>\n",
       "    <tr>\n",
       "      <th>3</th>\n",
       "      <td>0.000002</td>\n",
       "      <td>1</td>\n",
       "    </tr>\n",
       "    <tr>\n",
       "      <th>4</th>\n",
       "      <td>0.000002</td>\n",
       "      <td>1</td>\n",
       "    </tr>\n",
       "    <tr>\n",
       "      <th>5</th>\n",
       "      <td>0.000002</td>\n",
       "      <td>0</td>\n",
       "    </tr>\n",
       "    <tr>\n",
       "      <th>6</th>\n",
       "      <td>0.000002</td>\n",
       "      <td>1</td>\n",
       "    </tr>\n",
       "    <tr>\n",
       "      <th>7</th>\n",
       "      <td>0.000002</td>\n",
       "      <td>0</td>\n",
       "    </tr>\n",
       "    <tr>\n",
       "      <th>8</th>\n",
       "      <td>0.000002</td>\n",
       "      <td>1</td>\n",
       "    </tr>\n",
       "    <tr>\n",
       "      <th>9</th>\n",
       "      <td>0.000002</td>\n",
       "      <td>1</td>\n",
       "    </tr>\n",
       "  </tbody>\n",
       "</table>\n",
       "</div>"
      ],
      "text/plain": [
       "   BTC_Hashprice  Target Value\n",
       "0       0.000003             0\n",
       "1       0.000002             0\n",
       "2       0.000002             0\n",
       "3       0.000002             1\n",
       "4       0.000002             1\n",
       "5       0.000002             0\n",
       "6       0.000002             1\n",
       "7       0.000002             0\n",
       "8       0.000002             1\n",
       "9       0.000002             1"
      ]
     },
     "execution_count": 73,
     "metadata": {},
     "output_type": "execute_result"
    }
   ],
   "source": [
    "df_hashprice_nan.head(10)"
   ]
  },
  {
   "cell_type": "code",
   "execution_count": null,
   "id": "e39b5985-0761-4247-b86a-2077cec4421c",
   "metadata": {},
   "outputs": [],
   "source": [
    "nan_rows = df_hashprice_nan[df_hashprice_nan['BTC_Hashprice'].isnull()]"
   ]
  },
  {
   "cell_type": "code",
   "execution_count": null,
   "id": "4574053a-9b0a-4663-b5b7-773fb0c01b5a",
   "metadata": {},
   "outputs": [
    {
     "data": {
      "text/html": [
       "<div>\n",
       "<style scoped>\n",
       "    .dataframe tbody tr th:only-of-type {\n",
       "        vertical-align: middle;\n",
       "    }\n",
       "\n",
       "    .dataframe tbody tr th {\n",
       "        vertical-align: top;\n",
       "    }\n",
       "\n",
       "    .dataframe thead th {\n",
       "        text-align: right;\n",
       "    }\n",
       "</style>\n",
       "<table border=\"1\" class=\"dataframe\">\n",
       "  <thead>\n",
       "    <tr style=\"text-align: right;\">\n",
       "      <th></th>\n",
       "      <th>BTC_Hashprice</th>\n",
       "      <th>Target Value</th>\n",
       "    </tr>\n",
       "  </thead>\n",
       "  <tbody>\n",
       "    <tr>\n",
       "      <th>1828</th>\n",
       "      <td>NaN</td>\n",
       "      <td>0</td>\n",
       "    </tr>\n",
       "    <tr>\n",
       "      <th>1829</th>\n",
       "      <td>NaN</td>\n",
       "      <td>0</td>\n",
       "    </tr>\n",
       "    <tr>\n",
       "      <th>1830</th>\n",
       "      <td>NaN</td>\n",
       "      <td>0</td>\n",
       "    </tr>\n",
       "    <tr>\n",
       "      <th>1831</th>\n",
       "      <td>NaN</td>\n",
       "      <td>0</td>\n",
       "    </tr>\n",
       "    <tr>\n",
       "      <th>1832</th>\n",
       "      <td>NaN</td>\n",
       "      <td>0</td>\n",
       "    </tr>\n",
       "    <tr>\n",
       "      <th>...</th>\n",
       "      <td>...</td>\n",
       "      <td>...</td>\n",
       "    </tr>\n",
       "    <tr>\n",
       "      <th>2643</th>\n",
       "      <td>NaN</td>\n",
       "      <td>0</td>\n",
       "    </tr>\n",
       "    <tr>\n",
       "      <th>2644</th>\n",
       "      <td>NaN</td>\n",
       "      <td>1</td>\n",
       "    </tr>\n",
       "    <tr>\n",
       "      <th>2645</th>\n",
       "      <td>NaN</td>\n",
       "      <td>0</td>\n",
       "    </tr>\n",
       "    <tr>\n",
       "      <th>2646</th>\n",
       "      <td>NaN</td>\n",
       "      <td>0</td>\n",
       "    </tr>\n",
       "    <tr>\n",
       "      <th>2647</th>\n",
       "      <td>NaN</td>\n",
       "      <td>1</td>\n",
       "    </tr>\n",
       "  </tbody>\n",
       "</table>\n",
       "<p>820 rows × 2 columns</p>\n",
       "</div>"
      ],
      "text/plain": [
       "      BTC_Hashprice  Target Value\n",
       "1828            NaN             0\n",
       "1829            NaN             0\n",
       "1830            NaN             0\n",
       "1831            NaN             0\n",
       "1832            NaN             0\n",
       "...             ...           ...\n",
       "2643            NaN             0\n",
       "2644            NaN             1\n",
       "2645            NaN             0\n",
       "2646            NaN             0\n",
       "2647            NaN             1\n",
       "\n",
       "[820 rows x 2 columns]"
      ]
     },
     "execution_count": 75,
     "metadata": {},
     "output_type": "execute_result"
    }
   ],
   "source": [
    "nan_rows"
   ]
  },
  {
   "cell_type": "code",
   "execution_count": null,
   "id": "251ddc2d-d536-483a-aaca-c7f739fa3e8c",
   "metadata": {},
   "outputs": [],
   "source": []
  },
  {
   "cell_type": "code",
   "execution_count": null,
   "id": "2c27c0ed-6cea-48cd-bb24-4f2cbdf5f2a8",
   "metadata": {},
   "outputs": [],
   "source": [
    "# לייצר 2 DF אחד עם NULL אחד ללא ל2 העמודות הבעיתיות לייצר טבלאות עם כמות ואחוז "
   ]
  },
  {
   "cell_type": "code",
   "execution_count": null,
   "id": "dd4a4be2-d6fb-493c-b8b3-95a06bd2961a",
   "metadata": {},
   "outputs": [],
   "source": [
    "# Crypto Volatility Index\n",
    "df_Crypto_no_nan= df.loc[:, ['Crypto Volatility Index', 'Target Value']].dropna()"
   ]
  },
  {
   "cell_type": "code",
   "execution_count": null,
   "id": "5a96f064-bd53-4aa1-9076-ac59a66dd003",
   "metadata": {},
   "outputs": [
    {
     "data": {
      "text/plain": [
       "Crypto Volatility Index    0\n",
       "Target Value               0\n",
       "dtype: int64"
      ]
     },
     "execution_count": 78,
     "metadata": {},
     "output_type": "execute_result"
    }
   ],
   "source": [
    "df_Crypto_no_nan.isnull().sum()"
   ]
  },
  {
   "cell_type": "code",
   "execution_count": null,
   "id": "9fe0cdf2-a3fa-454b-bed1-7b8e9681104f",
   "metadata": {},
   "outputs": [
    {
     "data": {
      "text/html": [
       "<div>\n",
       "<style scoped>\n",
       "    .dataframe tbody tr th:only-of-type {\n",
       "        vertical-align: middle;\n",
       "    }\n",
       "\n",
       "    .dataframe tbody tr th {\n",
       "        vertical-align: top;\n",
       "    }\n",
       "\n",
       "    .dataframe thead th {\n",
       "        text-align: right;\n",
       "    }\n",
       "</style>\n",
       "<table border=\"1\" class=\"dataframe\">\n",
       "  <thead>\n",
       "    <tr style=\"text-align: right;\">\n",
       "      <th></th>\n",
       "      <th>Crypto Volatility Index</th>\n",
       "      <th>Target Value</th>\n",
       "    </tr>\n",
       "  </thead>\n",
       "  <tbody>\n",
       "    <tr>\n",
       "      <th>0</th>\n",
       "      <td>75.1890</td>\n",
       "      <td>0</td>\n",
       "    </tr>\n",
       "    <tr>\n",
       "      <th>1</th>\n",
       "      <td>74.3407</td>\n",
       "      <td>0</td>\n",
       "    </tr>\n",
       "    <tr>\n",
       "      <th>2</th>\n",
       "      <td>73.6438</td>\n",
       "      <td>0</td>\n",
       "    </tr>\n",
       "    <tr>\n",
       "      <th>3</th>\n",
       "      <td>72.4399</td>\n",
       "      <td>1</td>\n",
       "    </tr>\n",
       "    <tr>\n",
       "      <th>4</th>\n",
       "      <td>74.0805</td>\n",
       "      <td>1</td>\n",
       "    </tr>\n",
       "    <tr>\n",
       "      <th>5</th>\n",
       "      <td>75.3234</td>\n",
       "      <td>0</td>\n",
       "    </tr>\n",
       "    <tr>\n",
       "      <th>6</th>\n",
       "      <td>73.2947</td>\n",
       "      <td>1</td>\n",
       "    </tr>\n",
       "    <tr>\n",
       "      <th>7</th>\n",
       "      <td>76.0104</td>\n",
       "      <td>0</td>\n",
       "    </tr>\n",
       "    <tr>\n",
       "      <th>8</th>\n",
       "      <td>74.7614</td>\n",
       "      <td>1</td>\n",
       "    </tr>\n",
       "    <tr>\n",
       "      <th>9</th>\n",
       "      <td>68.5513</td>\n",
       "      <td>1</td>\n",
       "    </tr>\n",
       "  </tbody>\n",
       "</table>\n",
       "</div>"
      ],
      "text/plain": [
       "   Crypto Volatility Index  Target Value\n",
       "0                  75.1890             0\n",
       "1                  74.3407             0\n",
       "2                  73.6438             0\n",
       "3                  72.4399             1\n",
       "4                  74.0805             1\n",
       "5                  75.3234             0\n",
       "6                  73.2947             1\n",
       "7                  76.0104             0\n",
       "8                  74.7614             1\n",
       "9                  68.5513             1"
      ]
     },
     "execution_count": 79,
     "metadata": {},
     "output_type": "execute_result"
    }
   ],
   "source": [
    "df_Crypto_no_nan.head(10)"
   ]
  },
  {
   "cell_type": "code",
   "execution_count": null,
   "id": "8ad20957-d79c-403c-bb21-c70ba62bf4d4",
   "metadata": {},
   "outputs": [
    {
     "name": "stdout",
     "output_type": "stream",
     "text": [
      "  crypto_volatility_final_range Crypto Volatility Index Target Value     \n",
      "                                                  count         mean  sum\n",
      "0                        63-103                    1164     0.281787  328\n",
      "1                     grater103                     207     0.507246  105\n",
      "2                        less63                     474     0.132911   63\n"
     ]
    }
   ],
   "source": [
    "\n",
    "df_Crypto_no_nan[\"crypto_volatility_final_range\"]= np.where(df_Crypto_no_nan[\"Crypto Volatility Index\"]<=63,\"less63\",np.where(df_Crypto_no_nan[\"Crypto Volatility Index\"] > 103,\"grater103\",\"63-103\"))\n",
    "df_new=df_Crypto_no_nan.loc[:,[\"Crypto Volatility Index\",\"crypto_volatility_final_range\"]]\n",
    "df_new.head(100)\n",
    "\n",
    "# יצירת טבלת ציר עם df_Crypto_no_nan\n",
    "df_Crypto_volatility_final_range = (\n",
    "    df_Crypto_no_nan.pivot_table(\n",
    "        index='crypto_volatility_final_range',\n",
    "        values=['Crypto Volatility Index', 'Target Value'],\n",
    "        aggfunc={'Crypto Volatility Index': 'count','Target Value': ['sum', 'mean']},\n",
    "    ).reset_index()\n",
    ")\n",
    "\n",
    "# הצגת הטבלה החדשה\n",
    "print(df_Crypto_volatility_final_range)\n"
   ]
  },
  {
   "cell_type": "code",
   "execution_count": null,
   "id": "c56e3ed2-1c5a-42e0-a538-7aa39c603c6a",
   "metadata": {},
   "outputs": [],
   "source": [
    "df_Crypto_nan = df.loc[:, ['Crypto Volatility Index', 'Target Value']]"
   ]
  },
  {
   "cell_type": "code",
   "execution_count": null,
   "id": "5a10361f-7f8d-4f1e-9de0-0733f33e6494",
   "metadata": {},
   "outputs": [
    {
     "data": {
      "text/html": [
       "<div>\n",
       "<style scoped>\n",
       "    .dataframe tbody tr th:only-of-type {\n",
       "        vertical-align: middle;\n",
       "    }\n",
       "\n",
       "    .dataframe tbody tr th {\n",
       "        vertical-align: top;\n",
       "    }\n",
       "\n",
       "    .dataframe thead th {\n",
       "        text-align: right;\n",
       "    }\n",
       "</style>\n",
       "<table border=\"1\" class=\"dataframe\">\n",
       "  <thead>\n",
       "    <tr style=\"text-align: right;\">\n",
       "      <th></th>\n",
       "      <th>Crypto Volatility Index</th>\n",
       "      <th>Target Value</th>\n",
       "    </tr>\n",
       "  </thead>\n",
       "  <tbody>\n",
       "    <tr>\n",
       "      <th>0</th>\n",
       "      <td>75.1890</td>\n",
       "      <td>0</td>\n",
       "    </tr>\n",
       "    <tr>\n",
       "      <th>1</th>\n",
       "      <td>74.3407</td>\n",
       "      <td>0</td>\n",
       "    </tr>\n",
       "    <tr>\n",
       "      <th>2</th>\n",
       "      <td>73.6438</td>\n",
       "      <td>0</td>\n",
       "    </tr>\n",
       "    <tr>\n",
       "      <th>3</th>\n",
       "      <td>72.4399</td>\n",
       "      <td>1</td>\n",
       "    </tr>\n",
       "    <tr>\n",
       "      <th>4</th>\n",
       "      <td>74.0805</td>\n",
       "      <td>1</td>\n",
       "    </tr>\n",
       "    <tr>\n",
       "      <th>5</th>\n",
       "      <td>75.3234</td>\n",
       "      <td>0</td>\n",
       "    </tr>\n",
       "    <tr>\n",
       "      <th>6</th>\n",
       "      <td>73.2947</td>\n",
       "      <td>1</td>\n",
       "    </tr>\n",
       "    <tr>\n",
       "      <th>7</th>\n",
       "      <td>76.0104</td>\n",
       "      <td>0</td>\n",
       "    </tr>\n",
       "    <tr>\n",
       "      <th>8</th>\n",
       "      <td>74.7614</td>\n",
       "      <td>1</td>\n",
       "    </tr>\n",
       "    <tr>\n",
       "      <th>9</th>\n",
       "      <td>68.5513</td>\n",
       "      <td>1</td>\n",
       "    </tr>\n",
       "  </tbody>\n",
       "</table>\n",
       "</div>"
      ],
      "text/plain": [
       "   Crypto Volatility Index  Target Value\n",
       "0                  75.1890             0\n",
       "1                  74.3407             0\n",
       "2                  73.6438             0\n",
       "3                  72.4399             1\n",
       "4                  74.0805             1\n",
       "5                  75.3234             0\n",
       "6                  73.2947             1\n",
       "7                  76.0104             0\n",
       "8                  74.7614             1\n",
       "9                  68.5513             1"
      ]
     },
     "execution_count": 82,
     "metadata": {},
     "output_type": "execute_result"
    }
   ],
   "source": [
    "df_Crypto_nan.head(10)"
   ]
  },
  {
   "cell_type": "code",
   "execution_count": null,
   "id": "ede94a47-b75c-47ce-ba74-ec61dec5ed0f",
   "metadata": {},
   "outputs": [],
   "source": [
    "nan_rows_Crypto = df_Crypto_nan[df_Crypto_nan['Crypto Volatility Index'].isnull()]"
   ]
  },
  {
   "cell_type": "code",
   "execution_count": null,
   "id": "20fd7d77-bf27-4b69-bafc-e8f1510c7d74",
   "metadata": {},
   "outputs": [
    {
     "data": {
      "text/html": [
       "<div>\n",
       "<style scoped>\n",
       "    .dataframe tbody tr th:only-of-type {\n",
       "        vertical-align: middle;\n",
       "    }\n",
       "\n",
       "    .dataframe tbody tr th {\n",
       "        vertical-align: top;\n",
       "    }\n",
       "\n",
       "    .dataframe thead th {\n",
       "        text-align: right;\n",
       "    }\n",
       "</style>\n",
       "<table border=\"1\" class=\"dataframe\">\n",
       "  <thead>\n",
       "    <tr style=\"text-align: right;\">\n",
       "      <th></th>\n",
       "      <th>Crypto Volatility Index</th>\n",
       "      <th>Target Value</th>\n",
       "    </tr>\n",
       "  </thead>\n",
       "  <tbody>\n",
       "    <tr>\n",
       "      <th>319</th>\n",
       "      <td>NaN</td>\n",
       "      <td>1</td>\n",
       "    </tr>\n",
       "    <tr>\n",
       "      <th>671</th>\n",
       "      <td>NaN</td>\n",
       "      <td>0</td>\n",
       "    </tr>\n",
       "    <tr>\n",
       "      <th>778</th>\n",
       "      <td>NaN</td>\n",
       "      <td>0</td>\n",
       "    </tr>\n",
       "    <tr>\n",
       "      <th>779</th>\n",
       "      <td>NaN</td>\n",
       "      <td>1</td>\n",
       "    </tr>\n",
       "    <tr>\n",
       "      <th>1849</th>\n",
       "      <td>NaN</td>\n",
       "      <td>0</td>\n",
       "    </tr>\n",
       "    <tr>\n",
       "      <th>...</th>\n",
       "      <td>...</td>\n",
       "      <td>...</td>\n",
       "    </tr>\n",
       "    <tr>\n",
       "      <th>2643</th>\n",
       "      <td>NaN</td>\n",
       "      <td>0</td>\n",
       "    </tr>\n",
       "    <tr>\n",
       "      <th>2644</th>\n",
       "      <td>NaN</td>\n",
       "      <td>1</td>\n",
       "    </tr>\n",
       "    <tr>\n",
       "      <th>2645</th>\n",
       "      <td>NaN</td>\n",
       "      <td>0</td>\n",
       "    </tr>\n",
       "    <tr>\n",
       "      <th>2646</th>\n",
       "      <td>NaN</td>\n",
       "      <td>0</td>\n",
       "    </tr>\n",
       "    <tr>\n",
       "      <th>2647</th>\n",
       "      <td>NaN</td>\n",
       "      <td>1</td>\n",
       "    </tr>\n",
       "  </tbody>\n",
       "</table>\n",
       "<p>803 rows × 2 columns</p>\n",
       "</div>"
      ],
      "text/plain": [
       "      Crypto Volatility Index  Target Value\n",
       "319                       NaN             1\n",
       "671                       NaN             0\n",
       "778                       NaN             0\n",
       "779                       NaN             1\n",
       "1849                      NaN             0\n",
       "...                       ...           ...\n",
       "2643                      NaN             0\n",
       "2644                      NaN             1\n",
       "2645                      NaN             0\n",
       "2646                      NaN             0\n",
       "2647                      NaN             1\n",
       "\n",
       "[803 rows x 2 columns]"
      ]
     },
     "execution_count": 84,
     "metadata": {},
     "output_type": "execute_result"
    }
   ],
   "source": [
    "nan_rows_Crypto"
   ]
  },
  {
   "cell_type": "code",
   "execution_count": null,
   "id": "47f895f0-fb6a-4a2b-9cee-b4a8be7cff66",
   "metadata": {},
   "outputs": [],
   "source": [
    "# שב איך לעגל 3 ספרות אחרי הנקודה בchaing\n",
    "# last halving\n",
    "# מאיה איך אני מוצאת מיקום לוקאלי"
   ]
  },
  {
   "cell_type": "code",
   "execution_count": null,
   "id": "e7520eb3-9dff-414b-aafc-8942ed2dcfb2",
   "metadata": {},
   "outputs": [],
   "source": []
  }
 ],
 "metadata": {
  "kernelspec": {
   "display_name": "Python 3 (ipykernel)",
   "language": "python",
   "name": "python3"
  },
  "language_info": {
   "codemirror_mode": {
    "name": "ipython",
    "version": 3
   },
   "file_extension": ".py",
   "mimetype": "text/x-python",
   "name": "python",
   "nbconvert_exporter": "python",
   "pygments_lexer": "ipython3",
   "version": "3.12.4"
  }
 },
 "nbformat": 4,
 "nbformat_minor": 5
}
