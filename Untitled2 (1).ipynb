{
 "cells": [
  {
   "cell_type": "code",
   "execution_count": 1,
   "id": "91baa6ce-de7e-4375-a824-60020d1bd94b",
   "metadata": {},
   "outputs": [],
   "source": [
    "import pandas as pd\n",
    "import xlrd\n",
    "from matplotlib import pyplot as plt\n",
    "import numpy as np\n",
    "import openpyxl\n",
    "import matplotlib"
   ]
  },
  {
   "cell_type": "code",
   "execution_count": 2,
   "id": "818b931a",
   "metadata": {},
   "outputs": [
    {
     "data": {
      "text/html": [
       "<div>\n",
       "<style scoped>\n",
       "    .dataframe tbody tr th:only-of-type {\n",
       "        vertical-align: middle;\n",
       "    }\n",
       "\n",
       "    .dataframe tbody tr th {\n",
       "        vertical-align: top;\n",
       "    }\n",
       "\n",
       "    .dataframe thead th {\n",
       "        text-align: right;\n",
       "    }\n",
       "</style>\n",
       "<table border=\"1\" class=\"dataframe\">\n",
       "  <thead>\n",
       "    <tr style=\"text-align: right;\">\n",
       "      <th></th>\n",
       "      <th>Date</th>\n",
       "      <th>DATE</th>\n",
       "      <th>Price</th>\n",
       "      <th>Open</th>\n",
       "      <th>High</th>\n",
       "      <th>Low</th>\n",
       "      <th>Vol.</th>\n",
       "      <th>Change %</th>\n",
       "      <th>SN&amp;P Adjusted</th>\n",
       "      <th>DXY Adjusted</th>\n",
       "      <th>GOLD Adjusted</th>\n",
       "      <th>ETH Price</th>\n",
       "      <th>ETH Vol.</th>\n",
       "      <th>OIL Price Adjusted</th>\n",
       "      <th>Days from the last halving</th>\n",
       "      <th>BTC_Hashprice</th>\n",
       "      <th>Crypto Volatility Index</th>\n",
       "      <th>Target Value</th>\n",
       "    </tr>\n",
       "  </thead>\n",
       "  <tbody>\n",
       "    <tr>\n",
       "      <th>0</th>\n",
       "      <td>04/21/2024</td>\n",
       "      <td>2024-04-21</td>\n",
       "      <td>64902.8</td>\n",
       "      <td>64942.1</td>\n",
       "      <td>65680.6</td>\n",
       "      <td>64618.4</td>\n",
       "      <td>45.17K</td>\n",
       "      <td>-0.0009</td>\n",
       "      <td>4953.56</td>\n",
       "      <td>105.984</td>\n",
       "      <td>2390.45</td>\n",
       "      <td>3169.62</td>\n",
       "      <td>276.66K</td>\n",
       "      <td>83.14</td>\n",
       "      <td>2</td>\n",
       "      <td>0.000003</td>\n",
       "      <td>75.1890</td>\n",
       "      <td>0</td>\n",
       "    </tr>\n",
       "    <tr>\n",
       "      <th>1</th>\n",
       "      <td>04/20/2024</td>\n",
       "      <td>2024-04-20</td>\n",
       "      <td>64961.1</td>\n",
       "      <td>63817.6</td>\n",
       "      <td>65375.6</td>\n",
       "      <td>63131.7</td>\n",
       "      <td>49.33K</td>\n",
       "      <td>0.0182</td>\n",
       "      <td>4953.56</td>\n",
       "      <td>105.984</td>\n",
       "      <td>2390.45</td>\n",
       "      <td>3156.63</td>\n",
       "      <td>256.05K</td>\n",
       "      <td>83.14</td>\n",
       "      <td>1</td>\n",
       "      <td>0.000002</td>\n",
       "      <td>74.3407</td>\n",
       "      <td>0</td>\n",
       "    </tr>\n",
       "    <tr>\n",
       "      <th>2</th>\n",
       "      <td>04/19/2024</td>\n",
       "      <td>2024-04-19</td>\n",
       "      <td>63799.1</td>\n",
       "      <td>63480.5</td>\n",
       "      <td>65441.2</td>\n",
       "      <td>59693.3</td>\n",
       "      <td>150.34K</td>\n",
       "      <td>0.0050</td>\n",
       "      <td>4953.56</td>\n",
       "      <td>105.984</td>\n",
       "      <td>2390.45</td>\n",
       "      <td>3056.23</td>\n",
       "      <td>645.65K</td>\n",
       "      <td>83.14</td>\n",
       "      <td>1439</td>\n",
       "      <td>0.000002</td>\n",
       "      <td>73.6438</td>\n",
       "      <td>0</td>\n",
       "    </tr>\n",
       "    <tr>\n",
       "      <th>3</th>\n",
       "      <td>04/18/2024</td>\n",
       "      <td>2024-04-18</td>\n",
       "      <td>63481.4</td>\n",
       "      <td>61278.9</td>\n",
       "      <td>64092.4</td>\n",
       "      <td>60822.3</td>\n",
       "      <td>97.38K</td>\n",
       "      <td>0.0359</td>\n",
       "      <td>5001.89</td>\n",
       "      <td>105.982</td>\n",
       "      <td>2378.25</td>\n",
       "      <td>3064.48</td>\n",
       "      <td>423.99K</td>\n",
       "      <td>82.73</td>\n",
       "      <td>1438</td>\n",
       "      <td>0.000002</td>\n",
       "      <td>72.4399</td>\n",
       "      <td>1</td>\n",
       "    </tr>\n",
       "    <tr>\n",
       "      <th>4</th>\n",
       "      <td>04/17/2024</td>\n",
       "      <td>2024-04-17</td>\n",
       "      <td>61278.9</td>\n",
       "      <td>63802.3</td>\n",
       "      <td>64451.5</td>\n",
       "      <td>59820.8</td>\n",
       "      <td>118.92K</td>\n",
       "      <td>-0.0396</td>\n",
       "      <td>5007.25</td>\n",
       "      <td>105.764</td>\n",
       "      <td>2360.81</td>\n",
       "      <td>2985.82</td>\n",
       "      <td>524.88K</td>\n",
       "      <td>82.69</td>\n",
       "      <td>1437</td>\n",
       "      <td>0.000002</td>\n",
       "      <td>74.0805</td>\n",
       "      <td>1</td>\n",
       "    </tr>\n",
       "  </tbody>\n",
       "</table>\n",
       "</div>"
      ],
      "text/plain": [
       "         Date       DATE    Price     Open     High      Low     Vol.  \\\n",
       "0  04/21/2024 2024-04-21  64902.8  64942.1  65680.6  64618.4   45.17K   \n",
       "1  04/20/2024 2024-04-20  64961.1  63817.6  65375.6  63131.7   49.33K   \n",
       "2  04/19/2024 2024-04-19  63799.1  63480.5  65441.2  59693.3  150.34K   \n",
       "3  04/18/2024 2024-04-18  63481.4  61278.9  64092.4  60822.3   97.38K   \n",
       "4  04/17/2024 2024-04-17  61278.9  63802.3  64451.5  59820.8  118.92K   \n",
       "\n",
       "   Change %  SN&P Adjusted  DXY Adjusted  GOLD Adjusted  ETH Price ETH Vol.  \\\n",
       "0   -0.0009        4953.56       105.984        2390.45    3169.62  276.66K   \n",
       "1    0.0182        4953.56       105.984        2390.45    3156.63  256.05K   \n",
       "2    0.0050        4953.56       105.984        2390.45    3056.23  645.65K   \n",
       "3    0.0359        5001.89       105.982        2378.25    3064.48  423.99K   \n",
       "4   -0.0396        5007.25       105.764        2360.81    2985.82  524.88K   \n",
       "\n",
       "   OIL Price Adjusted  Days from the last halving  BTC_Hashprice  \\\n",
       "0               83.14                           2       0.000003   \n",
       "1               83.14                           1       0.000002   \n",
       "2               83.14                        1439       0.000002   \n",
       "3               82.73                        1438       0.000002   \n",
       "4               82.69                        1437       0.000002   \n",
       "\n",
       "   Crypto Volatility Index  Target Value  \n",
       "0                  75.1890             0  \n",
       "1                  74.3407             0  \n",
       "2                  73.6438             0  \n",
       "3                  72.4399             1  \n",
       "4                  74.0805             1  "
      ]
     },
     "execution_count": 2,
     "metadata": {},
     "output_type": "execute_result"
    }
   ],
   "source": [
    "data=pd.read_excel('E9367CD7-C9BA-4C8B-86C9-53837D81AD49.Bitcoin Historical Data (1).xlsx')\n",
    "data.head()"
   ]
  },
  {
   "cell_type": "code",
   "execution_count": 3,
   "id": "ab211482",
   "metadata": {},
   "outputs": [],
   "source": [
    "# גרפים, שלב 1 distribution"
   ]
  },
  {
   "cell_type": "code",
   "execution_count": 4,
   "id": "53da8920",
   "metadata": {},
   "outputs": [
    {
     "data": {
      "image/png": "[encoded data removed]",
      "text/plain": [
       "<Figure size 640x480 with 1 Axes>"
      ]
     },
     "metadata": {},
     "output_type": "display_data"
    }
   ],
   "source": [
    "price=data['Price']\n",
    "minPrice=price.min()\n",
    "maxPrice=price.max()\n",
    "step = 5000\n",
    "xpoints = np.arange(minPrice, maxPrice+step,step) #כל הספרות בדילוגים של 500\n",
    "# חישוב תדירות לכל טווח מחיר\n",
    "hist, bins = np.histogram(price, bins=xpoints)\n",
    "plt.plot(xpoints[:-1], hist,label=\"Price\")\n",
    "plt.title(\"distribution\")\n",
    "plt.xlabel(\"sum\")\n",
    "plt.ylabel(\"cnt\")\n",
    "plt.show()\n"
   ]
  },
  {
   "cell_type": "code",
   "execution_count": 5,
   "id": "920aa553-05c6-4ac1-a105-51f37506b93f",
   "metadata": {},
   "outputs": [
    {
     "ename": "SyntaxError",
     "evalue": "unterminated string literal (detected at line 1) (4098730395.py, line 1)",
     "output_type": "error",
     "traceback": [
      "\u001b[1;36m  Cell \u001b[1;32mIn[5], line 1\u001b[1;36m\u001b[0m\n\u001b[1;33m    change=data['\u001b[0m\n\u001b[1;37m                ^\u001b[0m\n\u001b[1;31mSyntaxError\u001b[0m\u001b[1;31m:\u001b[0m unterminated string literal (detected at line 1)\n"
     ]
    }
   ],
   "source": [
    "change=data['\n",
    "     %']\n",
    "minChange=change.min()\n",
    "maxChange=change.max()\n",
    "step = 0.1\n",
    "xpoints = np.arange(minChange, maxChange+step,step) \n",
    "hist, bins = np.histogram(change, bins=xpoints)\n",
    "plt.plot(xpoints[:-1], hist,label=\"Change\")\n",
    "plt.title(\"distribution\")\n",
    "plt.xlabel(\"sum\")\n",
    "plt.ylabel(\"cnt\")\n",
    "plt.legend()\n",
    "plt.show()"
   ]
  },
  {
   "cell_type": "code",
   "execution_count": null,
   "id": "ffff506d-67ad-461c-8e7f-991c0cf80200",
   "metadata": {},
   "outputs": [
    {
     "data": {
      "image/png": "[encoded data removed]",
      "text/plain": [
       "<Figure size 640x480 with 1 Axes>"
      ]
     },
     "metadata": {},
     "output_type": "display_data"
    }
   ],
   "source": [
    "Crypto_Volatility_Index=data['Crypto Volatility Index']\n",
    "minCrypto_Volatility_Index=Crypto_Volatility_Index.min()\n",
    "maxCrypto_Volatility_Index=Crypto_Volatility_Index.max()\n",
    "step = 1\n",
    "xpoints = np.arange(minCrypto_Volatility_Index, maxCrypto_Volatility_Index+step,step) \n",
    "hist, bins = np.histogram(Crypto_Volatility_Index, bins=xpoints)\n",
    "plt.plot(xpoints[:-1], hist,label=\"Crypto_Volatility_Index\")\n",
    "plt.title(\"distribution\")\n",
    "plt.xlabel(\"sum\")\n",
    "plt.ylabel(\"cnt\")\n",
    "plt.legend()\n",
    "plt.show()"
   ]
  },
  {
   "cell_type": "code",
   "execution_count": null,
   "id": "cbe1a95f",
   "metadata": {},
   "outputs": [
    {
     "data": {
      "image/png": "[encoded data removed]",
      "text/plain": [
       "<Figure size 640x480 with 1 Axes>"
      ]
     },
     "metadata": {},
     "output_type": "display_data"
    }
   ],
   "source": [
    "SN_P=data['SN&P Adjusted']\n",
    "minSN_P=SN_P.min()\n",
    "maxSN_P=SN_P.max()\n",
    "step = 100\n",
    "xpoints = np.arange(minSN_P, maxSN_P+step,step) #כל הספרות בדילוגים של 1\n",
    "hist, bins = np.histogram(SN_P, bins=xpoints)\n",
    "plt.plot(xpoints[:-1], hist,label=\"SN_P\")\n",
    "plt.title(\"distribution\")\n",
    "plt.xlabel(\"sum\")\n",
    "plt.ylabel(\"cnt\")\n",
    "plt.legend()\n",
    "plt.show()"
   ]
  },
  {
   "cell_type": "code",
   "execution_count": null,
   "id": "3b3e11be",
   "metadata": {},
   "outputs": [
    {
     "data": {
      "image/png": "[encoded data removed]",
      "text/plain": [
       "<Figure size 640x480 with 1 Axes>"
      ]
     },
     "metadata": {},
     "output_type": "display_data"
    }
   ],
   "source": [
    "DXY=data['DXY Adjusted']\n",
    "minDXY=DXY.min()\n",
    "maxDXY=DXY.max()\n",
    "step = 1\n",
    "xpoints = np.arange(minDXY, maxDXY+step,step) #כל הספרות בדילוגים של 1\n",
    "hist, bins = np.histogram(DXY, bins=xpoints)\n",
    "plt.plot(xpoints[:-1], hist,label=\"DXY\")\n",
    "plt.title(\"distribution\")\n",
    "plt.xlabel(\"sum\")\n",
    "plt.ylabel(\"cnt\")\n",
    "plt.legend()\n",
    "plt.show()"
   ]
  },
  {
   "cell_type": "code",
   "execution_count": null,
   "id": "536d8c29",
   "metadata": {},
   "outputs": [
    {
     "data": {
      "image/png": "[encoded data removed]",
      "text/plain": [
       "<Figure size 640x480 with 1 Axes>"
      ]
     },
     "metadata": {},
     "output_type": "display_data"
    }
   ],
   "source": [
    "GOLD=data['GOLD Adjusted']\n",
    "minGOLD=GOLD.min()\n",
    "maxGOLD=GOLD.max()\n",
    "step = 10\n",
    "xpoints = np.arange(minGOLD, maxGOLD+step,step) #כל הספרות בדילוגים של 1\n",
    "hist, bins = np.histogram(GOLD, bins=xpoints)\n",
    "plt.plot(xpoints[:-1], hist,label=\"GOLD\")\n",
    "plt.title(\"distribution\")\n",
    "plt.xlabel(\"sum\")\n",
    "plt.ylabel(\"cnt\")\n",
    "plt.legend()\n",
    "plt.show()"
   ]
  },
  {
   "cell_type": "code",
   "execution_count": null,
   "id": "5ba2970c",
   "metadata": {},
   "outputs": [
    {
     "data": {
      "image/png": "[encoded data removed]",
      "text/plain": [
       "<Figure size 640x480 with 1 Axes>"
      ]
     },
     "metadata": {},
     "output_type": "display_data"
    }
   ],
   "source": [
    "ETH=data['ETH Price']\n",
    "minETH=ETH.min()\n",
    "maxETH=ETH.max()\n",
    "step = 100\n",
    "xpoints = np.arange(minETH, maxETH+step,step) #כל הספרות בדילוגים של 1\n",
    "hist, bins = np.histogram(ETH, bins=xpoints)\n",
    "plt.plot(xpoints[:-1], hist,label=\"ETH Price\")\n",
    "plt.title(\"distribution\")\n",
    "plt.xlabel(\"sum\")\n",
    "plt.ylabel(\"cnt\")\n",
    "plt.legend()\n",
    "plt.show()"
   ]
  },
  {
   "cell_type": "code",
   "execution_count": null,
   "id": "dfbdc80e",
   "metadata": {},
   "outputs": [],
   "source": [
    "data['ETH Vol.'] = data['ETH Vol.'].str.replace('[a-zA-Z]', '', regex=True)"
   ]
  },
  {
   "cell_type": "code",
   "execution_count": null,
   "id": "a00dfd55",
   "metadata": {},
   "outputs": [
    {
     "name": "stdout",
     "output_type": "stream",
     "text": [
      "0       276.66\n",
      "1       256.05\n",
      "2       645.65\n",
      "3       423.99\n",
      "4       524.88\n",
      "         ...  \n",
      "2643     26.19\n",
      "2644    105.21\n",
      "2645     54.39\n",
      "2646    140.66\n",
      "2647    125.31\n",
      "Name: ETH Vol., Length: 2648, dtype: float64\n"
     ]
    }
   ],
   "source": [
    "data['ETH Vol.'] = pd.to_numeric(data['ETH Vol.'])\n",
    "print(data['ETH Vol.'])"
   ]
  },
  {
   "cell_type": "code",
   "execution_count": null,
   "id": "25892795",
   "metadata": {},
   "outputs": [
    {
     "data": {
      "image/png": "[encoded data removed]",
      "text/plain": [
       "<Figure size 640x480 with 1 Axes>"
      ]
     },
     "metadata": {},
     "output_type": "display_data"
    }
   ],
   "source": [
    "ETH_V=data['ETH Vol.']\n",
    "minETH_V=ETH_V.min()\n",
    "maxETH_V=ETH_V.max()\n",
    "step = 10\n",
    "xpoints = np.arange(minETH_V, maxETH_V + step,step) #כל הספרות בדילוגים של 1\n",
    "hist, bins = np.histogram(ETH_V, bins=xpoints)\n",
    "plt.plot(xpoints[:-1], hist,label=\"ETH_V\")\n",
    "plt.title(\"distribution\")\n",
    "plt.xlabel(\"sum\")\n",
    "plt.ylabel(\"cnt\")\n",
    "plt.legend()\n",
    "plt.show()"
   ]
  },
  {
   "cell_type": "code",
   "execution_count": null,
   "id": "7329bee2",
   "metadata": {},
   "outputs": [],
   "source": [
    "data['Vol.'] = data['Vol.'].str.replace('[a-zA-Z]', '', regex=True)"
   ]
  },
  {
   "cell_type": "code",
   "execution_count": null,
   "id": "f7fbd876",
   "metadata": {},
   "outputs": [
    {
     "name": "stdout",
     "output_type": "stream",
     "text": [
      "0        45.17\n",
      "1        49.33\n",
      "2       150.34\n",
      "3        97.38\n",
      "4       118.92\n",
      "         ...  \n",
      "2643     37.90\n",
      "2644     58.87\n",
      "2645     32.74\n",
      "2646     47.93\n",
      "2647     40.38\n",
      "Name: Vol., Length: 2648, dtype: float64\n"
     ]
    }
   ],
   "source": [
    "data['Vol.'] = pd.to_numeric(data['Vol.'])\n",
    "print(data['Vol.'])"
   ]
  },
  {
   "cell_type": "code",
   "execution_count": null,
   "id": "1e17d661",
   "metadata": {},
   "outputs": [],
   "source": [
    "\n"
   ]
  },
  {
   "cell_type": "code",
   "execution_count": null,
   "id": "4a31dbd7",
   "metadata": {},
   "outputs": [
    {
     "data": {
      "image/png": "[encoded data removed]",
      "text/plain": [
       "<Figure size 640x480 with 1 Axes>"
      ]
     },
     "metadata": {},
     "output_type": "display_data"
    }
   ],
   "source": [
    "OIL=data['OIL Price Adjusted']\n",
    "minOIL=OIL.min()\n",
    "maxOIL=OIL.max()\n",
    "step = 1\n",
    "xpoints = np.arange(minOIL, maxOIL+step,step) #כל הספרות בדילוגים של 1\n",
    "hist, bins = np.histogram(ETH, bins=xpoints)\n",
    "plt.plot(xpoints[:-1], hist,label=\"OIL\")\n",
    "plt.title(\"distribution\")\n",
    "plt.xlabel(\"sum\")\n",
    "plt.ylabel(\"cnt\")\n",
    "plt.legend()\n",
    "plt.show()"
   ]
  },
  {
   "cell_type": "code",
   "execution_count": null,
   "id": "301e2cd3",
   "metadata": {},
   "outputs": [
    {
     "data": {
      "image/png": "[encoded data removed]",
      "text/plain": [
       "<Figure size 640x480 with 1 Axes>"
      ]
     },
     "metadata": {},
     "output_type": "display_data"
    }
   ],
   "source": [
    "BTC=data['BTC_Hashprice']\n",
    "minBTC=BTC.min()\n",
    "maxBTC=BTC.max()\n",
    "step = 0.000001\n",
    "xpoints = np.arange(minBTC, maxBTC+step,step) #כל הספרות בדילוגים של 1\n",
    "hist, bins = np.histogram(BTC, bins=xpoints)\n",
    "plt.plot(xpoints[:-1], hist,label=\"BTC\")\n",
    "plt.title(\"distribution\")\n",
    "plt.xlabel(\"sum\")\n",
    "plt.ylabel(\"cnt\")\n",
    "plt.legend()\n",
    "plt.show()"
   ]
  },
  {
   "cell_type": "code",
   "execution_count": null,
   "id": "914e81ba-46aa-4a18-8c70-4425a8edf624",
   "metadata": {},
   "outputs": [],
   "source": [
    "# wb = openpyxl.load_workbook(filename=r'E9367CD7-C9BA-4C8B-86C9-53837D81AD49.Bitcoin Historical Data (1).xlsx')\n",
    "\n",
    "# # # גישה לגיליון ספציפי\n",
    "# sheet = wb[\"גיליון1\"]\n",
    "# import pandas as pd\n",
    "\n",
    "# # המרת נתונים מגיליון ל-DataFrame\n",
    "# df = pd.DataFrame(sheet.values)\n",
    "\n",
    "# # הצגת 5 השורות הראשונות\n",
    "# print(df.head())\n"
   ]
  },
  {
   "cell_type": "code",
   "execution_count": null,
   "id": "4b62cf79-0215-4b09-8644-afabf668f575",
   "metadata": {},
   "outputs": [
    {
     "data": {
      "image/png": "[encoded data removed]",
      "text/plain": [
       "<Figure size 640x480 with 1 Axes>"
      ]
     },
     "metadata": {},
     "output_type": "display_data"
    }
   ],
   "source": [
    "# קריאה וקביעת סוגי נתונים\n",
    "\n",
    "data['Price'] = pd.to_numeric(data['Price'], errors='coerce')  # המרת ערכים מספריים\n",
    "\n",
    "# חישוב סכומים לפי טווחי מחיר\n",
    "price_ranges = np.arange(data['Price'].min(), data['Price'].max() + 1000, 1000)  # הגדרת טווחי מחיר\n",
    "counts = []  # רשימה לאחסון סכומים\n",
    "\n",
    "for i in range(len(price_ranges) - 1):\n",
    "    min_price = price_ranges[i]\n",
    "    max_price = price_ranges[i + 1]\n",
    "    filtered_data = data[(data['Price'] >= min_price) & (data['Price'] < max_price)]\n",
    "    count = filtered_data[filtered_data['Target Value'] == 1]['Target Value'].sum()\n",
    "    counts.append(count)\n",
    "\n",
    "# יצירת גרף\n",
    "plt.plot(price_ranges[:-1], counts)\n",
    "plt.title(\" target_value = 1 by price\")\n",
    "plt.xlabel(\"price \")\n",
    "plt.ylabel(\"cnt target value\")\n",
    "plt.show()\n"
   ]
  },
  {
   "cell_type": "code",
   "execution_count": null,
   "id": "46f15933-082e-4cc6-aecd-2fcecf252020",
   "metadata": {},
   "outputs": [
    {
     "name": "stdout",
     "output_type": "stream",
     "text": [
      "<bound method NDFrame.describe of             Date       DATE    Price     Open     High      Low    Vol.  \\\n",
      "0     04/21/2024 2024-04-21  64902.8  64942.1  65680.6  64618.4   45.17   \n",
      "1     04/20/2024 2024-04-20  64961.1  63817.6  65375.6  63131.7   49.33   \n",
      "2     04/19/2024 2024-04-19  63799.1  63480.5  65441.2  59693.3  150.34   \n",
      "3     04/18/2024 2024-04-18  63481.4  61278.9  64092.4  60822.3   97.38   \n",
      "4     04/17/2024 2024-04-17  61278.9  63802.3  64451.5  59820.8  118.92   \n",
      "...          ...        ...      ...      ...      ...      ...     ...   \n",
      "2643  01/25/2017 2017-01-25    894.4    893.8    905.7    883.6   37.90   \n",
      "2644  01/24/2017 2017-01-24    893.8    921.5    925.6    889.2   58.87   \n",
      "2645  01/23/2017 2017-01-23    921.5    918.8    928.0    910.8   32.74   \n",
      "2646  01/22/2017 2017-01-22    918.8    919.8    938.4    888.6   47.93   \n",
      "2647  01/21/2017 2017-01-21    919.8    892.9    928.9    889.5   40.38   \n",
      "\n",
      "      Change %  SN&P Adjusted  DXY Adjusted  GOLD Adjusted  ETH Price  \\\n",
      "0      -0.0009        4953.56       105.984        2390.45    3169.62   \n",
      "1       0.0182        4953.56       105.984        2390.45    3156.63   \n",
      "2       0.0050        4953.56       105.984        2390.45    3056.23   \n",
      "3       0.0359        5001.89       105.982        2378.25    3064.48   \n",
      "4      -0.0396        5007.25       105.764        2360.81    2985.82   \n",
      "...        ...            ...           ...            ...        ...   \n",
      "2643    0.0007        2288.90       100.252        1200.31      10.48   \n",
      "2644   -0.0301        2266.70       100.058        1208.81      10.50   \n",
      "2645    0.0029        2257.00       100.125        1217.48      10.77   \n",
      "2646   -0.0011        2257.00       100.125        1217.48      10.64   \n",
      "2647    0.0302        2257.00       100.125        1217.48      10.95   \n",
      "\n",
      "      ETH Vol.  OIL Price Adjusted  Days from the last halving  BTC_Hashprice  \\\n",
      "0       276.66               83.14                           2       0.000003   \n",
      "1       256.05               83.14                           1       0.000002   \n",
      "2       645.65               83.14                        1439       0.000002   \n",
      "3       423.99               82.73                        1438       0.000002   \n",
      "4       524.88               82.69                        1437       0.000002   \n",
      "...        ...                 ...                         ...            ...   \n",
      "2643     26.19               52.75                         200            NaN   \n",
      "2644    105.21               53.18                         199            NaN   \n",
      "2645     54.39               52.75                         198            NaN   \n",
      "2646    140.66               52.75                         197            NaN   \n",
      "2647    125.31               52.75                         196            NaN   \n",
      "\n",
      "      Crypto Volatility Index  Target Value  \n",
      "0                     75.1890             0  \n",
      "1                     74.3407             0  \n",
      "2                     73.6438             0  \n",
      "3                     72.4399             1  \n",
      "4                     74.0805             1  \n",
      "...                       ...           ...  \n",
      "2643                      NaN             0  \n",
      "2644                      NaN             1  \n",
      "2645                      NaN             0  \n",
      "2646                      NaN             0  \n",
      "2647                      NaN             1  \n",
      "\n",
      "[2648 rows x 18 columns]>\n"
     ]
    }
   ],
   "source": [
    "print(data.describe)"
   ]
  },
  {
   "cell_type": "code",
   "execution_count": null,
   "id": "2c03acd7-4ca3-4254-beb5-80ec16de9eab",
   "metadata": {},
   "outputs": [
    {
     "name": "stdout",
     "output_type": "stream",
     "text": [
      "Date                            0\n",
      "DATE                            0\n",
      "Price                           0\n",
      "Open                            0\n",
      "High                            0\n",
      "Low                             0\n",
      "Vol.                            0\n",
      "Change %                        0\n",
      "SN&P Adjusted                   0\n",
      "DXY Adjusted                    0\n",
      "GOLD Adjusted                   0\n",
      "ETH Price                       0\n",
      "ETH Vol.                        0\n",
      "OIL Price Adjusted              0\n",
      "Days from the last halving      0\n",
      "BTC_Hashprice                 820\n",
      "Crypto Volatility Index       803\n",
      "Target Value                    0\n",
      "dtype: int64\n"
     ]
    }
   ],
   "source": [
    "print(data.isnull().sum())"
   ]
  },
  {
   "cell_type": "code",
   "execution_count": null,
   "id": "da7f8311",
   "metadata": {},
   "outputs": [],
   "source": [
    "# יצירת טווחים, שלב 2"
   ]
  },
  {
   "cell_type": "code",
   "execution_count": null,
   "id": "6777cab6-931e-436b-91a7-1a6615106ed8",
   "metadata": {},
   "outputs": [],
   "source": [
    "# עמודת זהב, GOLD\n",
    "min_val = int(data['GOLD Adjusted'].min())\n",
    "max_val = int(data['GOLD Adjusted'].max())"
   ]
  },
  {
   "cell_type": "code",
   "execution_count": null,
   "id": "210a92b8-46bc-48b2-9c81-26a13d72d477",
   "metadata": {},
   "outputs": [],
   "source": [
    "ranges = list(range(min_val, max_val + 100, 100))\n",
    "data['ranges_GOLD_Adjusted'] = pd.cut(data['GOLD Adjusted'], bins=ranges, labels=[f\"{r}-{r+99}\" for r in ranges[:-1]])\n"
   ]
  },
  {
   "cell_type": "code",
   "execution_count": null,
   "id": "304b268f-00b8-4cfb-a580-50848142a1ef",
   "metadata": {},
   "outputs": [
    {
     "name": "stdout",
     "output_type": "stream",
     "text": [
      "0       2374-2473\n",
      "1       2374-2473\n",
      "2       2374-2473\n",
      "3       2374-2473\n",
      "4       2274-2373\n",
      "          ...    \n",
      "2643    1174-1273\n",
      "2644    1174-1273\n",
      "2645    1174-1273\n",
      "2646    1174-1273\n",
      "2647    1174-1273\n",
      "Name: ranges_GOLD_Adjusted, Length: 2648, dtype: category\n",
      "Categories (13, object): ['1174-1273' < '1274-1373' < '1374-1473' < '1474-1573' ... '2074-2173' < '2174-2273' < '2274-2373' < '2374-2473']\n"
     ]
    }
   ],
   "source": [
    "print(data.ranges_GOLD_Adjusted)\n"
   ]
  },
  {
   "cell_type": "code",
   "execution_count": null,
   "id": "25ced660-b328-448b-a2e3-9182af025ee2",
   "metadata": {},
   "outputs": [],
   "source": [
    "# טבלה חדשה לזהב המחשבת אחוזים\n",
    "import copy\n",
    "dfGold = copy.deepcopy(data)\n",
    "\n"
   ]
  },
  {
   "cell_type": "code",
   "execution_count": null,
   "id": "39fb3707-cc49-47e7-a07e-0251a3fcd2fb",
   "metadata": {},
   "outputs": [],
   "source": [
    "# ודא ש-GOLD Adjusted הוא מסוג int\n",
    "dfGold['GOLD Adjusted'] = dfGold['GOLD Adjusted'].astype(int)\n"
   ]
  },
  {
   "cell_type": "code",
   "execution_count": null,
   "id": "cf27a377-3de6-4a8e-96a2-9a73d6e04097",
   "metadata": {},
   "outputs": [
    {
     "name": "stderr",
     "output_type": "stream",
     "text": [
      "C:\\Users\\אריה ושרי אטינגר\\AppData\\Local\\Temp\\ipykernel_17204\\3285445830.py:3: FutureWarning: The default value of observed=False is deprecated and will change to observed=True in a future version of pandas. Specify observed=False to silence this warning and retain the current behavior\n",
      "  dfGold.pivot_table(\n"
     ]
    }
   ],
   "source": [
    "\n",
    "# צור טבלה חדשה עם טווחים, ספירה, סכום TARGET_VALUE וחישוב אחוז\n",
    "grouped_data = (\n",
    "    dfGold.pivot_table(\n",
    "        index='ranges_GOLD_Adjusted',\n",
    "        values=['GOLD Adjusted', 'Target Value'],\n",
    "        aggfunc={'GOLD Adjusted': 'count', 'Target Value': ['sum', 'mean']},\n",
    "    ).reset_index()\n",
    ")\n"
   ]
  },
  {
   "cell_type": "code",
   "execution_count": null,
   "id": "d832a2ff-8c9f-490b-bfa7-5a08b824a0a0",
   "metadata": {},
   "outputs": [
    {
     "name": "stdout",
     "output_type": "stream",
     "text": [
      "   ranges_GOLD_Adjusted GOLD Adjusted Target Value     \n",
      "                                count         mean  sum\n",
      "0             1174-1273           401     0.349127  140\n",
      "1             1274-1373           479     0.382046  183\n",
      "2             1374-1473            81     0.407407   33\n",
      "3             1474-1573           162     0.265432   43\n",
      "4             1574-1673            86     0.220930   19\n",
      "5             1674-1773           288     0.298611   86\n",
      "6             1774-1873           503     0.290258  146\n",
      "7             1874-1973           388     0.224227   87\n",
      "8             1974-2073           207     0.198068   41\n",
      "9             2074-2173            19     0.421053    8\n",
      "10            2174-2273            14     0.214286    3\n",
      "11            2274-2373            14     0.500000    7\n",
      "12            2374-2473             6     0.333333    2\n"
     ]
    }
   ],
   "source": [
    "# הצג את הטבלה החדשה\n",
    "print(grouped_data)"
   ]
  },
  {
   "cell_type": "code",
   "execution_count": null,
   "id": "ba0d7552-af7e-4dd5-9915-ec156a391dfa",
   "metadata": {},
   "outputs": [
    {
     "name": "stdout",
     "output_type": "stream",
     "text": [
      "   ranges_price Price Target Value     \n",
      "                count         mean  sum\n",
      "0        0-4999   402     0.363184  146\n",
      "1     5000-9999   717     0.299861  215\n",
      "2   10000-14999   244     0.331967   81\n",
      "3   15000-19999   183     0.251366   46\n",
      "4   20000-24999   165     0.260606   43\n",
      "5   25000-29999   219     0.178082   39\n",
      "6   30000-34999   108     0.287037   31\n",
      "7   35000-39999   140     0.357143   50\n",
      "8   40000-44999   152     0.263158   40\n",
      "9   45000-49999   107     0.327103   35\n",
      "10  50000-54999    51     0.352941   18\n",
      "11  55000-59999    67     0.328358   22\n",
      "12  60000-64999    52     0.326923   17\n",
      "13  65000-69999    32     0.406250   13\n",
      "14  70000-74999     9     0.222222    2\n"
     ]
    },
    {
     "name": "stderr",
     "output_type": "stream",
     "text": [
      "C:\\Users\\אריה ושרי אטינגר\\AppData\\Local\\Temp\\ipykernel_17204\\3090967954.py:15: FutureWarning: The default value of observed=False is deprecated and will change to observed=True in a future version of pandas. Specify observed=False to silence this warning and retain the current behavior\n",
      "  df_Price.pivot_table(\n"
     ]
    }
   ],
   "source": [
    "#Price\n",
    "min_val = int(0)\n",
    "max_val = int(data['Price'].max())\n",
    "data.Price=data.Price.astype(int)\n",
    "ranges = list(range(min_val, max_val + 5000, 5000))\n",
    "data['ranges_price'] = pd.cut(data['Price'], bins=ranges, labels=[f\"{r}-{r+4999}\" for r in ranges[:-1]])\n",
    "# print(data.ranges_price)\n",
    "\n",
    "\n",
    "import copy\n",
    "df_Price = copy.deepcopy(data)\n",
    "\n",
    "df_Price['Price'] = df_Price['Price'].astype(int)\n",
    "grouped_data = (\n",
    "    df_Price.pivot_table(\n",
    "        index='ranges_price',\n",
    "        values=['Price', 'Target Value'],\n",
    "                aggfunc={'Price': 'count','Target Value': ['sum', 'mean']},\n",
    "\n",
    "    ).reset_index()\n",
    ")\n",
    "print(grouped_data)"
   ]
  },
  {
   "cell_type": "code",
   "execution_count": null,
   "id": "07cd27cc-72be-4ed9-9326-39816616720a",
   "metadata": {},
   "outputs": [
    {
     "name": "stdout",
     "output_type": "stream",
     "text": [
      "   ranges_Crypto_Volatility_Index Crypto Volatility Index Target Value    \n",
      "                                                    count         mean sum\n",
      "0                           34-43                      85     0.082353   7\n",
      "1                           44-53                     113     0.115044  13\n",
      "2                           54-63                     307     0.162866  50\n",
      "3                           64-73                     343     0.212828  73\n",
      "4                           74-83                     307     0.270358  83\n",
      "5                           84-93                     307     0.315961  97\n",
      "6                          94-103                     198     0.378788  75\n",
      "7                         104-113                      85     0.505882  43\n",
      "8                         114-123                      41     0.512195  21\n",
      "9                         124-133                      24     0.541667  13\n",
      "10                        134-143                      18     0.555556  10\n",
      "11                        144-153                      11     0.636364   7\n",
      "12                        154-163                       4     0.500000   2\n",
      "13                        164-173                       2     1.000000   2\n"
     ]
    },
    {
     "name": "stderr",
     "output_type": "stream",
     "text": [
      "C:\\Users\\אריה ושרי אטינגר\\AppData\\Local\\Temp\\ipykernel_17204\\311831447.py:14: FutureWarning: The default value of observed=False is deprecated and will change to observed=True in a future version of pandas. Specify observed=False to silence this warning and retain the current behavior\n",
      "  df_Crypto.pivot_table(\n"
     ]
    }
   ],
   "source": [
    "# Crypto\n",
    "\n",
    "min_val = int(data['Crypto Volatility Index'].min())\n",
    "max_val = int(data['Crypto Volatility Index'].max())\n",
    "ranges = list(range(min_val, max_val + 10,10))\n",
    "data['ranges_Crypto_Volatility_Index'] = pd.cut(\n",
    "    data['Crypto Volatility Index'], bins=ranges, labels=[f\"{r}-{r+9}\" for r in ranges[:-1]]\n",
    ")\n",
    "# print(data.ranges_Crypto_Volatility_Index)\n",
    "df_Crypto = data.copy()\n",
    "\n",
    "\n",
    "grouped_data = (\n",
    "    df_Crypto.pivot_table(\n",
    "        index='ranges_Crypto_Volatility_Index',\n",
    "        values=['Crypto Volatility Index', 'Target Value'],\n",
    "                aggfunc={'Crypto Volatility Index': 'count','Target Value': ['sum', 'mean']},\n",
    "    ).reset_index()\n",
    ")\n",
    "\n",
    "print(grouped_data)"
   ]
  },
  {
   "cell_type": "code",
   "execution_count": null,
   "id": "3321b04e-8ecc-48e6-9e62-e555a7e5c749",
   "metadata": {},
   "outputs": [
    {
     "name": "stdout",
     "output_type": "stream",
     "text": [
      "                     SN&P Adjusted Target Value     \n",
      "                             count         mean  sum\n",
      "ranges_SN&P_Adjusted                                \n",
      "2191-2690                      519     0.441233  229\n",
      "2691-3190                      681     0.280470  191\n",
      "3191-3690                      270     0.214815   58\n",
      "3691-4190                      521     0.295585  154\n",
      "4191-4690                      512     0.244141  125\n",
      "4691-5190                      131     0.282443   37\n",
      "5191-5690                       14     0.285714    4\n"
     ]
    },
    {
     "name": "stderr",
     "output_type": "stream",
     "text": [
      "C:\\Users\\אריה ושרי אטינגר\\AppData\\Local\\Temp\\ipykernel_17204\\149136937.py:9: FutureWarning: The default value of observed=False is deprecated and will change to observed=True in a future version of pandas. Specify observed=False to silence this warning and retain the current behavior\n",
      "  grouped_data = df_SNP_Adjusted.pivot_table(\n"
     ]
    }
   ],
   "source": [
    "# SN&P Adjusted\n",
    "min_val = int(data['SN&P Adjusted'].min())\n",
    "max_val = int(data['SN&P Adjusted'].max())\n",
    "ranges = list(range(min_val, max_val + 500, 500))\n",
    "data['ranges_SN&P_Adjusted'] = pd.cut(data['SN&P Adjusted'], bins=ranges, labels=[f\"{r}-{r+499}\" for r in ranges[:-1]])\n",
    "# print(data['ranges_SN&P_Adjusted'])\n",
    "df_SNP_Adjusted = data.copy()\n",
    "\n",
    "grouped_data = df_SNP_Adjusted.pivot_table(\n",
    "    index='ranges_SN&P_Adjusted',\n",
    "    values=['SN&P Adjusted', 'Target Value'],\n",
    "    aggfunc={'SN&P Adjusted': 'count', 'Target Value': ['sum', 'mean']},\n",
    ")\n",
    "\n",
    "print(grouped_data)\n"
   ]
  },
  {
   "cell_type": "code",
   "execution_count": null,
   "id": "1c95f25b-f929-47bb-99ef-27fea41dba0d",
   "metadata": {},
   "outputs": [
    {
     "name": "stdout",
     "output_type": "stream",
     "text": [
      "                    DXY Adjusted Target Value     \n",
      "                           count         mean  sum\n",
      "ranges_DXY_Adjusted                               \n",
      "88-89                       1675     0.346269  580\n",
      "98-99                        888     0.228604  203\n",
      "108-109                       85     0.176471   15\n"
     ]
    },
    {
     "name": "stderr",
     "output_type": "stream",
     "text": [
      "C:\\Users\\אריה ושרי אטינגר\\AppData\\Local\\Temp\\ipykernel_17204\\2713385260.py:9: FutureWarning: The default value of observed=False is deprecated and will change to observed=True in a future version of pandas. Specify observed=False to silence this warning and retain the current behavior\n",
      "  grouped_data = df_DXY_Adjusted.pivot_table(\n"
     ]
    }
   ],
   "source": [
    "# DXY\n",
    "min_val = int(data['DXY Adjusted'].min())\n",
    "max_val = int(data['DXY Adjusted'].max())\n",
    "ranges = list(range(min_val, max_val + 10, 10)) \n",
    "data['ranges_DXY_Adjusted'] = pd.cut(data['DXY Adjusted'], bins=ranges, labels=[f\"{r}-{r+1}\" for r in ranges[:-1]])\n",
    "# print(data['ranges_DXY_Adjusted']) \n",
    "df_DXY_Adjusted = copy.deepcopy(data)\n",
    "\n",
    "grouped_data = df_DXY_Adjusted.pivot_table( \n",
    "    index='ranges_DXY_Adjusted',\n",
    "    values=['DXY Adjusted', 'Target Value'], \n",
    "    \n",
    "    aggfunc={'DXY Adjusted': 'count', 'Target Value': ['sum', 'mean']}, )\n",
    "\n",
    "# הצגת \n",
    "print(grouped_data)"
   ]
  },
  {
   "cell_type": "code",
   "execution_count": null,
   "id": "121ef998-8f5a-44bd-b7d3-13f43d880c3b",
   "metadata": {},
   "outputs": [
    {
     "name": "stdout",
     "output_type": "stream",
     "text": [
      "0       3010-3509\n",
      "1       3010-3509\n",
      "2       3010-3509\n",
      "3       3010-3509\n",
      "4       2510-3009\n",
      "          ...    \n",
      "2643       10-509\n",
      "2644       10-509\n",
      "2645       10-509\n",
      "2646       10-509\n",
      "2647       10-509\n",
      "Name: ranges_ETH_Price, Length: 2648, dtype: category\n",
      "Categories (10, object): ['10-509' < '510-1009' < '1010-1509' < '1510-2009' ... '3010-3509' < '3510-4009' < '4010-4509' < '4510-5009']\n",
      "                 ETH Price Target Value     \n",
      "                     count         mean  sum\n",
      "ranges_ETH_Price                            \n",
      "10-509                1233     0.304136  375\n",
      "510-1009               189     0.486772   92\n",
      "1010-1509              209     0.282297   59\n",
      "1510-2009              458     0.211790   97\n",
      "2010-2509              166     0.295181   49\n",
      "2510-3009              128     0.351562   45\n",
      "3010-3509              132     0.272727   36\n",
      "3510-4009               73     0.369863   27\n",
      "4010-4509               43     0.348837   15\n",
      "4510-5009               17     0.176471    3\n"
     ]
    },
    {
     "name": "stderr",
     "output_type": "stream",
     "text": [
      "C:\\Users\\אריה ושרי אטינגר\\AppData\\Local\\Temp\\ipykernel_17204\\2084327974.py:9: FutureWarning: The default value of observed=False is deprecated and will change to observed=True in a future version of pandas. Specify observed=False to silence this warning and retain the current behavior\n",
      "  grouped_data = df_ETH_Price.pivot_table(\n"
     ]
    }
   ],
   "source": [
    "# ETH Price\n",
    "min_val = int(data['ETH Price'].min())\n",
    "max_val = int(data['ETH Price'].max())\n",
    "ranges = list(range(min_val, max_val + 500, 500)) \n",
    "data['ranges_ETH_Price'] = pd.cut(data['ETH Price'], bins=ranges, labels=[f\"{r}-{r+499}\" for r in ranges[:-1]])\n",
    "print(data['ranges_ETH_Price'])\n",
    "df_ETH_Price = copy.deepcopy(data)\n",
    "\n",
    "grouped_data = df_ETH_Price.pivot_table( \n",
    "    index='ranges_ETH_Price',\n",
    "    values=['ETH Price', 'Target Value'], \n",
    "    \n",
    "    aggfunc={'ETH Price': 'count', 'Target Value': ['sum', 'mean']}, )\n",
    "\n",
    "print(grouped_data)"
   ]
  },
  {
   "cell_type": "code",
   "execution_count": null,
   "id": "a32c774d-7532-4c0a-9290-3eeb5615259b",
   "metadata": {},
   "outputs": [
    {
     "name": "stdout",
     "output_type": "stream",
     "text": [
      "           Target Value       Vol.\n",
      "                   mean  sum count\n",
      "ranges_Vol                        \n",
      "0-4999          0.30136  798  2648\n"
     ]
    },
    {
     "name": "stderr",
     "output_type": "stream",
     "text": [
      "C:\\Users\\אריה ושרי אטינגר\\AppData\\Local\\Temp\\ipykernel_17204\\2423951410.py:10: FutureWarning: The default value of observed=False is deprecated and will change to observed=True in a future version of pandas. Specify observed=False to silence this warning and retain the current behavior\n",
      "  grouped_data = df_Vol.pivot_table(\n"
     ]
    }
   ],
   "source": [
    "#  Vol.\n",
    "min_val = int(data['Vol.'].min())\n",
    "max_val = int(data['Vol.'].max())\n",
    "ranges = list(range(min_val, max_val + 10000, 10000)) \n",
    "data['ranges_Vol'] = pd.cut(data['Vol.'], bins=ranges, labels=[f\"{r}-{r+4999}\" for r in ranges[:-1]])\n",
    "# print(data['ranges_Vol'])\n",
    "import copy\n",
    "df_Vol = copy.deepcopy(data)\n",
    "\n",
    "grouped_data = df_Vol.pivot_table( \n",
    "    index='ranges_Vol',\n",
    "    values=['Vol.', 'Target Value'], \n",
    "    \n",
    "    aggfunc={'Vol.': 'count', 'Target Value': ['sum', 'mean']}, )\n",
    "\n",
    "print(grouped_data)\n"
   ]
  },
  {
   "cell_type": "code",
   "execution_count": null,
   "id": "4a2f9d2a-4e98-4f50-8bac-08e74584cbdc",
   "metadata": {},
   "outputs": [
    {
     "name": "stdout",
     "output_type": "stream",
     "text": [
      "                                 BTC_Hashprice Target Value     \n",
      "                                         count         mean  sum\n",
      "ranges_BTC_Hashprice                                            \n",
      "1.53e-06-1.053e-05                        1439     0.258513  372\n",
      "1.053e-05-1.953e-05                        152     0.328947   50\n",
      "1.953e-05-2.853e-05                        138     0.217391   30\n",
      "2.853e-05-3.753e-05                         55     0.490909   27\n",
      "3.753e-05-4.6530000000000003e-05            42     0.357143   15\n"
     ]
    },
    {
     "name": "stderr",
     "output_type": "stream",
     "text": [
      "C:\\Users\\אריה ושרי אטינגר\\AppData\\Local\\Temp\\ipykernel_17204\\75069267.py:18: FutureWarning: The default value of observed=False is deprecated and will change to observed=True in a future version of pandas. Specify observed=False to silence this warning and retain the current behavior\n",
      "  grouped_data = df_BTC_Hashprice.pivot_table(\n"
     ]
    }
   ],
   "source": [
    "#BTC_Hashprice\n",
    "#float/int\n",
    "# min_val_hash = float(data['BTC_Hashprice'].min())\n",
    "# max_val_hash = float(data['BTC_Hashprice'].max())\n",
    "# hash=np.arange(min_val_hash, max_val_hash + 0.000001, 0.000001) \n",
    "# data['ranges_BTC_Hashprice'] = pd.cut(data['BTC_Hashprice'], bins=ranges, labels=[f\"{r}-{r+0.000009}\" for r in ranges[:-1]])\n",
    "# print(data['ranges_BTC_Hashprice'])\n",
    "\n",
    "min_val_hash = np.min(data['BTC_Hashprice'])\n",
    "max_val_hash = np.max(data['BTC_Hashprice'])\n",
    "hash = np.arange(min_val_hash, max_val_hash + 0.000009, 0.000009)\n",
    "labels = [f\"{r}-{r+0.000009}\" for r in hash[:-1]]\n",
    "data['ranges_BTC_Hashprice'] = pd.cut(data['BTC_Hashprice'], bins=hash, labels=labels)\n",
    "# print(data['ranges_BTC_Hashprice'])\n",
    "df_BTC_Hashprice = copy.deepcopy(data)\n",
    "\n",
    "# חישוב סטטיסטיקות עבור כל טווח\n",
    "grouped_data = df_BTC_Hashprice.pivot_table( \n",
    "    index='ranges_BTC_Hashprice',\n",
    "    values=['BTC_Hashprice', 'Target Value'], \n",
    "    \n",
    "    aggfunc={'BTC_Hashprice': 'count', 'Target Value': ['sum', 'mean']}, )\n",
    "\n",
    "# הצגת הטבלה\n",
    "print(grouped_data)"
   ]
  },
  {
   "cell_type": "code",
   "execution_count": null,
   "id": "13441657-b7be-477c-88f5-ec62a973f352",
   "metadata": {},
   "outputs": [
    {
     "name": "stdout",
     "output_type": "stream",
     "text": [
      "                          OIL Price Adjusted Target Value     \n",
      "                                       count         mean  sum\n",
      "ranges_OIL Price Adjusted                                     \n",
      "10-19                                     19     0.315789    6\n",
      "20-29                                     44     0.409091   18\n",
      "30-39                                     92     0.217391   20\n",
      "40-49                                    358     0.382682  137\n",
      "50-59                                    588     0.314626  185\n",
      "60-69                                    512     0.376953  193\n",
      "70-79                                    519     0.229287  119\n",
      "80-89                                    293     0.197952   58\n",
      "90-99                                    102     0.235294   24\n",
      "100-109                                   72     0.305556   22\n",
      "110-119                                   42     0.309524   13\n",
      "120-129                                    7     0.428571    3\n"
     ]
    },
    {
     "name": "stderr",
     "output_type": "stream",
     "text": [
      "C:\\Users\\אריה ושרי אטינגר\\AppData\\Local\\Temp\\ipykernel_17204\\2302915040.py:9: FutureWarning: The default value of observed=False is deprecated and will change to observed=True in a future version of pandas. Specify observed=False to silence this warning and retain the current behavior\n",
      "  grouped_data = df_ETH_Price.pivot_table(\n"
     ]
    }
   ],
   "source": [
    "# OIL Price Adjusted\n",
    "min_val = int(data['OIL Price Adjusted'].min())\n",
    "max_val = int(data['OIL Price Adjusted'].max())\n",
    "ranges = list(range(min_val, max_val + 10, 10)) \n",
    "data['ranges_OIL Price Adjusted'] = pd.cut(data['OIL Price Adjusted'], bins=ranges, labels=[f\"{r}-{r+9}\" for r in ranges[:-1]])\n",
    "# print(data['ranges_OIL Price Adjusted'])\n",
    "df_ETH_Price = copy.deepcopy(data)\n",
    "\n",
    "grouped_data = df_ETH_Price.pivot_table( \n",
    "    index='ranges_OIL Price Adjusted',\n",
    "    values=['OIL Price Adjusted', 'Target Value'], \n",
    "    \n",
    "    aggfunc={'OIL Price Adjusted': 'count', 'Target Value': ['sum', 'mean']}, )\n",
    "\n",
    "print(grouped_data)"
   ]
  },
  {
   "cell_type": "code",
   "execution_count": null,
   "id": "9ede9447-0453-4528-9af7-f69531199024",
   "metadata": {},
   "outputs": [
    {
     "data": {
      "text/plain": [
       "0      -0.0009\n",
       "1       0.0182\n",
       "2       0.0050\n",
       "3       0.0359\n",
       "4      -0.0396\n",
       "         ...  \n",
       "2643    0.0007\n",
       "2644   -0.0301\n",
       "2645    0.0029\n",
       "2646   -0.0011\n",
       "2647    0.0302\n",
       "Name: Change %, Length: 2648, dtype: float64"
      ]
     },
     "execution_count": 39,
     "metadata": {},
     "output_type": "execute_result"
    }
   ],
   "source": [
    "data[\"Change %\"]"
   ]
  },
  {
   "cell_type": "code",
   "execution_count": null,
   "id": "5f7313e9-4225-41c9-9625-8787f0bbcf5d",
   "metadata": {},
   "outputs": [],
   "source": [
    "data[\"Change %\"] = data[\"Change %\"]*100"
   ]
  },
  {
   "cell_type": "code",
   "execution_count": null,
   "id": "f3ff24eb-dd30-440d-ba1a-59a266f3b308",
   "metadata": {},
   "outputs": [
    {
     "name": "stdout",
     "output_type": "stream",
     "text": [
      "0      -0.09\n",
      "1       1.82\n",
      "2       0.50\n",
      "3       3.59\n",
      "4      -3.96\n",
      "        ... \n",
      "2643    0.07\n",
      "2644   -3.01\n",
      "2645    0.29\n",
      "2646   -0.11\n",
      "2647    3.02\n",
      "Name: Change %, Length: 2648, dtype: float64\n"
     ]
    }
   ],
   "source": [
    "\n",
    "data[\"Change %\"] = data[\"Change %\"]\n",
    "df = pd.DataFrame(data)\n",
    "\n",
    "# עיגול הערכים בעמודה \"Change %\" לשתי ספרות אחרי הנקודה\n",
    "df['Change %'] = df['Change %'].round(2)\n",
    "\n",
    "print(df['Change %'])"
   ]
  },
  {
   "cell_type": "code",
   "execution_count": null,
   "id": "b49fcbca-a745-4ec7-875f-078de7101f04",
   "metadata": {},
   "outputs": [
    {
     "name": "stdout",
     "output_type": "stream",
     "text": [
      "0        -0.18-0.02\n",
      "1         1.62-1.82\n",
      "2         0.42-0.62\n",
      "3         3.42-3.62\n",
      "4       -3.98--3.78\n",
      "           ...     \n",
      "2643      0.02-0.22\n",
      "2644    -3.18--2.98\n",
      "2645      0.22-0.42\n",
      "2646     -0.18-0.02\n",
      "2647      2.82-3.02\n",
      "Name: ranges_Change, Length: 2648, dtype: category\n",
      "Categories (324, object): ['-39.18--38.98' < '-38.98--38.78' < '-38.78--38.58' < '-38.58--38.38' ... '24.82-25.02' < '25.02-25.22' < '25.22-25.42' < '25.42-25.62']\n"
     ]
    }
   ],
   "source": [
    "min_val_Change = np.min(df['Change %'])\n",
    "max_val_Change = np.max(df['Change %'])\n",
    "Change = np.arange(min_val_Change, max_val_Change + 0.2, 0.2)\n",
    "labels = [f\"{r:.2f}-{r+0.2:.2f}\" for r in Change[:-1]]\n",
    "df['ranges_Change'] = pd.cut(df['Change %'], bins=Change, labels=labels)\n",
    "\n",
    "print(df['ranges_Change'])\n"
   ]
  },
  {
   "cell_type": "code",
   "execution_count": null,
   "id": "9c41f1c2",
   "metadata": {},
   "outputs": [
    {
     "name": "stdout",
     "output_type": "stream",
     "text": [
      "0       276.66\n",
      "1       256.05\n",
      "2       645.65\n",
      "3       423.99\n",
      "4       524.88\n",
      "         ...  \n",
      "2643     26.19\n",
      "2644    105.21\n",
      "2645     54.39\n",
      "2646    140.66\n",
      "2647    125.31\n",
      "Name: ETH Vol., Length: 2648, dtype: float64\n"
     ]
    }
   ],
   "source": [
    "data['ETH Vol.'] = pd.to_numeric(data['ETH Vol.'])\n",
    "print(data['ETH Vol.'])"
   ]
  },
  {
   "cell_type": "code",
   "execution_count": 6,
   "id": "8db5c8e5-4460-4a44-bfc5-4eeddb0efb35",
   "metadata": {},
   "outputs": [
    {
     "ename": "ValueError",
     "evalue": "invalid literal for int() with base 10: '1.00M'",
     "output_type": "error",
     "traceback": [
      "\u001b[1;31m---------------------------------------------------------------------------\u001b[0m",
      "\u001b[1;31mValueError\u001b[0m                                Traceback (most recent call last)",
      "Cell \u001b[1;32mIn[6], line 2\u001b[0m\n\u001b[0;32m      1\u001b[0m \u001b[38;5;66;03m# ETH Vol.\u001b[39;00m\n\u001b[1;32m----> 2\u001b[0m min_val \u001b[38;5;241m=\u001b[39m \u001b[38;5;28;43mint\u001b[39;49m\u001b[43m(\u001b[49m\u001b[43mdata\u001b[49m\u001b[43m[\u001b[49m\u001b[38;5;124;43m'\u001b[39;49m\u001b[38;5;124;43mETH Vol.\u001b[39;49m\u001b[38;5;124;43m'\u001b[39;49m\u001b[43m]\u001b[49m\u001b[38;5;241;43m.\u001b[39;49m\u001b[43mmin\u001b[49m\u001b[43m(\u001b[49m\u001b[43m)\u001b[49m\u001b[43m)\u001b[49m\n\u001b[0;32m      3\u001b[0m max_val \u001b[38;5;241m=\u001b[39m \u001b[38;5;28mint\u001b[39m(data[\u001b[38;5;124m'\u001b[39m\u001b[38;5;124mETH Vol.\u001b[39m\u001b[38;5;124m'\u001b[39m]\u001b[38;5;241m.\u001b[39mmax())\n\u001b[0;32m      4\u001b[0m ranges \u001b[38;5;241m=\u001b[39m \u001b[38;5;28mlist\u001b[39m(\u001b[38;5;28mrange\u001b[39m(min_val, max_val \u001b[38;5;241m+\u001b[39m \u001b[38;5;241m100\u001b[39m, \u001b[38;5;241m100\u001b[39m)) \n",
      "\u001b[1;31mValueError\u001b[0m: invalid literal for int() with base 10: '1.00M'"
     ]
    }
   ],
   "source": [
    "# ETH Vol.\n",
    "min_val = int(data['ETH Vol.'].min())\n",
    "max_val = int(data['ETH Vol.'].max())\n",
    "ranges = list(range(min_val, max_val + 100, 100)) \n",
    "df['ranges_ETH Vol.'] = pd.cut(df['ETH Vol.'], bins=ranges, labels=[f\"{r}-{r+99}\" for r in ranges[:-1]])\n",
    "# print(df['ranges_ETH Vol.'])\n",
    "df_ETH_Vol= copy.deepcopy(df)\n",
    "\n",
    "grouped_data = df_ETH_Vol.pivot_table( \n",
    "    index='ranges_ETH Vol.',\n",
    "    values=['ETH Vol.', 'Target Value'],     \n",
    "    aggfunc={'ETH Vol.': 'count', 'Target Value': ['sum', 'mean']}, \n",
    ")\n",
    "\n",
    "print(grouped_data)"
   ]
  },
  {
   "cell_type": "code",
   "execution_count": null,
   "id": "1985e06f-033c-4797-ab26-af7bb8f31455",
   "metadata": {},
   "outputs": [],
   "source": [
    "# איחוד נתונים זהים בתוך DF\n"
   ]
  },
  {
   "cell_type": "code",
   "execution_count": null,
   "id": "b0c60c10-f4d4-4951-817f-f85e990af96a",
   "metadata": {},
   "outputs": [],
   "source": [
    "\n",
    "data[\"ETH_Vol_final_range\"]= np.where(data[\"ETH Vol.\"]<=100,\"less100\",np.where(data[\"ETH Vol.\"] > 500,\"grater500\",\"100-500\"))"
   ]
  },
  {
   "cell_type": "code",
   "execution_count": null,
   "id": "1d86c035-cb18-429d-99d6-73cbe18637f8",
   "metadata": {},
   "outputs": [],
   "source": [
    "data_new=data.loc[:,[\"ETH Vol.\",\"ETH_Vol_final_range\"]]"
   ]
  },
  {
   "cell_type": "code",
   "execution_count": null,
   "id": "199906e0-c99d-4604-9127-dd0ddc1a053e",
   "metadata": {},
   "outputs": [
    {
     "data": {
      "text/html": [
       "<div>\n",
       "<style scoped>\n",
       "    .dataframe tbody tr th:only-of-type {\n",
       "        vertical-align: middle;\n",
       "    }\n",
       "\n",
       "    .dataframe tbody tr th {\n",
       "        vertical-align: top;\n",
       "    }\n",
       "\n",
       "    .dataframe thead th {\n",
       "        text-align: right;\n",
       "    }\n",
       "</style>\n",
       "<table border=\"1\" class=\"dataframe\">\n",
       "  <thead>\n",
       "    <tr style=\"text-align: right;\">\n",
       "      <th></th>\n",
       "      <th>ETH Vol.</th>\n",
       "      <th>ETH_Vol_final_range</th>\n",
       "    </tr>\n",
       "  </thead>\n",
       "  <tbody>\n",
       "    <tr>\n",
       "      <th>0</th>\n",
       "      <td>276.66</td>\n",
       "      <td>100-500</td>\n",
       "    </tr>\n",
       "    <tr>\n",
       "      <th>1</th>\n",
       "      <td>256.05</td>\n",
       "      <td>100-500</td>\n",
       "    </tr>\n",
       "    <tr>\n",
       "      <th>2</th>\n",
       "      <td>645.65</td>\n",
       "      <td>grater500</td>\n",
       "    </tr>\n",
       "    <tr>\n",
       "      <th>3</th>\n",
       "      <td>423.99</td>\n",
       "      <td>100-500</td>\n",
       "    </tr>\n",
       "    <tr>\n",
       "      <th>4</th>\n",
       "      <td>524.88</td>\n",
       "      <td>grater500</td>\n",
       "    </tr>\n",
       "    <tr>\n",
       "      <th>...</th>\n",
       "      <td>...</td>\n",
       "      <td>...</td>\n",
       "    </tr>\n",
       "    <tr>\n",
       "      <th>95</th>\n",
       "      <td>380.90</td>\n",
       "      <td>100-500</td>\n",
       "    </tr>\n",
       "    <tr>\n",
       "      <th>96</th>\n",
       "      <td>395.07</td>\n",
       "      <td>100-500</td>\n",
       "    </tr>\n",
       "    <tr>\n",
       "      <th>97</th>\n",
       "      <td>332.15</td>\n",
       "      <td>100-500</td>\n",
       "    </tr>\n",
       "    <tr>\n",
       "      <th>98</th>\n",
       "      <td>316.45</td>\n",
       "      <td>100-500</td>\n",
       "    </tr>\n",
       "    <tr>\n",
       "      <th>99</th>\n",
       "      <td>436.91</td>\n",
       "      <td>100-500</td>\n",
       "    </tr>\n",
       "  </tbody>\n",
       "</table>\n",
       "<p>100 rows × 2 columns</p>\n",
       "</div>"
      ],
      "text/plain": [
       "    ETH Vol. ETH_Vol_final_range\n",
       "0     276.66             100-500\n",
       "1     256.05             100-500\n",
       "2     645.65           grater500\n",
       "3     423.99             100-500\n",
       "4     524.88           grater500\n",
       "..       ...                 ...\n",
       "95    380.90             100-500\n",
       "96    395.07             100-500\n",
       "97    332.15             100-500\n",
       "98    316.45             100-500\n",
       "99    436.91             100-500\n",
       "\n",
       "[100 rows x 2 columns]"
      ]
     },
     "execution_count": 48,
     "metadata": {},
     "output_type": "execute_result"
    }
   ],
   "source": [
    "data_new.head(100)"
   ]
  },
  {
   "cell_type": "code",
   "execution_count": null,
   "id": "94fc4529-4ae6-49ee-9d29-204aa4846d1c",
   "metadata": {},
   "outputs": [
    {
     "name": "stdout",
     "output_type": "stream",
     "text": [
      "  ETH_Vol_final_range ETH Vol. Target Value     \n",
      "                         count         mean  sum\n",
      "0             100-500      614     0.148208   91\n",
      "1           grater500      622     0.369775  230\n",
      "2             less100     1412     0.337819  477\n"
     ]
    }
   ],
   "source": [
    "\n",
    "ETH_Vol_final_range = (\n",
    "    data.pivot_table(\n",
    "        index='ETH_Vol_final_range',\n",
    "        values=['ETH Vol.', 'Target Value'],\n",
    "                aggfunc={'ETH Vol.': 'count','Target Value': ['sum', 'mean']},).reset_index())\n",
    "# # הצג את הטבלה החדשה\n",
    "print(ETH_Vol_final_range)"
   ]
  },
  {
   "cell_type": "code",
   "execution_count": null,
   "id": "3496c49d-9d12-403a-805a-f99d9181505a",
   "metadata": {},
   "outputs": [],
   "source": [
    "# data[\"Price_final_range\"]= np.where(data[\"Price\"]<=24999,\"less24999\",np.where(data[\"Price\"] > 45000,\"grater45000\",\"24999-45000\"))\n",
    "# data_new1=data.loc[:,[\"Price\",\"Price_final_range\"]]\n",
    "# data_new1.head(100)\n",
    "\n",
    "\n",
    "# df_Price_final_range = (\n",
    "#     data.pivot_table(\n",
    "#         index='Price_final_range',\n",
    "#         values=['Price', 'Target Value'],\n",
    "#                 aggfunc={'Price': 'count','Target Value': ['sum', 'mean']},).reset_index())\n",
    "# # הצג את הטבלה החדשה\n",
    "# print(df_Price_final_range)"
   ]
  },
  {
   "cell_type": "code",
   "execution_count": null,
   "id": "28b0106b-df35-4aa7-a434-448efd32ba18",
   "metadata": {},
   "outputs": [
    {
     "name": "stdout",
     "output_type": "stream",
     "text": [
      "  Change_final_range Change % Target Value     \n",
      "                        count         mean  sum\n",
      "0             less69     2648      0.30136  798\n"
     ]
    }
   ],
   "source": [
    "data[\"Change_final_range\"]= np.where(data[\"Change %\"]<=69,\"less69\",np.where(data[\"Change %\"] > 100,\"grater100\",\"69-100\"))\n",
    "df_new2=data.loc[:,[\"Change %\",\"Change_final_range\"]]\n",
    "df_new2.head(200)\n",
    "\n",
    "df_Change_final_range = (\n",
    "    data.pivot_table(\n",
    "        index='Change_final_range',\n",
    "        values=['Change %', 'Target Value'],\n",
    "                aggfunc={'Change %': 'count','Target Value': ['sum', 'mean']},).reset_index())\n",
    "# # הצג את הטבלה החדשה\n",
    "print(df_Change_final_range)"
   ]
  },
  {
   "cell_type": "code",
   "execution_count": null,
   "id": "4196f8b4-e3fb-42e1-8bec-f4d72dec7c4b",
   "metadata": {},
   "outputs": [
    {
     "name": "stdout",
     "output_type": "stream",
     "text": [
      "  OIL_final_range OIL Price Adjusted Target Value     \n",
      "                               count         mean  sum\n",
      "0          69-100                971     0.217302  211\n",
      "1       grater100                121     0.314050   38\n",
      "2          less69               1556     0.352828  549\n"
     ]
    }
   ],
   "source": [
    "\n",
    "df[\"OIL_final_range\"]= np.where(df[\"OIL Price Adjusted\"]<=69,\"less69\",np.where(df[\"OIL Price Adjusted\"] > 100,\"grater100\",\"69-100\"))\n",
    "df_new2=df.loc[:,[\"OIL Price Adjusted\",\"OIL_final_range\"]]\n",
    "df_new2.head(200)\n",
    "\n",
    "df_OIL_final_range = (\n",
    "    df.pivot_table(\n",
    "        index='OIL_final_range',\n",
    "        values=['OIL Price Adjusted', 'Target Value'],\n",
    "                aggfunc={'OIL Price Adjusted': 'count','Target Value': ['sum', 'mean']},).reset_index())\n",
    "# הצג את הטבלה החדשה\n",
    "print(df_OIL_final_range)"
   ]
  },
  {
   "cell_type": "code",
   "execution_count": null,
   "id": "ade17056-7055-409d-9528-60a06251df2a",
   "metadata": {},
   "outputs": [
    {
     "name": "stdout",
     "output_type": "stream",
     "text": [
      "  GOLD_final_range GOLD Adjusted Target Value     \n",
      "                           count         mean  sum\n",
      "0       grater1474          1687     0.262004  442\n",
      "1         less1474           961     0.370447  356\n"
     ]
    }
   ],
   "source": [
    "\n",
    "df[\"GOLD_final_range\"]= np.where(df[\"GOLD Adjusted\"]<=1473,\"less1474\",\"grater1474\")\n",
    "df_new3=df.loc[:,[\"GOLD Adjusted\",\"GOLD_final_range\"]]\n",
    "\n",
    "df_GOLD_final_range = (\n",
    "    df.pivot_table(\n",
    "        index='GOLD_final_range',\n",
    "        values=['GOLD Adjusted', 'Target Value'],\n",
    "                aggfunc={'GOLD Adjusted': 'count','Target Value': ['sum', 'mean']},).reset_index())\n",
    "# הצג את הטבלה החדשה\n",
    "print(df_GOLD_final_range)"
   ]
  },
  {
   "cell_type": "code",
   "execution_count": null,
   "id": "97066474",
   "metadata": {},
   "outputs": [],
   "source": [
    "df_ETH_Price_no_nan= data.loc[:, ['ETH Price', 'Target Value']].dropna()"
   ]
  },
  {
   "cell_type": "code",
   "execution_count": null,
   "id": "0ef7831a",
   "metadata": {},
   "outputs": [
    {
     "data": {
      "text/plain": [
       "ETH Price       0\n",
       "Target Value    0\n",
       "dtype: int64"
      ]
     },
     "execution_count": 55,
     "metadata": {},
     "output_type": "execute_result"
    }
   ],
   "source": [
    "df_ETH_Price_no_nan.isnull().sum()"
   ]
  },
  {
   "cell_type": "code",
   "execution_count": null,
   "id": "f68441b7",
   "metadata": {},
   "outputs": [
    {
     "data": {
      "text/html": [
       "<div>\n",
       "<style scoped>\n",
       "    .dataframe tbody tr th:only-of-type {\n",
       "        vertical-align: middle;\n",
       "    }\n",
       "\n",
       "    .dataframe tbody tr th {\n",
       "        vertical-align: top;\n",
       "    }\n",
       "\n",
       "    .dataframe thead th {\n",
       "        text-align: right;\n",
       "    }\n",
       "</style>\n",
       "<table border=\"1\" class=\"dataframe\">\n",
       "  <thead>\n",
       "    <tr style=\"text-align: right;\">\n",
       "      <th></th>\n",
       "      <th>ETH Price</th>\n",
       "      <th>Target Value</th>\n",
       "    </tr>\n",
       "  </thead>\n",
       "  <tbody>\n",
       "    <tr>\n",
       "      <th>0</th>\n",
       "      <td>3169.62</td>\n",
       "      <td>0</td>\n",
       "    </tr>\n",
       "    <tr>\n",
       "      <th>1</th>\n",
       "      <td>3156.63</td>\n",
       "      <td>0</td>\n",
       "    </tr>\n",
       "    <tr>\n",
       "      <th>2</th>\n",
       "      <td>3056.23</td>\n",
       "      <td>0</td>\n",
       "    </tr>\n",
       "    <tr>\n",
       "      <th>3</th>\n",
       "      <td>3064.48</td>\n",
       "      <td>1</td>\n",
       "    </tr>\n",
       "    <tr>\n",
       "      <th>4</th>\n",
       "      <td>2985.82</td>\n",
       "      <td>1</td>\n",
       "    </tr>\n",
       "    <tr>\n",
       "      <th>5</th>\n",
       "      <td>3083.43</td>\n",
       "      <td>0</td>\n",
       "    </tr>\n",
       "    <tr>\n",
       "      <th>6</th>\n",
       "      <td>3100.94</td>\n",
       "      <td>1</td>\n",
       "    </tr>\n",
       "    <tr>\n",
       "      <th>7</th>\n",
       "      <td>3152.65</td>\n",
       "      <td>0</td>\n",
       "    </tr>\n",
       "    <tr>\n",
       "      <th>8</th>\n",
       "      <td>3004.44</td>\n",
       "      <td>1</td>\n",
       "    </tr>\n",
       "    <tr>\n",
       "      <th>9</th>\n",
       "      <td>3239.86</td>\n",
       "      <td>1</td>\n",
       "    </tr>\n",
       "  </tbody>\n",
       "</table>\n",
       "</div>"
      ],
      "text/plain": [
       "   ETH Price  Target Value\n",
       "0    3169.62             0\n",
       "1    3156.63             0\n",
       "2    3056.23             0\n",
       "3    3064.48             1\n",
       "4    2985.82             1\n",
       "5    3083.43             0\n",
       "6    3100.94             1\n",
       "7    3152.65             0\n",
       "8    3004.44             1\n",
       "9    3239.86             1"
      ]
     },
     "execution_count": 56,
     "metadata": {},
     "output_type": "execute_result"
    }
   ],
   "source": [
    "df_ETH_Price_no_nan.head(10)"
   ]
  },
  {
   "cell_type": "code",
   "execution_count": null,
   "id": "e906d012",
   "metadata": {},
   "outputs": [
    {
     "ename": "KeyError",
     "evalue": "\"['DXY_final_range'] not in index\"",
     "output_type": "error",
     "traceback": [
      "\u001b[1;31m---------------------------------------------------------------------------\u001b[0m",
      "\u001b[1;31mKeyError\u001b[0m                                  Traceback (most recent call last)",
      "Cell \u001b[1;32mIn[57], line 2\u001b[0m\n\u001b[0;32m      1\u001b[0m df[\u001b[38;5;124m\"\u001b[39m\u001b[38;5;124mETH_Price_final_range\u001b[39m\u001b[38;5;124m\"\u001b[39m]\u001b[38;5;241m=\u001b[39m np\u001b[38;5;241m.\u001b[39mwhere(df[\u001b[38;5;124m\"\u001b[39m\u001b[38;5;124mETH Price\u001b[39m\u001b[38;5;124m\"\u001b[39m]\u001b[38;5;241m<\u001b[39m\u001b[38;5;241m=\u001b[39m\u001b[38;5;241m1473\u001b[39m,\u001b[38;5;124m\"\u001b[39m\u001b[38;5;124mless1474\u001b[39m\u001b[38;5;124m\"\u001b[39m,\u001b[38;5;124m\"\u001b[39m\u001b[38;5;124mgrater1474\u001b[39m\u001b[38;5;124m\"\u001b[39m)\n\u001b[1;32m----> 2\u001b[0m df_new3\u001b[38;5;241m=\u001b[39m\u001b[43mdf\u001b[49m\u001b[38;5;241;43m.\u001b[39;49m\u001b[43mloc\u001b[49m\u001b[43m[\u001b[49m\u001b[43m:\u001b[49m\u001b[43m,\u001b[49m\u001b[43m[\u001b[49m\u001b[38;5;124;43m\"\u001b[39;49m\u001b[38;5;124;43mETH Price\u001b[39;49m\u001b[38;5;124;43m\"\u001b[39;49m\u001b[43m,\u001b[49m\u001b[38;5;124;43m\"\u001b[39;49m\u001b[38;5;124;43mDXY_final_range\u001b[39;49m\u001b[38;5;124;43m\"\u001b[39;49m\u001b[43m]\u001b[49m\u001b[43m]\u001b[49m\n\u001b[0;32m      4\u001b[0m df_ETH_Price_final_range \u001b[38;5;241m=\u001b[39m (\n\u001b[0;32m      5\u001b[0m     df\u001b[38;5;241m.\u001b[39mpivot_table(\n\u001b[0;32m      6\u001b[0m         index\u001b[38;5;241m=\u001b[39m\u001b[38;5;124m'\u001b[39m\u001b[38;5;124mETH_Price_final_range\u001b[39m\u001b[38;5;124m'\u001b[39m,\n\u001b[0;32m      7\u001b[0m         values\u001b[38;5;241m=\u001b[39m[\u001b[38;5;124m'\u001b[39m\u001b[38;5;124mETH Price\u001b[39m\u001b[38;5;124m'\u001b[39m, \u001b[38;5;124m'\u001b[39m\u001b[38;5;124mTarget Value\u001b[39m\u001b[38;5;124m'\u001b[39m],\n\u001b[0;32m      8\u001b[0m                 aggfunc\u001b[38;5;241m=\u001b[39m{\u001b[38;5;124m'\u001b[39m\u001b[38;5;124mETH Price\u001b[39m\u001b[38;5;124m'\u001b[39m: \u001b[38;5;124m'\u001b[39m\u001b[38;5;124mcount\u001b[39m\u001b[38;5;124m'\u001b[39m,\u001b[38;5;124m'\u001b[39m\u001b[38;5;124mTarget Value\u001b[39m\u001b[38;5;124m'\u001b[39m: [\u001b[38;5;124m'\u001b[39m\u001b[38;5;124msum\u001b[39m\u001b[38;5;124m'\u001b[39m, \u001b[38;5;124m'\u001b[39m\u001b[38;5;124mmean\u001b[39m\u001b[38;5;124m'\u001b[39m]},)\u001b[38;5;241m.\u001b[39mreset_index())\n\u001b[0;32m      9\u001b[0m \u001b[38;5;66;03m# הצג את הטבלה החדשה\u001b[39;00m\n",
      "File \u001b[1;32mc:\\Users\\אריה ושרי אטינגר\\AppData\\Local\\Programs\\Python\\Python312\\Lib\\site-packages\\pandas\\core\\indexing.py:1184\u001b[0m, in \u001b[0;36m_LocationIndexer.__getitem__\u001b[1;34m(self, key)\u001b[0m\n\u001b[0;32m   1182\u001b[0m     \u001b[38;5;28;01mif\u001b[39;00m \u001b[38;5;28mself\u001b[39m\u001b[38;5;241m.\u001b[39m_is_scalar_access(key):\n\u001b[0;32m   1183\u001b[0m         \u001b[38;5;28;01mreturn\u001b[39;00m \u001b[38;5;28mself\u001b[39m\u001b[38;5;241m.\u001b[39mobj\u001b[38;5;241m.\u001b[39m_get_value(\u001b[38;5;241m*\u001b[39mkey, takeable\u001b[38;5;241m=\u001b[39m\u001b[38;5;28mself\u001b[39m\u001b[38;5;241m.\u001b[39m_takeable)\n\u001b[1;32m-> 1184\u001b[0m     \u001b[38;5;28;01mreturn\u001b[39;00m \u001b[38;5;28;43mself\u001b[39;49m\u001b[38;5;241;43m.\u001b[39;49m\u001b[43m_getitem_tuple\u001b[49m\u001b[43m(\u001b[49m\u001b[43mkey\u001b[49m\u001b[43m)\u001b[49m\n\u001b[0;32m   1185\u001b[0m \u001b[38;5;28;01melse\u001b[39;00m:\n\u001b[0;32m   1186\u001b[0m     \u001b[38;5;66;03m# we by definition only have the 0th axis\u001b[39;00m\n\u001b[0;32m   1187\u001b[0m     axis \u001b[38;5;241m=\u001b[39m \u001b[38;5;28mself\u001b[39m\u001b[38;5;241m.\u001b[39maxis \u001b[38;5;129;01mor\u001b[39;00m \u001b[38;5;241m0\u001b[39m\n",
      "File \u001b[1;32mc:\\Users\\אריה ושרי אטינגר\\AppData\\Local\\Programs\\Python\\Python312\\Lib\\site-packages\\pandas\\core\\indexing.py:1377\u001b[0m, in \u001b[0;36m_LocIndexer._getitem_tuple\u001b[1;34m(self, tup)\u001b[0m\n\u001b[0;32m   1374\u001b[0m \u001b[38;5;28;01mif\u001b[39;00m \u001b[38;5;28mself\u001b[39m\u001b[38;5;241m.\u001b[39m_multi_take_opportunity(tup):\n\u001b[0;32m   1375\u001b[0m     \u001b[38;5;28;01mreturn\u001b[39;00m \u001b[38;5;28mself\u001b[39m\u001b[38;5;241m.\u001b[39m_multi_take(tup)\n\u001b[1;32m-> 1377\u001b[0m \u001b[38;5;28;01mreturn\u001b[39;00m \u001b[38;5;28;43mself\u001b[39;49m\u001b[38;5;241;43m.\u001b[39;49m\u001b[43m_getitem_tuple_same_dim\u001b[49m\u001b[43m(\u001b[49m\u001b[43mtup\u001b[49m\u001b[43m)\u001b[49m\n",
      "File \u001b[1;32mc:\\Users\\אריה ושרי אטינגר\\AppData\\Local\\Programs\\Python\\Python312\\Lib\\site-packages\\pandas\\core\\indexing.py:1020\u001b[0m, in \u001b[0;36m_LocationIndexer._getitem_tuple_same_dim\u001b[1;34m(self, tup)\u001b[0m\n\u001b[0;32m   1017\u001b[0m \u001b[38;5;28;01mif\u001b[39;00m com\u001b[38;5;241m.\u001b[39mis_null_slice(key):\n\u001b[0;32m   1018\u001b[0m     \u001b[38;5;28;01mcontinue\u001b[39;00m\n\u001b[1;32m-> 1020\u001b[0m retval \u001b[38;5;241m=\u001b[39m \u001b[38;5;28;43mgetattr\u001b[39;49m\u001b[43m(\u001b[49m\u001b[43mretval\u001b[49m\u001b[43m,\u001b[49m\u001b[43m \u001b[49m\u001b[38;5;28;43mself\u001b[39;49m\u001b[38;5;241;43m.\u001b[39;49m\u001b[43mname\u001b[49m\u001b[43m)\u001b[49m\u001b[38;5;241;43m.\u001b[39;49m\u001b[43m_getitem_axis\u001b[49m\u001b[43m(\u001b[49m\u001b[43mkey\u001b[49m\u001b[43m,\u001b[49m\u001b[43m \u001b[49m\u001b[43maxis\u001b[49m\u001b[38;5;241;43m=\u001b[39;49m\u001b[43mi\u001b[49m\u001b[43m)\u001b[49m\n\u001b[0;32m   1021\u001b[0m \u001b[38;5;66;03m# We should never have retval.ndim < self.ndim, as that should\u001b[39;00m\n\u001b[0;32m   1022\u001b[0m \u001b[38;5;66;03m#  be handled by the _getitem_lowerdim call above.\u001b[39;00m\n\u001b[0;32m   1023\u001b[0m \u001b[38;5;28;01massert\u001b[39;00m retval\u001b[38;5;241m.\u001b[39mndim \u001b[38;5;241m==\u001b[39m \u001b[38;5;28mself\u001b[39m\u001b[38;5;241m.\u001b[39mndim\n",
      "File \u001b[1;32mc:\\Users\\אריה ושרי אטינגר\\AppData\\Local\\Programs\\Python\\Python312\\Lib\\site-packages\\pandas\\core\\indexing.py:1420\u001b[0m, in \u001b[0;36m_LocIndexer._getitem_axis\u001b[1;34m(self, key, axis)\u001b[0m\n\u001b[0;32m   1417\u001b[0m     \u001b[38;5;28;01mif\u001b[39;00m \u001b[38;5;28mhasattr\u001b[39m(key, \u001b[38;5;124m\"\u001b[39m\u001b[38;5;124mndim\u001b[39m\u001b[38;5;124m\"\u001b[39m) \u001b[38;5;129;01mand\u001b[39;00m key\u001b[38;5;241m.\u001b[39mndim \u001b[38;5;241m>\u001b[39m \u001b[38;5;241m1\u001b[39m:\n\u001b[0;32m   1418\u001b[0m         \u001b[38;5;28;01mraise\u001b[39;00m \u001b[38;5;167;01mValueError\u001b[39;00m(\u001b[38;5;124m\"\u001b[39m\u001b[38;5;124mCannot index with multidimensional key\u001b[39m\u001b[38;5;124m\"\u001b[39m)\n\u001b[1;32m-> 1420\u001b[0m     \u001b[38;5;28;01mreturn\u001b[39;00m \u001b[38;5;28;43mself\u001b[39;49m\u001b[38;5;241;43m.\u001b[39;49m\u001b[43m_getitem_iterable\u001b[49m\u001b[43m(\u001b[49m\u001b[43mkey\u001b[49m\u001b[43m,\u001b[49m\u001b[43m \u001b[49m\u001b[43maxis\u001b[49m\u001b[38;5;241;43m=\u001b[39;49m\u001b[43maxis\u001b[49m\u001b[43m)\u001b[49m\n\u001b[0;32m   1422\u001b[0m \u001b[38;5;66;03m# nested tuple slicing\u001b[39;00m\n\u001b[0;32m   1423\u001b[0m \u001b[38;5;28;01mif\u001b[39;00m is_nested_tuple(key, labels):\n",
      "File \u001b[1;32mc:\\Users\\אריה ושרי אטינגר\\AppData\\Local\\Programs\\Python\\Python312\\Lib\\site-packages\\pandas\\core\\indexing.py:1360\u001b[0m, in \u001b[0;36m_LocIndexer._getitem_iterable\u001b[1;34m(self, key, axis)\u001b[0m\n\u001b[0;32m   1357\u001b[0m \u001b[38;5;28mself\u001b[39m\u001b[38;5;241m.\u001b[39m_validate_key(key, axis)\n\u001b[0;32m   1359\u001b[0m \u001b[38;5;66;03m# A collection of keys\u001b[39;00m\n\u001b[1;32m-> 1360\u001b[0m keyarr, indexer \u001b[38;5;241m=\u001b[39m \u001b[38;5;28;43mself\u001b[39;49m\u001b[38;5;241;43m.\u001b[39;49m\u001b[43m_get_listlike_indexer\u001b[49m\u001b[43m(\u001b[49m\u001b[43mkey\u001b[49m\u001b[43m,\u001b[49m\u001b[43m \u001b[49m\u001b[43maxis\u001b[49m\u001b[43m)\u001b[49m\n\u001b[0;32m   1361\u001b[0m \u001b[38;5;28;01mreturn\u001b[39;00m \u001b[38;5;28mself\u001b[39m\u001b[38;5;241m.\u001b[39mobj\u001b[38;5;241m.\u001b[39m_reindex_with_indexers(\n\u001b[0;32m   1362\u001b[0m     {axis: [keyarr, indexer]}, copy\u001b[38;5;241m=\u001b[39m\u001b[38;5;28;01mTrue\u001b[39;00m, allow_dups\u001b[38;5;241m=\u001b[39m\u001b[38;5;28;01mTrue\u001b[39;00m\n\u001b[0;32m   1363\u001b[0m )\n",
      "File \u001b[1;32mc:\\Users\\אריה ושרי אטינגר\\AppData\\Local\\Programs\\Python\\Python312\\Lib\\site-packages\\pandas\\core\\indexing.py:1558\u001b[0m, in \u001b[0;36m_LocIndexer._get_listlike_indexer\u001b[1;34m(self, key, axis)\u001b[0m\n\u001b[0;32m   1555\u001b[0m ax \u001b[38;5;241m=\u001b[39m \u001b[38;5;28mself\u001b[39m\u001b[38;5;241m.\u001b[39mobj\u001b[38;5;241m.\u001b[39m_get_axis(axis)\n\u001b[0;32m   1556\u001b[0m axis_name \u001b[38;5;241m=\u001b[39m \u001b[38;5;28mself\u001b[39m\u001b[38;5;241m.\u001b[39mobj\u001b[38;5;241m.\u001b[39m_get_axis_name(axis)\n\u001b[1;32m-> 1558\u001b[0m keyarr, indexer \u001b[38;5;241m=\u001b[39m \u001b[43max\u001b[49m\u001b[38;5;241;43m.\u001b[39;49m\u001b[43m_get_indexer_strict\u001b[49m\u001b[43m(\u001b[49m\u001b[43mkey\u001b[49m\u001b[43m,\u001b[49m\u001b[43m \u001b[49m\u001b[43maxis_name\u001b[49m\u001b[43m)\u001b[49m\n\u001b[0;32m   1560\u001b[0m \u001b[38;5;28;01mreturn\u001b[39;00m keyarr, indexer\n",
      "File \u001b[1;32mc:\\Users\\אריה ושרי אטינגר\\AppData\\Local\\Programs\\Python\\Python312\\Lib\\site-packages\\pandas\\core\\indexes\\base.py:6200\u001b[0m, in \u001b[0;36mIndex._get_indexer_strict\u001b[1;34m(self, key, axis_name)\u001b[0m\n\u001b[0;32m   6197\u001b[0m \u001b[38;5;28;01melse\u001b[39;00m:\n\u001b[0;32m   6198\u001b[0m     keyarr, indexer, new_indexer \u001b[38;5;241m=\u001b[39m \u001b[38;5;28mself\u001b[39m\u001b[38;5;241m.\u001b[39m_reindex_non_unique(keyarr)\n\u001b[1;32m-> 6200\u001b[0m \u001b[38;5;28;43mself\u001b[39;49m\u001b[38;5;241;43m.\u001b[39;49m\u001b[43m_raise_if_missing\u001b[49m\u001b[43m(\u001b[49m\u001b[43mkeyarr\u001b[49m\u001b[43m,\u001b[49m\u001b[43m \u001b[49m\u001b[43mindexer\u001b[49m\u001b[43m,\u001b[49m\u001b[43m \u001b[49m\u001b[43maxis_name\u001b[49m\u001b[43m)\u001b[49m\n\u001b[0;32m   6202\u001b[0m keyarr \u001b[38;5;241m=\u001b[39m \u001b[38;5;28mself\u001b[39m\u001b[38;5;241m.\u001b[39mtake(indexer)\n\u001b[0;32m   6203\u001b[0m \u001b[38;5;28;01mif\u001b[39;00m \u001b[38;5;28misinstance\u001b[39m(key, Index):\n\u001b[0;32m   6204\u001b[0m     \u001b[38;5;66;03m# GH 42790 - Preserve name from an Index\u001b[39;00m\n",
      "File \u001b[1;32mc:\\Users\\אריה ושרי אטינגר\\AppData\\Local\\Programs\\Python\\Python312\\Lib\\site-packages\\pandas\\core\\indexes\\base.py:6252\u001b[0m, in \u001b[0;36mIndex._raise_if_missing\u001b[1;34m(self, key, indexer, axis_name)\u001b[0m\n\u001b[0;32m   6249\u001b[0m     \u001b[38;5;28;01mraise\u001b[39;00m \u001b[38;5;167;01mKeyError\u001b[39;00m(\u001b[38;5;124mf\u001b[39m\u001b[38;5;124m\"\u001b[39m\u001b[38;5;124mNone of [\u001b[39m\u001b[38;5;132;01m{\u001b[39;00mkey\u001b[38;5;132;01m}\u001b[39;00m\u001b[38;5;124m] are in the [\u001b[39m\u001b[38;5;132;01m{\u001b[39;00maxis_name\u001b[38;5;132;01m}\u001b[39;00m\u001b[38;5;124m]\u001b[39m\u001b[38;5;124m\"\u001b[39m)\n\u001b[0;32m   6251\u001b[0m not_found \u001b[38;5;241m=\u001b[39m \u001b[38;5;28mlist\u001b[39m(ensure_index(key)[missing_mask\u001b[38;5;241m.\u001b[39mnonzero()[\u001b[38;5;241m0\u001b[39m]]\u001b[38;5;241m.\u001b[39munique())\n\u001b[1;32m-> 6252\u001b[0m \u001b[38;5;28;01mraise\u001b[39;00m \u001b[38;5;167;01mKeyError\u001b[39;00m(\u001b[38;5;124mf\u001b[39m\u001b[38;5;124m\"\u001b[39m\u001b[38;5;132;01m{\u001b[39;00mnot_found\u001b[38;5;132;01m}\u001b[39;00m\u001b[38;5;124m not in index\u001b[39m\u001b[38;5;124m\"\u001b[39m)\n",
      "\u001b[1;31mKeyError\u001b[0m: \"['DXY_final_range'] not in index\""
     ]
    }
   ],
   "source": [
    "\n",
    "df[\"ETH_Price_final_range\"]= np.where(df[\"ETH Price\"]<=1473,\"less1474\",\"grater1474\")\n",
    "df_new3=df.loc[:,[\"ETH Price\",\"DXY_final_range\"]]\n",
    "\n",
    "df_ETH_Price_final_range = (\n",
    "    df.pivot_table(\n",
    "        index='ETH_Price_final_range',\n",
    "        values=['ETH Price', 'Target Value'],\n",
    "                aggfunc={'ETH Price': 'count','Target Value': ['sum', 'mean']},).reset_index())\n",
    "# הצג את הטבלה החדשה\n",
    "print(df_ETH_Price_final_range)"
   ]
  },
  {
   "cell_type": "code",
   "execution_count": null,
   "id": "ae00bd35-08ed-4753-92ef-2f79b58c0793",
   "metadata": {},
   "outputs": [
    {
     "name": "stdout",
     "output_type": "stream",
     "text": [
      "  SN&P_Adjusted_final_range SN&P Adjusted Target Value     \n",
      "                                    count         mean  sum\n",
      "0                grater2690          2129     0.267262  569\n",
      "1                  less2690           519     0.441233  229\n"
     ]
    }
   ],
   "source": [
    "\n",
    "df[\"SN&P_Adjusted_final_range\"]= np.where(df[\"SN&P Adjusted\"]<=2690,\"less2690\",\"grater2690\")\n",
    "df_new3=df.loc[:,[\"SN&P Adjusted\",\"SN&P_Adjusted_final_range\"]]\n",
    "# print(df_new3.head(200))\n",
    "\n",
    "\n",
    "df_SNP_Adjusted_final_range = (\n",
    "    df.pivot_table(\n",
    "        index='SN&P_Adjusted_final_range',\n",
    "        values=['SN&P Adjusted', 'Target Value'],\n",
    "                aggfunc={'SN&P Adjusted': 'count','Target Value': ['sum', 'mean']},).reset_index())\n",
    "# הצג את הטבלה החדשה\n",
    "print(df_SNP_Adjusted_final_range)"
   ]
  },
  {
   "cell_type": "code",
   "execution_count": null,
   "id": "d8d988b8-d1f5-4322-842d-a9d66e783aa9",
   "metadata": {},
   "outputs": [],
   "source": [
    "df_hashprice_no_nan= df.loc[:, ['BTC_Hashprice', 'Target Value']].dropna()"
   ]
  },
  {
   "cell_type": "code",
   "execution_count": null,
   "id": "c61d56dc-a211-4045-a3ed-913d441ac240",
   "metadata": {},
   "outputs": [
    {
     "data": {
      "text/plain": [
       "BTC_Hashprice    0\n",
       "Target Value     0\n",
       "dtype: int64"
      ]
     },
     "execution_count": 61,
     "metadata": {},
     "output_type": "execute_result"
    }
   ],
   "source": [
    "df_hashprice_no_nan.isnull().sum()"
   ]
  },
  {
   "cell_type": "code",
   "execution_count": null,
   "id": "5ff2e8aa-a9c5-4f82-8c70-fd88f4e8814e",
   "metadata": {},
   "outputs": [
    {
     "data": {
      "text/html": [
       "<div>\n",
       "<style scoped>\n",
       "    .dataframe tbody tr th:only-of-type {\n",
       "        vertical-align: middle;\n",
       "    }\n",
       "\n",
       "    .dataframe tbody tr th {\n",
       "        vertical-align: top;\n",
       "    }\n",
       "\n",
       "    .dataframe thead th {\n",
       "        text-align: right;\n",
       "    }\n",
       "</style>\n",
       "<table border=\"1\" class=\"dataframe\">\n",
       "  <thead>\n",
       "    <tr style=\"text-align: right;\">\n",
       "      <th></th>\n",
       "      <th>BTC_Hashprice</th>\n",
       "      <th>Target Value</th>\n",
       "    </tr>\n",
       "  </thead>\n",
       "  <tbody>\n",
       "    <tr>\n",
       "      <th>0</th>\n",
       "      <td>0.000003</td>\n",
       "      <td>0</td>\n",
       "    </tr>\n",
       "    <tr>\n",
       "      <th>1</th>\n",
       "      <td>0.000002</td>\n",
       "      <td>0</td>\n",
       "    </tr>\n",
       "    <tr>\n",
       "      <th>2</th>\n",
       "      <td>0.000002</td>\n",
       "      <td>0</td>\n",
       "    </tr>\n",
       "    <tr>\n",
       "      <th>3</th>\n",
       "      <td>0.000002</td>\n",
       "      <td>1</td>\n",
       "    </tr>\n",
       "    <tr>\n",
       "      <th>4</th>\n",
       "      <td>0.000002</td>\n",
       "      <td>1</td>\n",
       "    </tr>\n",
       "    <tr>\n",
       "      <th>5</th>\n",
       "      <td>0.000002</td>\n",
       "      <td>0</td>\n",
       "    </tr>\n",
       "    <tr>\n",
       "      <th>6</th>\n",
       "      <td>0.000002</td>\n",
       "      <td>1</td>\n",
       "    </tr>\n",
       "    <tr>\n",
       "      <th>7</th>\n",
       "      <td>0.000002</td>\n",
       "      <td>0</td>\n",
       "    </tr>\n",
       "    <tr>\n",
       "      <th>8</th>\n",
       "      <td>0.000002</td>\n",
       "      <td>1</td>\n",
       "    </tr>\n",
       "    <tr>\n",
       "      <th>9</th>\n",
       "      <td>0.000002</td>\n",
       "      <td>1</td>\n",
       "    </tr>\n",
       "  </tbody>\n",
       "</table>\n",
       "</div>"
      ],
      "text/plain": [
       "   BTC_Hashprice  Target Value\n",
       "0       0.000003             0\n",
       "1       0.000002             0\n",
       "2       0.000002             0\n",
       "3       0.000002             1\n",
       "4       0.000002             1\n",
       "5       0.000002             0\n",
       "6       0.000002             1\n",
       "7       0.000002             0\n",
       "8       0.000002             1\n",
       "9       0.000002             1"
      ]
     },
     "execution_count": 63,
     "metadata": {},
     "output_type": "execute_result"
    }
   ],
   "source": [
    "df_hashprice_no_nan.head(10)"
   ]
  },
  {
   "cell_type": "code",
   "execution_count": null,
   "id": "86a2c80d-4156-465a-b907-a01613503e12",
   "metadata": {},
   "outputs": [
    {
     "name": "stdout",
     "output_type": "stream",
     "text": [
      "  BTC_Hashprice_final_range BTC_Hashprice Target Value     \n",
      "                                    count         mean  sum\n",
      "0                    less63          1828     0.271335  496\n"
     ]
    }
   ],
   "source": [
    "\n",
    "df_hashprice_no_nan[\"BTC_Hashprice_final_range\"]= np.where(df_hashprice_no_nan[\"BTC_Hashprice\"]<=63,\"less63\",np.where(df_hashprice_no_nan[\"BTC_Hashprice\"] > 103,\"grater103\",\"63-103\"))\n",
    "df_new=df_hashprice_no_nan.loc[:,[\"BTC_Hashprice\",\"BTC_Hashprice_final_range\"]]\n",
    "df_new.head(100)\n",
    "\n",
    "# יצירת טבלת ציר עם df_Crypto_no_nan\n",
    "BTC_Hashprice_final_range = (\n",
    "    df_hashprice_no_nan.pivot_table(\n",
    "        index='BTC_Hashprice_final_range',\n",
    "        values=['BTC_Hashprice', 'Target Value'],\n",
    "        aggfunc={'BTC_Hashprice': 'count','Target Value': ['sum', 'mean']},\n",
    "    ).reset_index()\n",
    ")\n",
    "\n",
    "# הצגת הטבלה החדשה\n",
    "print(BTC_Hashprice_final_range)\n"
   ]
  },
  {
   "cell_type": "code",
   "execution_count": null,
   "id": "e39b5985-0761-4247-b86a-2077cec4421c",
   "metadata": {},
   "outputs": [],
   "source": [
    "nan_rows = df_hashprice_nan[df_hashprice_nan['BTC_Hashprice'].isnull()]"
   ]
  },
  {
   "cell_type": "code",
   "execution_count": null,
   "id": "4574053a-9b0a-4663-b5b7-773fb0c01b5a",
   "metadata": {},
   "outputs": [
    {
     "data": {
      "text/html": [
       "<div>\n",
       "<style scoped>\n",
       "    .dataframe tbody tr th:only-of-type {\n",
       "        vertical-align: middle;\n",
       "    }\n",
       "\n",
       "    .dataframe tbody tr th {\n",
       "        vertical-align: top;\n",
       "    }\n",
       "\n",
       "    .dataframe thead th {\n",
       "        text-align: right;\n",
       "    }\n",
       "</style>\n",
       "<table border=\"1\" class=\"dataframe\">\n",
       "  <thead>\n",
       "    <tr style=\"text-align: right;\">\n",
       "      <th></th>\n",
       "      <th>BTC_Hashprice</th>\n",
       "      <th>Target Value</th>\n",
       "    </tr>\n",
       "  </thead>\n",
       "  <tbody>\n",
       "    <tr>\n",
       "      <th>1828</th>\n",
       "      <td>NaN</td>\n",
       "      <td>0</td>\n",
       "    </tr>\n",
       "    <tr>\n",
       "      <th>1829</th>\n",
       "      <td>NaN</td>\n",
       "      <td>0</td>\n",
       "    </tr>\n",
       "    <tr>\n",
       "      <th>1830</th>\n",
       "      <td>NaN</td>\n",
       "      <td>0</td>\n",
       "    </tr>\n",
       "    <tr>\n",
       "      <th>1831</th>\n",
       "      <td>NaN</td>\n",
       "      <td>0</td>\n",
       "    </tr>\n",
       "    <tr>\n",
       "      <th>1832</th>\n",
       "      <td>NaN</td>\n",
       "      <td>0</td>\n",
       "    </tr>\n",
       "    <tr>\n",
       "      <th>...</th>\n",
       "      <td>...</td>\n",
       "      <td>...</td>\n",
       "    </tr>\n",
       "    <tr>\n",
       "      <th>2643</th>\n",
       "      <td>NaN</td>\n",
       "      <td>0</td>\n",
       "    </tr>\n",
       "    <tr>\n",
       "      <th>2644</th>\n",
       "      <td>NaN</td>\n",
       "      <td>1</td>\n",
       "    </tr>\n",
       "    <tr>\n",
       "      <th>2645</th>\n",
       "      <td>NaN</td>\n",
       "      <td>0</td>\n",
       "    </tr>\n",
       "    <tr>\n",
       "      <th>2646</th>\n",
       "      <td>NaN</td>\n",
       "      <td>0</td>\n",
       "    </tr>\n",
       "    <tr>\n",
       "      <th>2647</th>\n",
       "      <td>NaN</td>\n",
       "      <td>1</td>\n",
       "    </tr>\n",
       "  </tbody>\n",
       "</table>\n",
       "<p>820 rows × 2 columns</p>\n",
       "</div>"
      ],
      "text/plain": [
       "      BTC_Hashprice  Target Value\n",
       "1828            NaN             0\n",
       "1829            NaN             0\n",
       "1830            NaN             0\n",
       "1831            NaN             0\n",
       "1832            NaN             0\n",
       "...             ...           ...\n",
       "2643            NaN             0\n",
       "2644            NaN             1\n",
       "2645            NaN             0\n",
       "2646            NaN             0\n",
       "2647            NaN             1\n",
       "\n",
       "[820 rows x 2 columns]"
      ]
     },
     "execution_count": 68,
     "metadata": {},
     "output_type": "execute_result"
    }
   ],
   "source": [
    "nan_rows"
   ]
  },
  {
   "cell_type": "code",
   "execution_count": null,
   "id": "2c27c0ed-6cea-48cd-bb24-4f2cbdf5f2a8",
   "metadata": {},
   "outputs": [],
   "source": [
    "# לייצר 2 DF אחד עם NULL אחד ללא ל2 העמודות הבעיתיות לייצר טבלאות עם כמות ואחוז "
   ]
  },
  {
   "cell_type": "code",
   "execution_count": null,
   "id": "dd4a4be2-d6fb-493c-b8b3-95a06bd2961a",
   "metadata": {},
   "outputs": [],
   "source": [
    "# Crypto Volatility Index\n",
    "df_Crypto_no_nan= df.loc[:, ['Crypto Volatility Index', 'Target Value']].dropna()"
   ]
  },
  {
   "cell_type": "code",
   "execution_count": null,
   "id": "5a96f064-bd53-4aa1-9076-ac59a66dd003",
   "metadata": {},
   "outputs": [
    {
     "data": {
      "text/plain": [
       "Crypto Volatility Index    0\n",
       "Target Value               0\n",
       "dtype: int64"
      ]
     },
     "execution_count": 70,
     "metadata": {},
     "output_type": "execute_result"
    }
   ],
   "source": [
    "df_Crypto_no_nan.isnull().sum()"
   ]
  },
  {
   "cell_type": "code",
   "execution_count": null,
   "id": "9fe0cdf2-a3fa-454b-bed1-7b8e9681104f",
   "metadata": {},
   "outputs": [
    {
     "data": {
      "text/html": [
       "<div>\n",
       "<style scoped>\n",
       "    .dataframe tbody tr th:only-of-type {\n",
       "        vertical-align: middle;\n",
       "    }\n",
       "\n",
       "    .dataframe tbody tr th {\n",
       "        vertical-align: top;\n",
       "    }\n",
       "\n",
       "    .dataframe thead th {\n",
       "        text-align: right;\n",
       "    }\n",
       "</style>\n",
       "<table border=\"1\" class=\"dataframe\">\n",
       "  <thead>\n",
       "    <tr style=\"text-align: right;\">\n",
       "      <th></th>\n",
       "      <th>Crypto Volatility Index</th>\n",
       "      <th>Target Value</th>\n",
       "    </tr>\n",
       "  </thead>\n",
       "  <tbody>\n",
       "    <tr>\n",
       "      <th>0</th>\n",
       "      <td>75.1890</td>\n",
       "      <td>0</td>\n",
       "    </tr>\n",
       "    <tr>\n",
       "      <th>1</th>\n",
       "      <td>74.3407</td>\n",
       "      <td>0</td>\n",
       "    </tr>\n",
       "    <tr>\n",
       "      <th>2</th>\n",
       "      <td>73.6438</td>\n",
       "      <td>0</td>\n",
       "    </tr>\n",
       "    <tr>\n",
       "      <th>3</th>\n",
       "      <td>72.4399</td>\n",
       "      <td>1</td>\n",
       "    </tr>\n",
       "    <tr>\n",
       "      <th>4</th>\n",
       "      <td>74.0805</td>\n",
       "      <td>1</td>\n",
       "    </tr>\n",
       "    <tr>\n",
       "      <th>5</th>\n",
       "      <td>75.3234</td>\n",
       "      <td>0</td>\n",
       "    </tr>\n",
       "    <tr>\n",
       "      <th>6</th>\n",
       "      <td>73.2947</td>\n",
       "      <td>1</td>\n",
       "    </tr>\n",
       "    <tr>\n",
       "      <th>7</th>\n",
       "      <td>76.0104</td>\n",
       "      <td>0</td>\n",
       "    </tr>\n",
       "    <tr>\n",
       "      <th>8</th>\n",
       "      <td>74.7614</td>\n",
       "      <td>1</td>\n",
       "    </tr>\n",
       "    <tr>\n",
       "      <th>9</th>\n",
       "      <td>68.5513</td>\n",
       "      <td>1</td>\n",
       "    </tr>\n",
       "  </tbody>\n",
       "</table>\n",
       "</div>"
      ],
      "text/plain": [
       "   Crypto Volatility Index  Target Value\n",
       "0                  75.1890             0\n",
       "1                  74.3407             0\n",
       "2                  73.6438             0\n",
       "3                  72.4399             1\n",
       "4                  74.0805             1\n",
       "5                  75.3234             0\n",
       "6                  73.2947             1\n",
       "7                  76.0104             0\n",
       "8                  74.7614             1\n",
       "9                  68.5513             1"
      ]
     },
     "execution_count": 71,
     "metadata": {},
     "output_type": "execute_result"
    }
   ],
   "source": [
    "df_Crypto_no_nan.head(10)"
   ]
  },
  {
   "cell_type": "code",
   "execution_count": null,
   "id": "8ad20957-d79c-403c-bb21-c70ba62bf4d4",
   "metadata": {},
   "outputs": [
    {
     "name": "stdout",
     "output_type": "stream",
     "text": [
      "  crypto_volatility_final_range Crypto Volatility Index Target Value     \n",
      "                                                  count         mean  sum\n",
      "0                        63-103                    1164     0.281787  328\n",
      "1                     grater103                     207     0.507246  105\n",
      "2                        less63                     474     0.132911   63\n"
     ]
    }
   ],
   "source": [
    "\n",
    "df_Crypto_no_nan[\"crypto_volatility_final_range\"]= np.where(df_Crypto_no_nan[\"Crypto Volatility Index\"]<=63,\"less63\",np.where(df_Crypto_no_nan[\"Crypto Volatility Index\"] > 103,\"grater103\",\"63-103\"))\n",
    "df_new=df_Crypto_no_nan.loc[:,[\"Crypto Volatility Index\",\"crypto_volatility_final_range\"]]\n",
    "df_new.head(100)\n",
    "\n",
    "# יצירת טבלת ציר עם df_Crypto_no_nan\n",
    "df_Crypto_volatility_final_range = (\n",
    "    df_Crypto_no_nan.pivot_table(\n",
    "        index='crypto_volatility_final_range',\n",
    "        values=['Crypto Volatility Index', 'Target Value'],\n",
    "        aggfunc={'Crypto Volatility Index': 'count','Target Value': ['sum', 'mean']},\n",
    "    ).reset_index()\n",
    ")\n",
    "\n",
    "# הצגת הטבלה החדשה\n",
    "print(df_Crypto_volatility_final_range)\n"
   ]
  },
  {
   "cell_type": "code",
   "execution_count": null,
   "id": "c56e3ed2-1c5a-42e0-a538-7aa39c603c6a",
   "metadata": {},
   "outputs": [],
   "source": [
    "df_Crypto_nan = df.loc[:, ['Crypto Volatility Index', 'Target Value']]"
   ]
  },
  {
   "cell_type": "code",
   "execution_count": null,
   "id": "5a10361f-7f8d-4f1e-9de0-0733f33e6494",
   "metadata": {},
   "outputs": [
    {
     "data": {
      "text/html": [
       "<div>\n",
       "<style scoped>\n",
       "    .dataframe tbody tr th:only-of-type {\n",
       "        vertical-align: middle;\n",
       "    }\n",
       "\n",
       "    .dataframe tbody tr th {\n",
       "        vertical-align: top;\n",
       "    }\n",
       "\n",
       "    .dataframe thead th {\n",
       "        text-align: right;\n",
       "    }\n",
       "</style>\n",
       "<table border=\"1\" class=\"dataframe\">\n",
       "  <thead>\n",
       "    <tr style=\"text-align: right;\">\n",
       "      <th></th>\n",
       "      <th>Crypto Volatility Index</th>\n",
       "      <th>Target Value</th>\n",
       "    </tr>\n",
       "  </thead>\n",
       "  <tbody>\n",
       "    <tr>\n",
       "      <th>0</th>\n",
       "      <td>75.1890</td>\n",
       "      <td>0</td>\n",
       "    </tr>\n",
       "    <tr>\n",
       "      <th>1</th>\n",
       "      <td>74.3407</td>\n",
       "      <td>0</td>\n",
       "    </tr>\n",
       "    <tr>\n",
       "      <th>2</th>\n",
       "      <td>73.6438</td>\n",
       "      <td>0</td>\n",
       "    </tr>\n",
       "    <tr>\n",
       "      <th>3</th>\n",
       "      <td>72.4399</td>\n",
       "      <td>1</td>\n",
       "    </tr>\n",
       "    <tr>\n",
       "      <th>4</th>\n",
       "      <td>74.0805</td>\n",
       "      <td>1</td>\n",
       "    </tr>\n",
       "    <tr>\n",
       "      <th>5</th>\n",
       "      <td>75.3234</td>\n",
       "      <td>0</td>\n",
       "    </tr>\n",
       "    <tr>\n",
       "      <th>6</th>\n",
       "      <td>73.2947</td>\n",
       "      <td>1</td>\n",
       "    </tr>\n",
       "    <tr>\n",
       "      <th>7</th>\n",
       "      <td>76.0104</td>\n",
       "      <td>0</td>\n",
       "    </tr>\n",
       "    <tr>\n",
       "      <th>8</th>\n",
       "      <td>74.7614</td>\n",
       "      <td>1</td>\n",
       "    </tr>\n",
       "    <tr>\n",
       "      <th>9</th>\n",
       "      <td>68.5513</td>\n",
       "      <td>1</td>\n",
       "    </tr>\n",
       "  </tbody>\n",
       "</table>\n",
       "</div>"
      ],
      "text/plain": [
       "   Crypto Volatility Index  Target Value\n",
       "0                  75.1890             0\n",
       "1                  74.3407             0\n",
       "2                  73.6438             0\n",
       "3                  72.4399             1\n",
       "4                  74.0805             1\n",
       "5                  75.3234             0\n",
       "6                  73.2947             1\n",
       "7                  76.0104             0\n",
       "8                  74.7614             1\n",
       "9                  68.5513             1"
      ]
     },
     "execution_count": 74,
     "metadata": {},
     "output_type": "execute_result"
    }
   ],
   "source": [
    "df_Crypto_nan.head(10)"
   ]
  },
  {
   "cell_type": "code",
   "execution_count": null,
   "id": "ede94a47-b75c-47ce-ba74-ec61dec5ed0f",
   "metadata": {},
   "outputs": [],
   "source": [
    "nan_rows_Crypto = df_Crypto_nan[df_Crypto_nan['Crypto Volatility Index'].isnull()]"
   ]
  },
  {
   "cell_type": "code",
   "execution_count": null,
   "id": "20fd7d77-bf27-4b69-bafc-e8f1510c7d74",
   "metadata": {},
   "outputs": [
    {
     "data": {
      "text/html": [
       "<div>\n",
       "<style scoped>\n",
       "    .dataframe tbody tr th:only-of-type {\n",
       "        vertical-align: middle;\n",
       "    }\n",
       "\n",
       "    .dataframe tbody tr th {\n",
       "        vertical-align: top;\n",
       "    }\n",
       "\n",
       "    .dataframe thead th {\n",
       "        text-align: right;\n",
       "    }\n",
       "</style>\n",
       "<table border=\"1\" class=\"dataframe\">\n",
       "  <thead>\n",
       "    <tr style=\"text-align: right;\">\n",
       "      <th></th>\n",
       "      <th>Crypto Volatility Index</th>\n",
       "      <th>Target Value</th>\n",
       "    </tr>\n",
       "  </thead>\n",
       "  <tbody>\n",
       "    <tr>\n",
       "      <th>319</th>\n",
       "      <td>NaN</td>\n",
       "      <td>1</td>\n",
       "    </tr>\n",
       "    <tr>\n",
       "      <th>671</th>\n",
       "      <td>NaN</td>\n",
       "      <td>0</td>\n",
       "    </tr>\n",
       "    <tr>\n",
       "      <th>778</th>\n",
       "      <td>NaN</td>\n",
       "      <td>0</td>\n",
       "    </tr>\n",
       "    <tr>\n",
       "      <th>779</th>\n",
       "      <td>NaN</td>\n",
       "      <td>1</td>\n",
       "    </tr>\n",
       "    <tr>\n",
       "      <th>1849</th>\n",
       "      <td>NaN</td>\n",
       "      <td>0</td>\n",
       "    </tr>\n",
       "    <tr>\n",
       "      <th>...</th>\n",
       "      <td>...</td>\n",
       "      <td>...</td>\n",
       "    </tr>\n",
       "    <tr>\n",
       "      <th>2643</th>\n",
       "      <td>NaN</td>\n",
       "      <td>0</td>\n",
       "    </tr>\n",
       "    <tr>\n",
       "      <th>2644</th>\n",
       "      <td>NaN</td>\n",
       "      <td>1</td>\n",
       "    </tr>\n",
       "    <tr>\n",
       "      <th>2645</th>\n",
       "      <td>NaN</td>\n",
       "      <td>0</td>\n",
       "    </tr>\n",
       "    <tr>\n",
       "      <th>2646</th>\n",
       "      <td>NaN</td>\n",
       "      <td>0</td>\n",
       "    </tr>\n",
       "    <tr>\n",
       "      <th>2647</th>\n",
       "      <td>NaN</td>\n",
       "      <td>1</td>\n",
       "    </tr>\n",
       "  </tbody>\n",
       "</table>\n",
       "<p>803 rows × 2 columns</p>\n",
       "</div>"
      ],
      "text/plain": [
       "      Crypto Volatility Index  Target Value\n",
       "319                       NaN             1\n",
       "671                       NaN             0\n",
       "778                       NaN             0\n",
       "779                       NaN             1\n",
       "1849                      NaN             0\n",
       "...                       ...           ...\n",
       "2643                      NaN             0\n",
       "2644                      NaN             1\n",
       "2645                      NaN             0\n",
       "2646                      NaN             0\n",
       "2647                      NaN             1\n",
       "\n",
       "[803 rows x 2 columns]"
      ]
     },
     "execution_count": 76,
     "metadata": {},
     "output_type": "execute_result"
    }
   ],
   "source": [
    "nan_rows_Crypto"
   ]
  }
 ],
 "metadata": {
  "kernelspec": {
   "display_name": "Python 3 (ipykernel)",
   "language": "python",
   "name": "python3"
  },
  "language_info": {
   "codemirror_mode": {
    "name": "ipython",
    "version": 3
   },
   "file_extension": ".py",
   "mimetype": "text/x-python",
   "name": "python",
   "nbconvert_exporter": "python",
   "pygments_lexer": "ipython3",
   "version": "3.12.4"
  }
 },
 "nbformat": 4,
 "nbformat_minor": 5
}
